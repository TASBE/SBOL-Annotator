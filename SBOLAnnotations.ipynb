{
 "cells": [
  {
   "cell_type": "code",
   "execution_count": 7,
   "metadata": {},
   "outputs": [
    {
     "data": {
      "text/html": [
       "<script>\n",
       "code_show=true; \n",
       "function code_toggle() {\n",
       "if (code_show){\n",
       "$('div.input').hide();\n",
       "} else {\n",
       "$('div.input').show();\n",
       "}\n",
       "code_show = !code_show\n",
       "} \n",
       "$( document ).ready(code_toggle);\n",
       "</script>\n",
       "<form action=\"javascript:code_toggle()\"><input type=\"submit\" value=\"View/Hide Raw Code\"></form>"
      ],
      "text/plain": [
       "<IPython.core.display.HTML object>"
      ]
     },
     "execution_count": 7,
     "metadata": {},
     "output_type": "execute_result"
    }
   ],
   "source": [
    "from IPython.display import HTML\n",
    "\n",
    "HTML('''<script>\n",
    "code_show=true; \n",
    "function code_toggle() {\n",
    "if (code_show){\n",
    "$('div.input').hide();\n",
    "} else {\n",
    "$('div.input').show();\n",
    "}\n",
    "code_show = !code_show\n",
    "} \n",
    "$( document ).ready(code_toggle);\n",
    "</script>\n",
    "<form action=\"javascript:code_toggle()\"><input type=\"submit\" value=\"View/Hide Raw Code\"></form>''')"
   ]
  },
  {
   "cell_type": "markdown",
   "metadata": {},
   "source": [
    "# Converting the GenBank File to SBOL\n",
    "1. Upload the GenBank file or place in the same folder.\n",
    "2. Enter the file name and the URI prefix that you want to use.\n",
    "3. Enter a version (optional).\n",
    "4. Hit send and it will create an SBOL file with the same name."
   ]
  },
  {
   "cell_type": "code",
   "execution_count": 8,
   "metadata": {
    "scrolled": false
   },
   "outputs": [
    {
     "data": {
      "application/vnd.jupyter.widget-view+json": {
       "model_id": "87e5c6b3e7044cb2a459806ee7c4fa8d",
       "version_major": 2,
       "version_minor": 0
      },
      "text/plain": [
       "Text(value='', description='File Name:', placeholder='Enter file name')"
      ]
     },
     "metadata": {},
     "output_type": "display_data"
    },
    {
     "data": {
      "application/vnd.jupyter.widget-view+json": {
       "model_id": "62a6708aaa58491f8da937d7bacb0132",
       "version_major": 2,
       "version_minor": 0
      },
      "text/plain": [
       "Text(value='', description='URI Prefix:', placeholder='Enter URI Prefix')"
      ]
     },
     "metadata": {},
     "output_type": "display_data"
    },
    {
     "data": {
      "application/vnd.jupyter.widget-view+json": {
       "model_id": "5b69848403bb4f0d84890ced5800f224",
       "version_major": 2,
       "version_minor": 0
      },
      "text/plain": [
       "Text(value='', description='Version:', placeholder='Enter Version (optional)')"
      ]
     },
     "metadata": {},
     "output_type": "display_data"
    },
    {
     "data": {
      "application/vnd.jupyter.widget-view+json": {
       "model_id": "2a3943e0500a43148d16316b39ba1132",
       "version_major": 2,
       "version_minor": 0
      },
      "text/plain": [
       "Button(description='Send', style=ButtonStyle(), tooltip='Converts Genbank file to SBOL')"
      ]
     },
     "metadata": {},
     "output_type": "display_data"
    },
    {
     "data": {
      "application/vnd.jupyter.widget-view+json": {
       "model_id": "c7aec1f36992468e8010a4be3be53198",
       "version_major": 2,
       "version_minor": 0
      },
      "text/plain": [
       "Output()"
      ]
     },
     "metadata": {},
     "output_type": "display_data"
    },
    {
     "data": {
      "application/javascript": [
       "IPython.notebook.execute_cell_range(IPython.notebook.get_selected_index()+1, IPython.notebook.ncells())"
      ],
      "text/plain": [
       "<IPython.core.display.Javascript object>"
      ]
     },
     "metadata": {},
     "output_type": "display_data"
    }
   ],
   "source": [
    "from sbol import *\n",
    "import ipywidgets as widgets\n",
    "from IPython.display import Javascript, display, clear_output\n",
    "import requests\n",
    "import os\n",
    "import os.path\n",
    "\n",
    "fileName = widgets.Text(\n",
    "    value = '',\n",
    "    placeholder = 'Enter file name',\n",
    "    description = 'File Name:',\n",
    "    disabled = False\n",
    ")\n",
    "\n",
    "URIPrefix = widgets.Text(\n",
    "    value = '',\n",
    "    placeholder = 'Enter URI Prefix',\n",
    "    description = 'URI Prefix:',\n",
    "    disabled = False\n",
    ")\n",
    "\n",
    "version = widgets.Text(\n",
    "    value = '',\n",
    "    placeholder = 'Enter Version (optional)',\n",
    "    description = 'Version:',\n",
    "    disabled = False\n",
    ")\n",
    "\n",
    "sendButton = widgets.Button(\n",
    "    description = 'Send',\n",
    "    disabled = False,\n",
    "    button_style = '',\n",
    "    tooltip = 'Converts Genbank file to SBOL',\n",
    "    icon = ''\n",
    ")\n",
    "\n",
    "out = widgets.Output()\n",
    "\n",
    "display(fileName)\n",
    "display(URIPrefix)\n",
    "display(version)\n",
    "display(sendButton)\n",
    "\n",
    "@out.capture()\n",
    "def sendRequest(sender):\n",
    "    clear_output()\n",
    "    if fileName.value == '' and URIPrefix.value == '':\n",
    "        print('You need both a file name and URI Prefix!')\n",
    "        return\n",
    "    if fileName.value == '':\n",
    "        print('You need a file name!')\n",
    "        return\n",
    "    if URIPrefix.value == '':\n",
    "        print('You need a URI Prefix!')\n",
    "        return\n",
    "    setHomespace(URIPrefix.value)\n",
    "    gbFile = open(fileName.value).read()\n",
    "\n",
    "    request = { 'options': {'language' : 'SBOL2',\n",
    "                        'test_equality': False,\n",
    "                        'check_uri_compliance': False,\n",
    "                        'check_completeness': False,\n",
    "                        'check_best_practices': False,\n",
    "                        'fail_on_first_error': False,\n",
    "                        'provide_detailed_stack_trace': False,\n",
    "                        'subset_uri': '',\n",
    "                        'uri_prefix': URIPrefix.value,\n",
    "                        'version': '',\n",
    "                        'insert_type': False,\n",
    "                        'main_file_name': 'main file',\n",
    "                        'diff_file_name': 'comparison file',\n",
    "                                },\n",
    "            'return_file': True,\n",
    "            'main_file': gbFile\n",
    "          }\n",
    "\n",
    "    response = requests.post(\"http://www.async.ece.utah.edu/validate/\", json=request)\n",
    "    xmlResponse = response.json()['result']\n",
    "    \n",
    "    sbolFile = open(fileName.value[:-3] + '.xml', 'w+')\n",
    "    sbolFile.write(xmlResponse)\n",
    "    print('Success!')\n",
    "\n",
    "sendButton.on_click(sendRequest)\n",
    "display(out)\n",
    "display(Javascript('IPython.notebook.execute_cell_range(IPython.notebook.get_selected_index()+1, IPython.notebook.ncells())'))"
   ]
  },
  {
   "cell_type": "markdown",
   "metadata": {},
   "source": [
    "# Reading in the SBOL File\n",
    "Reads in an SBOL file and displays the Component Definitions."
   ]
  },
  {
   "cell_type": "code",
   "execution_count": 9,
   "metadata": {},
   "outputs": [
    {
     "data": {
      "application/vnd.jupyter.widget-view+json": {
       "model_id": "8f815be99d2a419fa7e2181e14277aa2",
       "version_major": 2,
       "version_minor": 0
      },
      "text/plain": [
       "Text(value='', description='File Name:', placeholder='Enter SBOL file name')"
      ]
     },
     "metadata": {},
     "output_type": "display_data"
    },
    {
     "data": {
      "application/vnd.jupyter.widget-view+json": {
       "model_id": "793e0ee29e89427e97b6065f53a58a04",
       "version_major": 2,
       "version_minor": 0
      },
      "text/plain": [
       "Button(description='Submit', style=ButtonStyle(), tooltip='Reads in the SBOL file')"
      ]
     },
     "metadata": {},
     "output_type": "display_data"
    },
    {
     "data": {
      "application/vnd.jupyter.widget-view+json": {
       "model_id": "45f1e9a3d6454f1197bd16a650f32920",
       "version_major": 2,
       "version_minor": 0
      },
      "text/plain": [
       "Output()"
      ]
     },
     "metadata": {},
     "output_type": "display_data"
    }
   ],
   "source": [
    "from sbol import *\n",
    "import ipywidgets as widgets\n",
    "from IPython.display import Javascript, display, clear_output\n",
    "import requests\n",
    "import os\n",
    "import os.path\n",
    "\n",
    "fileNameSBOL = widgets.Text(\n",
    "    value = '',\n",
    "    placeholder = 'Enter SBOL file name',\n",
    "    description = 'File Name:',\n",
    "    disabled = False\n",
    ")\n",
    "\n",
    "submit = widgets.Button(\n",
    "    description = 'Submit',\n",
    "    disabled = False,\n",
    "    button_style = '',\n",
    "    tooltip = 'Reads in the SBOL file',\n",
    "    icon = ''\n",
    ")\n",
    "\n",
    "out = widgets.Output()\n",
    "\n",
    "display(fileNameSBOL)\n",
    "display(submit)\n",
    "\n",
    "doc = Document()\n",
    "setHomespace('https://bu.edu/ben')\n",
    "Config.setOption('sbol_typed_uris', False)\n",
    "PATH = './'\n",
    "\n",
    "@out.capture()\n",
    "def showDoc(sender):\n",
    "    clear_output()\n",
    "    if fileNameSBOL.value != '':\n",
    "        if os.path.isfile(PATH + fileNameSBOL.value) and (fileNameSBOL.value[-3:] == 'xml' or fileNameSBOL.value[-3:] == 'rdf'):\n",
    "            doc.read(fileNameSBOL.value)\n",
    "            print(doc)\n",
    "        else:\n",
    "            print('Invalid file name!')\n",
    "    else:\n",
    "        print('You need a file name!')\n",
    "    \n",
    "    display(Javascript('IPython.notebook.execute_cell_range(IPython.notebook.get_selected_index()+1, IPython.notebook.ncells())'))\n",
    "\n",
    "\n",
    "submit.on_click(showDoc)\n",
    "display(out)"
   ]
  },
  {
   "cell_type": "markdown",
   "metadata": {},
   "source": [
    "# Add a Component"
   ]
  },
  {
   "cell_type": "code",
   "execution_count": 14,
   "metadata": {},
   "outputs": [
    {
     "data": {
      "application/vnd.jupyter.widget-view+json": {
       "model_id": "20b361145e1c45f9bbd825f66464f53e",
       "version_major": 2,
       "version_minor": 0
      },
      "text/plain": [
       "Text(value='', description='Name:', placeholder='Enter a component name')"
      ]
     },
     "metadata": {},
     "output_type": "display_data"
    },
    {
     "data": {
      "application/vnd.jupyter.widget-view+json": {
       "model_id": "7b7d522f89084e089e521ad17f9a9bfa",
       "version_major": 2,
       "version_minor": 0
      },
      "text/plain": [
       "Dropdown(description='Type:', options=('DNA', 'RNA', 'Protein', 'Small Molecule', 'Complex'), value='DNA')"
      ]
     },
     "metadata": {},
     "output_type": "display_data"
    },
    {
     "data": {
      "application/vnd.jupyter.widget-view+json": {
       "model_id": "63c84d423bf443e9828b8ba30f6b77af",
       "version_major": 2,
       "version_minor": 0
      },
      "text/plain": [
       "Dropdown(description='Role:', options=('', 'Miscellaneous', 'Promoter', 'RBS', 'CDS', 'Terminator', 'Gene', 'O…"
      ]
     },
     "metadata": {},
     "output_type": "display_data"
    },
    {
     "data": {
      "application/vnd.jupyter.widget-view+json": {
       "model_id": "08ff2b54a9a5465982ce981895c890eb",
       "version_major": 2,
       "version_minor": 0
      },
      "text/plain": [
       "Button(description='Create', style=ButtonStyle(), tooltip='Creates a new Component Definition ')"
      ]
     },
     "metadata": {},
     "output_type": "display_data"
    },
    {
     "data": {
      "application/vnd.jupyter.widget-view+json": {
       "model_id": "bc74b6f2bca34c968e63a5f6d396619a",
       "version_major": 2,
       "version_minor": 0
      },
      "text/plain": [
       "Output()"
      ]
     },
     "metadata": {},
     "output_type": "display_data"
    }
   ],
   "source": [
    "from sbol import *\n",
    "import ipywidgets as widgets\n",
    "from IPython.display import clear_output, Markdown\n",
    "\n",
    "componentTypes = ['DNA', 'RNA', 'Protein', 'Small Molecule', 'Complex']\n",
    "\n",
    "componentRoles = ['', 'Miscellaneous', 'Promoter', 'RBS', 'CDS', 'Terminator',\n",
    "                  'Gene', 'Operator', 'Engineered Gene', 'mRNA', 'Effector']\n",
    "\n",
    "typesMap = {'DNA':'http://www.biopax.org/release/biopax-level3.owl#DnaRegion',\n",
    "            'RNA':'http://www.biopax.org/release/biopax-level3.owl#RnaRegion',\n",
    "            'Protein':'http://www.biopax.org/release/biopax-level3.owl#Protein',\n",
    "            'Small Molecule':'http://www.biopax.org/release/biopax-level3.owl#SmallMolecule',\n",
    "            'Complex':'http://www.biopax.org/release/biopax-level3.owl#Complex'}\n",
    "\n",
    "rolesMap = {'Miscellaneous':'http://identifiers.org/so/SO:0000001',\n",
    "            'Promoter':'http://identifiers.org/so/SO:0000167',\n",
    "            'RBS':'http://identifiers.org/so/SO:0000139',\n",
    "            'CDS':'http://identifiers.org/so/SO:0000316',\n",
    "            'Terminator':'http://identifiers.org/so/SO:0000141',\n",
    "            'Gene':'http://identifiers.org/so/SO:0000704',\n",
    "            'Operator':'http://identifiers.org/so/SO:0000057',\n",
    "            'Engineered Gene':'http://identifiers.org/so/SO:0000280',\n",
    "            'mRNA':'http://identifiers.org/so/SO:0000234',\n",
    "            'Effector':'http://identifiers.org/chebi/CHEBI:35224',\n",
    "            'Transcription Factor':'http://identifiers.org/go/GO:0003700'}\n",
    "\n",
    "componentName = widgets.Text(\n",
    "    value = '',\n",
    "    placeholder = 'Enter a component name',\n",
    "    description = 'Name:',\n",
    "    disabled = False,\n",
    ")\n",
    "\n",
    "typeDrop = widgets.Dropdown(\n",
    "    options = componentTypes,\n",
    "    description = 'Type:',\n",
    "    disabled = False\n",
    ")\n",
    "\n",
    "roleDrop = widgets.Dropdown(\n",
    "    options = componentRoles,\n",
    "    description = 'Role:',\n",
    "    disabled = False\n",
    ")\n",
    "\n",
    "createButton = widgets.Button(\n",
    "    description = 'Create',\n",
    "    disabled = False,\n",
    "    button_style = '',\n",
    "    tooltip = 'Creates a new Component Definition ',\n",
    "    icon = ''\n",
    ")\n",
    "\n",
    "outBox = widgets.Output()\n",
    "\n",
    "display(componentName)\n",
    "display(typeDrop)\n",
    "display(roleDrop)\n",
    "display(createButton)\n",
    "display(outBox)\n",
    "\n",
    "@outBox.capture()\n",
    "def createButtonHandler(sender):\n",
    "    clear_output()\n",
    "    if componentName.value == '':\n",
    "        print('You need a component name!')\n",
    "        return\n",
    "    \n",
    "    try:\n",
    "        newComponentDefinition = ComponentDefinition(componentName.value, typesMap[typeDrop.value])\n",
    "        if roleDrop.value != '':\n",
    "            newComponentDefinition.roles = rolesMap[roleDrop.value]\n",
    "    except Exception as e:\n",
    "        print(e)\n",
    "        return\n",
    "    \n",
    "    try:\n",
    "        doc.addComponentDefinition(newComponentDefinition)\n",
    "        display(Javascript('IPython.notebook.execute_cell_range(IPython.notebook.get_selected_index()+1, IPython.notebook.ncells())'))\n",
    "        print('Component created!')\n",
    "    except RuntimeError:\n",
    "        print('Component name already exists!')\n",
    "\n",
    "createButton.on_click(createButtonHandler)"
   ]
  },
  {
   "cell_type": "markdown",
   "metadata": {},
   "source": [
    "# Component Definitions"
   ]
  },
  {
   "cell_type": "code",
   "execution_count": 27,
   "metadata": {
    "scrolled": false
   },
   "outputs": [
    {
     "data": {
      "application/vnd.jupyter.widget-view+json": {
       "model_id": "ae445c240de846dd8cf423f4dfdf7f05",
       "version_major": 2,
       "version_minor": 0
      },
      "text/plain": [
       "Accordion(children=(VBox(children=(HTML(value='<d1><dt><u>Description</u>:</dt>araC-Pbad - Arabinose inducible…"
      ]
     },
     "metadata": {},
     "output_type": "display_data"
    }
   ],
   "source": [
    "from sbol import *\n",
    "import ipywidgets as widgets\n",
    "from IPython.display import clear_output, Markdown\n",
    "\n",
    "typeDict = {'http://www.biopax.org/release/biopax-level3.owl#DnaRegion':'DNA',\n",
    "            'http://www.biopax.org/release/biopax-level3.owl#RnaRegion':'RNA',\n",
    "            'http://www.biopax.org/release/biopax-level3.owl#Protein':'Protein',\n",
    "            'http://www.biopax.org/release/biopax-level3.owl#SmallMolecule': 'Small Molecule',\n",
    "            'http://www.biopax.org/release/biopax-level3.owl#Complex':'Complex'}\n",
    "\n",
    "roleDict = {'http://identifiers.org/so/SO:0000001':'Miscellaneous', \n",
    "            'http://identifiers.org/so/SO:0000167':'Promoter',\n",
    "            'http://identifiers.org/so/SO:0000139':'RBS',\n",
    "            'http://identifiers.org/so/SO:0000316':'CDS',\n",
    "            'http://identifiers.org/so/SO:0000141':'Terminator',\n",
    "            'http://identifiers.org/so/SO:0000704':'Gene',\n",
    "            'http://identifiers.org/so/SO:0000057':'Operator',\n",
    "            'http://identifiers.org/so/SO:0000280':'Engineered Gene',\n",
    "            'http://identifiers.org/so/SO:0000234':'mRNA',\n",
    "            'http://identifiers.org/chebi/CHEBI:35224':'Effector',\n",
    "            'http://identifiers.org/go/GO:0003700':'Transcription Factor'}\n",
    "\n",
    "# flag = False\n",
    "\n",
    "# for cd in doc.componentDefinitions:\n",
    "#     if len(cd.sequenceAnnotations) is not 0:\n",
    "#         for sa in cd.sequenceAnnotations:\n",
    "#             if sa.component is None:\n",
    "#                 flag = True\n",
    "\n",
    "copyCDs = []\n",
    "\n",
    "for cd in doc.componentDefinitions:\n",
    "    num = 0\n",
    "    for sa in cd.sequenceAnnotations:\n",
    "        if sa.name == 'misc_feature':\n",
    "            sa.name = 'misc_feature' + str(num)\n",
    "            num = num + 1\n",
    "            \n",
    "    copyCDs.append(cd)\n",
    "\n",
    "for cd in copyCDs:\n",
    "    if len(cd.components) == 0 and len(cd.sequenceAnnotations) != 0:\n",
    "        for sa in cd.sequenceAnnotations:\n",
    "            if sa.component == None:\n",
    "                sa.extract()\n",
    "                \n",
    "# if len(doc.componentDefinitions) is 1:\n",
    "#     cd = doc.componentDefinitions[0]\n",
    "#     if len(cd.sequenceAnnotations) is not 0:\n",
    "#         for sa in cd.sequenceAnnotations:\n",
    "#             if sa.component is None:\n",
    "#                 sa.extract()\n",
    "\n",
    "numCD = len(doc.componentDefinitions)\n",
    "contents = []\n",
    "for i in range(numCD):\n",
    "    contents.append(widgets.VBox())\n",
    "    \n",
    "accordion = widgets.Accordion(children = contents)\n",
    "            \n",
    "            \n",
    "# Prints all ComponenentDefinitions in the SBOL file\n",
    "for index, cd in enumerate(doc.componentDefinitions):\n",
    "    box = contents[index]\n",
    "    accordion.set_title(index, cd.displayId)\n",
    "    childrenList = []\n",
    "    htmlString = ''\n",
    "    \n",
    "    if cd.description is not None:\n",
    "        htmlString = htmlString + '<dt><u>Description</u>:</dt>' + cd.description + '</dt>'\n",
    "    if len(cd.types) is not 0:\n",
    "        htmlString = htmlString + '<dt><u>Type(s)</u>:</dt>'\n",
    "        for typeComponent in cd.types:\n",
    "            if typeComponent in typeDict:\n",
    "                htmlString = htmlString + '<dd>-&nbsp' + typeDict[typeComponent] + '</dd>'\n",
    "            else:\n",
    "                htmlString = htmlString + '<dd>-&nbspOther</dd>' \n",
    "    if len(cd.roles) is not 0:\n",
    "        htmlString = htmlString + '<dt><u>Role(s)</u>:</dt>'\n",
    "        for role in cd.roles:\n",
    "            if role in roleDict:\n",
    "                htmlString = htmlString + '<dd>-&nbsp' + roleDict[role] + '</dd>'\n",
    "            else:\n",
    "                htmlString = htmlString + '<dd>-&nbspOther</dd>'\n",
    "    if len(cd.components) is not 0:\n",
    "        htmlString = htmlString + '<dt><u>Components</u>:</dt>'\n",
    "        for component in cd.components:\n",
    "            htmlString = htmlString + '<dd>-&nbsp' + component.name + '</dd>'\n",
    "            \n",
    "    childrenList.append(widgets.HTML('<d1>' + htmlString + '</d1>'))\n",
    "    box.children = childrenList\n",
    "\n",
    "display(accordion)"
   ]
  },
  {
   "cell_type": "markdown",
   "metadata": {},
   "source": [
    "# Creating Module Definitions"
   ]
  },
  {
   "cell_type": "code",
   "execution_count": 28,
   "metadata": {},
   "outputs": [
    {
     "data": {
      "application/vnd.jupyter.widget-view+json": {
       "model_id": "f43192519b0e49d6a23ba049e2600538",
       "version_major": 2,
       "version_minor": 0
      },
      "text/plain": [
       "SelectMultiple(description='Components:', options=('BBa_K808000', 'misc_feature0', 'misc_feature1', 'CDS', 'pr…"
      ]
     },
     "metadata": {},
     "output_type": "display_data"
    },
    {
     "data": {
      "application/vnd.jupyter.widget-view+json": {
       "model_id": "6207c7dc201141cba55d06913003a27b",
       "version_major": 2,
       "version_minor": 0
      },
      "text/plain": [
       "Button(description='Create Module', style=ButtonStyle(), tooltip='Creates module definition')"
      ]
     },
     "metadata": {},
     "output_type": "display_data"
    },
    {
     "data": {
      "application/vnd.jupyter.widget-view+json": {
       "model_id": "5438759a980f4a03ab9912e42a15dd8a",
       "version_major": 2,
       "version_minor": 0
      },
      "text/plain": [
       "Output()"
      ]
     },
     "metadata": {},
     "output_type": "display_data"
    }
   ],
   "source": [
    "from sbol import *\n",
    "import ipywidgets as widgets\n",
    "from IPython.display import clear_output, Markdown\n",
    "\n",
    "componentNames = []\n",
    "mapComponents = {}\n",
    "\n",
    "for cd in doc.componentDefinitions:\n",
    "    componentNames.append(cd.displayId)\n",
    "    mapComponents[cd.displayId] = cd\n",
    "\n",
    "componentDefsMod = widgets.SelectMultiple(\n",
    "    options = componentNames,\n",
    "    description = 'Components:',\n",
    "    rows = len(componentNames),\n",
    "    disabled = False\n",
    ")\n",
    "\n",
    "createMD = widgets.Button(\n",
    "    description = 'Create Module',\n",
    "    disabled = False,\n",
    "    button_style = '',\n",
    "    tooltip = 'Creates module definition',\n",
    "    icon = ''\n",
    ")\n",
    "\n",
    "createMDOut = widgets.Output()\n",
    "\n",
    "display(componentDefsMod)\n",
    "display(createMD)\n",
    "display(createMDOut)\n",
    "\n",
    "@createMDOut.capture()\n",
    "def createModuleResponse(sender):\n",
    "    print('hi')\n",
    "\n",
    "createMD.on_click(createModuleResponse)"
   ]
  },
  {
   "cell_type": "markdown",
   "metadata": {},
   "source": [
    "# Module Definitions"
   ]
  },
  {
   "cell_type": "code",
   "execution_count": null,
   "metadata": {},
   "outputs": [],
   "source": []
  },
  {
   "cell_type": "markdown",
   "metadata": {},
   "source": [
    "# Adding Interactions\n",
    "Select more than one component with `shift + click` or `control (cmd) + click`."
   ]
  },
  {
   "cell_type": "code",
   "execution_count": 30,
   "metadata": {
    "scrolled": false
   },
   "outputs": [
    {
     "data": {
      "application/vnd.jupyter.widget-view+json": {
       "model_id": "4cb33b98c2d5412fa09e9036a3059142",
       "version_major": 2,
       "version_minor": 0
      },
      "text/plain": [
       "SelectMultiple(description='Components:', options=('BBa_K808000', 'misc_feature0', 'misc_feature1', 'CDS', 'pr…"
      ]
     },
     "metadata": {},
     "output_type": "display_data"
    },
    {
     "data": {
      "application/vnd.jupyter.widget-view+json": {
       "model_id": "ed4b5c3d861f42e08a36f3dd6d805614",
       "version_major": 2,
       "version_minor": 0
      },
      "text/plain": [
       "Dropdown(description='Interaction:', options=('Inhibition', 'Stimulation', 'Biochemical Reaction', 'Non-Covale…"
      ]
     },
     "metadata": {},
     "output_type": "display_data"
    },
    {
     "data": {
      "application/vnd.jupyter.widget-view+json": {
       "model_id": "7b2613652cba44a9bc5e31fdac5659a0",
       "version_major": 2,
       "version_minor": 0
      },
      "text/plain": [
       "Button(description='Submit', style=ButtonStyle(), tooltip='Converts ')"
      ]
     },
     "metadata": {},
     "output_type": "display_data"
    },
    {
     "data": {
      "application/vnd.jupyter.widget-view+json": {
       "model_id": "366acc54016c47ad8a02a9fb5fa12fdb",
       "version_major": 2,
       "version_minor": 0
      },
      "text/plain": [
       "Output()"
      ]
     },
     "metadata": {},
     "output_type": "display_data"
    },
    {
     "data": {
      "application/vnd.jupyter.widget-view+json": {
       "model_id": "4d33db79a6de44f08470b20cf0c38d11",
       "version_major": 2,
       "version_minor": 0
      },
      "text/plain": [
       "Button(description='Change', style=ButtonStyle(), tooltip='Changes interaction')"
      ]
     },
     "metadata": {},
     "output_type": "display_data"
    },
    {
     "data": {
      "application/vnd.jupyter.widget-view+json": {
       "model_id": "829aff9f28774fdeb04d98c8d7d7e22e",
       "version_major": 2,
       "version_minor": 0
      },
      "text/plain": [
       "VBox(children=(Dropdown(description='CDS:', options=('Inhibitor', 'Inhibited', 'Stimulator', 'Stimulated', 'Re…"
      ]
     },
     "metadata": {},
     "output_type": "display_data"
    },
    {
     "data": {
      "application/vnd.jupyter.widget-view+json": {
       "model_id": "2d73513e0e004c64b22bb3ec40a058d0",
       "version_major": 2,
       "version_minor": 0
      },
      "text/plain": [
       "Button(description='Create Interaction', style=ButtonStyle(), tooltip='Creates interaction')"
      ]
     },
     "metadata": {},
     "output_type": "display_data"
    }
   ],
   "source": [
    "from sbol import *\n",
    "import ipywidgets as widgets\n",
    "from IPython.display import clear_output, Markdown\n",
    "\n",
    "setHomespace('https://bu.edu/ben')\n",
    "\n",
    "# modules = []\n",
    "\n",
    "componentNames = []\n",
    "mapComponents = {}\n",
    "\n",
    "for cd in doc.componentDefinitions:\n",
    "    componentNames.append(cd.displayId)\n",
    "    mapComponents[cd.displayId] = cd\n",
    "    \n",
    "typesInteractions = ['Inhibition', 'Stimulation', 'Biochemical Reaction', \n",
    "                     'Non-Covalent Binding', 'Degradation', 'Genetic Production', \n",
    "                     'Control']\n",
    "mapInteractions = {'Inhibition':'http://identifiers.org/biomodels.sbo/SBO:0000169', \n",
    "                   'Stimulation':'http://identifiers.org/biomodels.sbo/SBO:0000170', \n",
    "                   'Biochemical Reaction':'http://identifiers.org/biomodels.sbo/SBO:0000176', \n",
    "                     'Non-Covalent Binding':'http://identifiers.org/biomodels.sbo/SBO:0000177', \n",
    "                   'Degradation':'http://identifiers.org/biomodels.sbo/SBO:0000179', \n",
    "                   'Genetic Production':'http://identifiers.org/biomodels.sbo/SBO:0000589', \n",
    "                     'Control':'http://identifiers.org/biomodels.sbo/SBO:0000168'}\n",
    "\n",
    "typesParticipants = ['Inhibitor', 'Inhibited', 'Stimulator', 'Stimulated', 'Reactant',\n",
    "                     'Product', 'Promoter', 'Modifier', 'Modified', 'Template']\n",
    "mapParticipants = {'Inhibitor':'http://identifiers.org/biomodels.sbo/SBO:0000020',\n",
    "                   'Inhibited':'http://identifiers.org/biomodels.sbo/SBO:0000642',\n",
    "                   'Stimulator':'http://identifiers.org/biomodels.sbo/SBO:0000459',\n",
    "                   'Stimulated':'http://identifiers.org/biomodels.sbo/SBO:0000643',\n",
    "                   'Reactant':'http://identifiers.org/biomodels.sbo/SBO:0000010',\n",
    "                   'Product':'http://identifiers.org/biomodels.sbo/SBO:0000011',\n",
    "                   'Promoter':'http://identifiers.org/biomodels.sbo/SBO:0000598',\n",
    "                   'Modifier':'http://identifiers.org/biomodels.sbo/SBO:0000019',\n",
    "                   'Modified':'http://identifiers.org/biomodels.sbo/SBO:0000644',\n",
    "                   'Template':'http://identifiers.org/biomodels.sbo/SBO:0000645'}\n",
    "\n",
    "\n",
    "participants = widgets.SelectMultiple(\n",
    "    options = componentNames,\n",
    "    description = 'Components:',\n",
    "    rows = len(componentNames),\n",
    "    disabled = False\n",
    ")\n",
    "\n",
    "interaction = widgets.Dropdown(\n",
    "    options = typesInteractions,\n",
    "    description = 'Interaction:',\n",
    "    value = None,\n",
    "    disabled = False\n",
    ")\n",
    "\n",
    "submitButton = widgets.Button(\n",
    "    description = 'Submit',\n",
    "    disabled = False,\n",
    "    button_style = '',\n",
    "    tooltip = 'Converts ',######## ADJKLAKLSDJL\n",
    "    icon = ''\n",
    ")\n",
    "\n",
    "changeButton = widgets.Button(\n",
    "    description = 'Change',\n",
    "    disabled = False,\n",
    "    button_style = '',\n",
    "    tooltip = 'Changes interaction',\n",
    "    icon = ''\n",
    ")\n",
    "\n",
    "createInteraction = widgets.Button(\n",
    "    description = 'Create Interaction',\n",
    "    disabled = False,\n",
    "    button_style = '',\n",
    "    tooltip = 'Creates interaction',\n",
    "    icon = ''\n",
    ")\n",
    "\n",
    "interactionWidgets = widgets.VBox()\n",
    "\n",
    "outputBox = widgets.Output()\n",
    "\n",
    "display(participants)\n",
    "display(interaction)\n",
    "display(submitButton)\n",
    "display(outputBox)\n",
    "\n",
    "currentMD = ModuleDefinition()\n",
    "currentInteraction = Interaction()\n",
    "\n",
    "moduleCounter = 0\n",
    "\n",
    "@outputBox.capture()\n",
    "def printMessage(line):\n",
    "    print(line)\n",
    "\n",
    "\n",
    "def submitResponder(sender):\n",
    "    global currentMD, currentInteraction, moduleCounter\n",
    "    \n",
    "    outputBox.clear_output()\n",
    "    \n",
    "    if len(participants.value) == 0:\n",
    "        printMessage('You need to select components!')\n",
    "        return\n",
    "    \n",
    "    fcMap = {}\n",
    "    items = []\n",
    "    \n",
    "    md = ModuleDefinition('md'+ str(moduleCounter))\n",
    "    moduleCounter += 1\n",
    "    \n",
    "    interactionModule = md.interactions.create(interaction.value.replace(' ', '_').replace('-', '_'))\n",
    "    interactionModule.types = mapInteractions[interaction.value]\n",
    "    currentInteraction = interactionModule\n",
    "    \n",
    "    for p in participants.value:\n",
    "        fc = md.functionalComponents.create(p)\n",
    "        fcMap[p] = fc\n",
    "        fc.definition = mapComponents[p].identity\n",
    "        fc.access = SBOL_ACCESS_PUBLIC\n",
    "        fc.direction = SBOL_DIRECTION_NONE\n",
    "        \n",
    "        items.append(widgets.Dropdown(options = typesParticipants, description = p + ':', disabled = False, \n",
    "                     style = {'description_width': 'initial'}))\n",
    "        interactionWidgets.children = items\n",
    "        \n",
    "        \n",
    "    \n",
    "    currentMD = md\n",
    "    \n",
    "    participants.disabled = True\n",
    "    interaction.disabled = True\n",
    "    submitButton.disabled = True\n",
    "    \n",
    "    if changeButton.layout.display == 'none':\n",
    "        changeButton.layout.display = None\n",
    "        interactionWidgets.layout.display = None\n",
    "        createInteraction.layout.display = None\n",
    "    else:\n",
    "        display(changeButton)\n",
    "        display(interactionWidgets)\n",
    "        display(createInteraction)\n",
    "    \n",
    "\n",
    "\n",
    "def changeResponder(sender):\n",
    "    global moduleCounter\n",
    "    \n",
    "    interactionWidgets.children = []\n",
    "    interactionWidgets.hidden = True\n",
    "    interactionWidgets.layout.display = 'none'\n",
    "    changeButton.layout.display = 'none'\n",
    "    createInteraction.layout.display = 'none'\n",
    "    \n",
    "    participants.disabled = False\n",
    "    interaction.disabled = False\n",
    "    submitButton.disabled = False\n",
    "    \n",
    "    moduleCounter -= 1\n",
    "    \n",
    "def createResponder(sender):\n",
    "    for index, widget in enumerate(interactionWidgets.children):\n",
    "        participation = currentInteraction.participations.create(widget.description[:-1])\n",
    "        participation.roles = mapParticipants[widget.value]\n",
    "        participation.participant = currentMD.functionalComponents[index].identity\n",
    "    \n",
    "    doc.addModuleDefinition(currentMD)\n",
    "    \n",
    "    interactionWidgets.children = []\n",
    "    interactionWidgets.hidden = True\n",
    "    interactionWidgets.layout.display = 'none'\n",
    "    changeButton.layout.display = 'none'\n",
    "    createInteraction.layout.display = 'none'\n",
    "    \n",
    "    participants.disabled = False\n",
    "    interaction.disabled = False\n",
    "    submitButton.disabled = False\n",
    "    \n",
    "    participants.value = []\n",
    "    interaction.value = None\n",
    "    \n",
    "    printMessage('Interaction created!')\n",
    "    doc.write('hi.xml')\n",
    "\n",
    "\n",
    "submitButton.on_click(submitResponder)\n",
    "changeButton.on_click(changeResponder)\n",
    "createInteraction.on_click(createResponder)"
   ]
  },
  {
   "cell_type": "markdown",
   "metadata": {},
   "source": [
    "# Module Definitions"
   ]
  },
  {
   "cell_type": "code",
   "execution_count": 33,
   "metadata": {},
   "outputs": [
    {
     "data": {
      "text/plain": [
       "'Valid. '"
      ]
     },
     "execution_count": 33,
     "metadata": {},
     "output_type": "execute_result"
    }
   ],
   "source": [
    "doc.moduleDefinitions[0]\n",
    "doc.write('hello.xml')"
   ]
  }
 ],
 "metadata": {
  "kernelspec": {
   "display_name": "Python 3",
   "language": "python",
   "name": "python3"
  },
  "language_info": {
   "codemirror_mode": {
    "name": "ipython",
    "version": 3
   },
   "file_extension": ".py",
   "mimetype": "text/x-python",
   "name": "python",
   "nbconvert_exporter": "python",
   "pygments_lexer": "ipython3",
   "version": "3.7.3"
  }
 },
 "nbformat": 4,
 "nbformat_minor": 2
}
