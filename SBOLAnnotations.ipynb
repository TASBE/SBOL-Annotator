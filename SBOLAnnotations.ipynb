{
 "cells": [
  {
   "cell_type": "code",
   "execution_count": 1,
   "metadata": {
    "init_cell": true,
    "scrolled": true
   },
   "outputs": [
    {
     "data": {
      "text/html": [
       "<script>\n",
       "code_show=true; \n",
       "function code_toggle() {\n",
       "if (code_show){\n",
       "$('div.input').hide();\n",
       "} else {\n",
       "$('div.input').show();\n",
       "}\n",
       "code_show = !code_show\n",
       "} \n",
       "$( document ).ready(code_toggle);\n",
       "</script>\n",
       "<form action=\"javascript:code_toggle()\"><input type=\"submit\" value=\"View/Hide Raw Code\"></form>"
      ],
      "text/plain": [
       "<IPython.core.display.HTML object>"
      ]
     },
     "execution_count": 1,
     "metadata": {},
     "output_type": "execute_result"
    }
   ],
   "source": [
    "from IPython.display import HTML\n",
    "\n",
    "HTML('''<script>\n",
    "code_show=true; \n",
    "function code_toggle() {\n",
    "if (code_show){\n",
    "$('div.input').hide();\n",
    "} else {\n",
    "$('div.input').show();\n",
    "}\n",
    "code_show = !code_show\n",
    "} \n",
    "$( document ).ready(code_toggle);\n",
    "</script>\n",
    "<form action=\"javascript:code_toggle()\"><input type=\"submit\" value=\"View/Hide Raw Code\"></form>''')"
   ]
  },
  {
   "cell_type": "markdown",
   "metadata": {},
   "source": [
    "# Converting the GenBank File to SBOL\n",
    "1. Upload the GenBank file or place in the same folder.\n",
    "2. Enter the file name and the URI prefix (something like https://bu.edu/ben) that you want to use.\n",
    "3. Enter a version (optional).\n",
    "4. Hit send and it will create an SBOL file with the same name."
   ]
  },
  {
   "cell_type": "code",
   "execution_count": 2,
   "metadata": {
    "init_cell": true,
    "scrolled": false
   },
   "outputs": [
    {
     "data": {
      "application/vnd.jupyter.widget-view+json": {
       "model_id": "0714795185984060a926698032ba19a2",
       "version_major": 2,
       "version_minor": 0
      },
      "text/plain": [
       "FileUpload(accept='.gb', multiple=True)"
      ]
     },
     "metadata": {},
     "output_type": "display_data"
    },
    {
     "data": {
      "application/vnd.jupyter.widget-view+json": {
       "model_id": "481c87c153094fb2be2e583d2cc5eebe",
       "version_major": 2,
       "version_minor": 0
      },
      "text/plain": [
       "Text(value='', description='URI Prefix:', placeholder='Enter URI Prefix')"
      ]
     },
     "metadata": {},
     "output_type": "display_data"
    },
    {
     "data": {
      "application/vnd.jupyter.widget-view+json": {
       "model_id": "f0e8db70d0af4cb78ea262e30954cd5e",
       "version_major": 2,
       "version_minor": 0
      },
      "text/plain": [
       "Text(value='', description='Version:', placeholder='Enter Version (optional)')"
      ]
     },
     "metadata": {},
     "output_type": "display_data"
    },
    {
     "data": {
      "application/vnd.jupyter.widget-view+json": {
       "model_id": "ad774e067d6b4bc3820e420d68230242",
       "version_major": 2,
       "version_minor": 0
      },
      "text/plain": [
       "Button(description='Send', style=ButtonStyle(), tooltip='Converts Genbank file to SBOL')"
      ]
     },
     "metadata": {},
     "output_type": "display_data"
    },
    {
     "data": {
      "application/vnd.jupyter.widget-view+json": {
       "model_id": "632f4841fc5d40ada5c4b719d8e179c7",
       "version_major": 2,
       "version_minor": 0
      },
      "text/plain": [
       "Output()"
      ]
     },
     "metadata": {},
     "output_type": "display_data"
    }
   ],
   "source": [
    "from sbol import *\n",
    "import ipywidgets as widgets\n",
    "from IPython.display import Javascript, display, clear_output\n",
    "import requests\n",
    "import os\n",
    "import os.path\n",
    "from ipyupload import FileUpload\n",
    "\n",
    "upload = FileUpload(\n",
    "    accept = '.gb',\n",
    "    multiple = True,\n",
    "    disabled = False,\n",
    "    style_button = '',\n",
    "    compress_level = 0\n",
    ")\n",
    "\n",
    "URIPrefix = widgets.Text(\n",
    "    value = '',\n",
    "    placeholder = 'Enter URI Prefix',\n",
    "    description = 'URI Prefix:',\n",
    "    disabled = False\n",
    ")\n",
    "\n",
    "version = widgets.Text(\n",
    "    value = '',\n",
    "    placeholder = 'Enter Version (optional)',\n",
    "    description = 'Version:',\n",
    "    disabled = False\n",
    ")\n",
    "\n",
    "sendButton = widgets.Button(\n",
    "    description = 'Send',\n",
    "    disabled = False,\n",
    "    button_style = '',\n",
    "    tooltip = 'Converts Genbank file to SBOL',\n",
    "    icon = ''\n",
    ")\n",
    "\n",
    "out = widgets.Output()\n",
    "\n",
    "display(upload)\n",
    "display(URIPrefix)\n",
    "display(version)\n",
    "display(sendButton)\n",
    "\n",
    "doc = Document()\n",
    "Config.setOption('sbol_compliant_uris', True)\n",
    "Config.setOption('sbol_typed_uris', False)\n",
    "originalCDs = []\n",
    "addedCDs = []\n",
    "\n",
    "cdDictionary = {}\n",
    "\n",
    "@out.capture()\n",
    "def sendRequest(sender):\n",
    "    global originalCDs, cdDictionary, doc\n",
    "    clear_output()\n",
    "    \n",
    "    doc = Document()\n",
    "    cdDicitonary = {}\n",
    "    originalCDs = []\n",
    "    addedCDs = []\n",
    "    \n",
    "    if upload.value == None and URIPrefix.value == '':\n",
    "        print('You need both GenBank file(s) and URI Prefix!')\n",
    "        return\n",
    "    if upload.value == None:\n",
    "        print('You need GenBank file(s)!')\n",
    "        return\n",
    "    if URIPrefix.value == '':\n",
    "        print('You need a URI Prefix!')\n",
    "        return\n",
    "    setHomespace(URIPrefix.value)\n",
    "    \n",
    "    files = []\n",
    "    \n",
    "    for key in upload.value.keys():\n",
    "        if key[-3:] == '.gb':\n",
    "            file = open(key, 'w+')\n",
    "            file.write(upload.value[key]['content'].decode('utf-8'))\n",
    "            file.close()\n",
    "            \n",
    "            files.append(key)\n",
    "    \n",
    "    for gbFileName in files:\n",
    "        \n",
    "        gbFile = open(gbFileName).read()\n",
    "\n",
    "        request = { 'options': {'language' : 'SBOL2',\n",
    "                                'test_equality': False,\n",
    "                                'check_uri_compliance': False,\n",
    "                                'check_completeness': False,\n",
    "                                'check_best_practices': False,\n",
    "                                'fail_on_first_error': False,\n",
    "                                'provide_detailed_stack_trace': False,\n",
    "                                'subset_uri': '',\n",
    "                                'uri_prefix': URIPrefix.value,\n",
    "                                'version': version.value if version.value != '' else '1',\n",
    "                                'insert_type': False,\n",
    "                                'main_file_name': 'main file',\n",
    "                                'diff_file_name': 'comparison file',\n",
    "                                },\n",
    "                    'return_file': True,\n",
    "                    'main_file': gbFile\n",
    "                  }\n",
    "\n",
    "        response = requests.post(\"http://www.async.ece.utah.edu/validate/\", json=request)\n",
    "        xmlResponse = response.json()['result']\n",
    "    \n",
    "        sbolFile = open(gbFileName[:-3] + '.xml', 'w+')\n",
    "        sbolFile.write(xmlResponse)\n",
    "        sbolFile.close()\n",
    "        \n",
    "    \n",
    "    \n",
    "        fileNameSBOL = gbFileName[:-3] + '.xml'\n",
    "        doc.append(fileNameSBOL)\n",
    "        \n",
    "        for cd in doc.componentDefinitions:\n",
    "            exists = False\n",
    "            for i in originalCDs:\n",
    "                if i.displayId == cd.displayId:\n",
    "                    exists = True\n",
    "            if exists == False:\n",
    "                originalCDs.append(cd)\n",
    "                cdDictionary[cd.displayId] = []\n",
    "#         originalCDs = doc.componentDefinitions\n",
    "        \n",
    "    print('Success!')\n",
    "        \n",
    "    display(Javascript('IPython.notebook.execute_cell_range(IPython.notebook.get_selected_index()+1, IPython.notebook.ncells())'))\n",
    "\n",
    "sendButton.on_click(sendRequest)\n",
    "display(out)"
   ]
  },
  {
   "cell_type": "markdown",
   "metadata": {},
   "source": [
    "# Reading in the SBOL File\n",
    "Enter the file name of an SBOL file (.xml or .rdf) and displays the Component Definitions.\n",
    "\n",
    "## Note that this is only for testing. If you converted the file from GenBank, then it will automatically be read in."
   ]
  },
  {
   "cell_type": "code",
   "execution_count": 11,
   "metadata": {
    "init_cell": true,
    "scrolled": false
   },
   "outputs": [],
   "source": [
    "from sbol import *\n",
    "import ipywidgets as widgets\n",
    "from IPython.display import Javascript, display, clear_output\n",
    "import requests\n",
    "import os\n",
    "import os.path\n",
    "\n",
    "fileNameSBOL = widgets.Text(\n",
    "    value = '',\n",
    "    placeholder = 'Enter SBOL file name',\n",
    "    description = 'File Name:',\n",
    "    disabled = False\n",
    ")\n",
    "\n",
    "submit = widgets.Button(\n",
    "    description = 'Submit',\n",
    "    disabled = False,\n",
    "    button_style = '',\n",
    "    tooltip = 'Reads in the SBOL file',\n",
    "    icon = ''\n",
    ")\n",
    "\n",
    "out = widgets.Output()\n",
    "\n",
    "# display(fileNameSBOL)\n",
    "# display(submit)\n",
    "\n",
    "# doc = Document()\n",
    "# setHomespace('https://bu.edu/ben')\n",
    "Config.setOption('sbol_typed_uris', False)\n",
    "PATH = './'\n",
    "\n",
    "# originalCDs = []\n",
    "\n",
    "\n",
    "@out.capture()\n",
    "def showDoc(sender):\n",
    "    global originalCDs\n",
    "    clear_output()\n",
    "    if fileNameSBOL.value != '':\n",
    "        if os.path.isfile(PATH + fileNameSBOL.value) and (fileNameSBOL.value[-3:] == 'xml' or fileNameSBOL.value[-3:] == 'rdf'):\n",
    "            doc.read(fileNameSBOL.value)\n",
    "            originalCDs = doc.componentDefinitions\n",
    "            print(doc)\n",
    "        else:\n",
    "            print('Invalid file name!')\n",
    "    else:\n",
    "        print('You need a file name!')\n",
    "    \n",
    "    display(Javascript('IPython.notebook.execute_cell_range(IPython.notebook.get_selected_index()+1, IPython.notebook.ncells())'))\n",
    "\n",
    "\n",
    "submit.on_click(showDoc)\n",
    "# display(out)"
   ]
  },
  {
   "cell_type": "markdown",
   "metadata": {},
   "source": [
    "# Add a Component\n",
    "Enter the name of the component, the type, and the role (optional)."
   ]
  },
  {
   "cell_type": "code",
   "execution_count": 12,
   "metadata": {
    "init_cell": true,
    "scrolled": false
   },
   "outputs": [
    {
     "data": {
      "application/vnd.jupyter.widget-view+json": {
       "model_id": "c4276fb988cb462f939643b92624f0dd",
       "version_major": 2,
       "version_minor": 0
      },
      "text/plain": [
       "Text(value='', description='Name:', placeholder='Enter a component name')"
      ]
     },
     "metadata": {},
     "output_type": "display_data"
    },
    {
     "data": {
      "application/vnd.jupyter.widget-view+json": {
       "model_id": "8174645a3e2d4f95ace649675a133702",
       "version_major": 2,
       "version_minor": 0
      },
      "text/plain": [
       "Dropdown(description='Type:', options=('DNA', 'RNA', 'Protein', 'Small Molecule', 'Complex'), value='DNA')"
      ]
     },
     "metadata": {},
     "output_type": "display_data"
    },
    {
     "data": {
      "application/vnd.jupyter.widget-view+json": {
       "model_id": "db18340fb36545fcad58f95b27483ade",
       "version_major": 2,
       "version_minor": 0
      },
      "text/plain": [
       "Dropdown(description='Role:', options=('', 'Miscellaneous', 'Promoter', 'RBS', 'CDS', 'Terminator', 'Gene', 'O…"
      ]
     },
     "metadata": {},
     "output_type": "display_data"
    },
    {
     "data": {
      "application/vnd.jupyter.widget-view+json": {
       "model_id": "64aa56a7b3a7408a8013403e14cfed67",
       "version_major": 2,
       "version_minor": 0
      },
      "text/plain": [
       "Button(description='Create', style=ButtonStyle(), tooltip='Creates a new Component Definition ')"
      ]
     },
     "metadata": {},
     "output_type": "display_data"
    },
    {
     "data": {
      "application/vnd.jupyter.widget-view+json": {
       "model_id": "3be96804ed7148119d95860725302219",
       "version_major": 2,
       "version_minor": 0
      },
      "text/plain": [
       "Output()"
      ]
     },
     "metadata": {},
     "output_type": "display_data"
    }
   ],
   "source": [
    "from sbol import *\n",
    "import ipywidgets as widgets\n",
    "from IPython.display import clear_output, Markdown\n",
    "\n",
    "componentTypes = ['DNA', 'RNA', 'Protein', 'Small Molecule', 'Complex']\n",
    "\n",
    "componentRoles = ['', 'Miscellaneous', 'Promoter', 'RBS', 'CDS', 'Terminator',\n",
    "                  'Gene', 'Operator', 'Engineered Gene', 'mRNA', 'Effector']\n",
    "\n",
    "typesMap = {'DNA':'http://www.biopax.org/release/biopax-level3.owl#DnaRegion',\n",
    "            'RNA':'http://www.biopax.org/release/biopax-level3.owl#RnaRegion',\n",
    "            'Protein':'http://www.biopax.org/release/biopax-level3.owl#Protein',\n",
    "            'Small Molecule':'http://www.biopax.org/release/biopax-level3.owl#SmallMolecule',\n",
    "            'Complex':'http://www.biopax.org/release/biopax-level3.owl#Complex'}\n",
    "\n",
    "rolesMap = {'Miscellaneous':'http://identifiers.org/so/SO:0000001',\n",
    "            'Promoter':'http://identifiers.org/so/SO:0000167',\n",
    "            'RBS':'http://identifiers.org/so/SO:0000139',\n",
    "            'CDS':'http://identifiers.org/so/SO:0000316',\n",
    "            'Terminator':'http://identifiers.org/so/SO:0000141',\n",
    "            'Gene':'http://identifiers.org/so/SO:0000704',\n",
    "            'Operator':'http://identifiers.org/so/SO:0000057',\n",
    "            'Engineered Gene':'http://identifiers.org/so/SO:0000280',\n",
    "            'mRNA':'http://identifiers.org/so/SO:0000234',\n",
    "            'Effector':'http://identifiers.org/chebi/CHEBI:35224',\n",
    "            'Transcription Factor':'http://identifiers.org/go/GO:0003700'}\n",
    "\n",
    "componentName = widgets.Text(\n",
    "    value = '',\n",
    "    placeholder = 'Enter a component name',\n",
    "    description = 'Name:',\n",
    "    disabled = False,\n",
    ")\n",
    "\n",
    "typeDrop = widgets.Dropdown(\n",
    "    options = componentTypes,\n",
    "    description = 'Type:',\n",
    "    disabled = False\n",
    ")\n",
    "\n",
    "roleDrop = widgets.Dropdown(\n",
    "    options = componentRoles,\n",
    "    description = 'Role:',\n",
    "    disabled = False\n",
    ")\n",
    "\n",
    "createButton = widgets.Button(\n",
    "    description = 'Create',\n",
    "    disabled = False,\n",
    "    button_style = '',\n",
    "    tooltip = 'Creates a new Component Definition ',\n",
    "    icon = ''\n",
    ")\n",
    "\n",
    "outBox = widgets.Output()\n",
    "\n",
    "display(componentName)\n",
    "display(typeDrop)\n",
    "display(roleDrop)\n",
    "display(createButton)\n",
    "display(outBox)\n",
    "\n",
    "@outBox.capture()\n",
    "def createButtonHandler(sender):\n",
    "    global addedCDs\n",
    "    clear_output()\n",
    "    if componentName.value == '':\n",
    "        print('You need a component name!')\n",
    "        return\n",
    "    \n",
    "    try:\n",
    "        newComponentDefinition = ComponentDefinition(componentName.value, typesMap[typeDrop.value])\n",
    "        if roleDrop.value != '':\n",
    "            newComponentDefinition.roles = rolesMap[roleDrop.value]\n",
    "    except Exception as e:\n",
    "        print(e)\n",
    "        return\n",
    "    \n",
    "    try:\n",
    "        addedCDs.append(newComponentDefinition)\n",
    "        doc.addComponentDefinition(newComponentDefinition)\n",
    "        display(Javascript('IPython.notebook.execute_cell_range(IPython.notebook.get_selected_index()+1, IPython.notebook.ncells())'))\n",
    "        print('Component created!')\n",
    "    except RuntimeError:\n",
    "        print('Component name already exists!')\n",
    "\n",
    "createButton.on_click(createButtonHandler)"
   ]
  },
  {
   "cell_type": "markdown",
   "metadata": {},
   "source": [
    "# Component Definitions"
   ]
  },
  {
   "cell_type": "code",
   "execution_count": 34,
   "metadata": {
    "init_cell": true,
    "scrolled": false
   },
   "outputs": [
    {
     "data": {
      "application/vnd.jupyter.widget-view+json": {
       "model_id": "f24ece03d3dd45e983b504cc0251bed6",
       "version_major": 2,
       "version_minor": 0
      },
      "text/plain": [
       "VBox(children=(HTML(value='<font size=3><b>BBa_J06505</b></font>'), Accordion(children=(HTML(value='<d1><dt><u…"
      ]
     },
     "metadata": {},
     "output_type": "display_data"
    }
   ],
   "source": [
    "from sbol import *\n",
    "import ipywidgets as widgets\n",
    "from IPython.display import clear_output, Markdown\n",
    "\n",
    "typeDict = {'http://www.biopax.org/release/biopax-level3.owl#DnaRegion':'DNA',\n",
    "            'http://www.biopax.org/release/biopax-level3.owl#RnaRegion':'RNA',\n",
    "            'http://www.biopax.org/release/biopax-level3.owl#Protein':'Protein',\n",
    "            'http://www.biopax.org/release/biopax-level3.owl#SmallMolecule': 'Small Molecule',\n",
    "            'http://www.biopax.org/release/biopax-level3.owl#Complex':'Complex'}\n",
    "\n",
    "roleDict = {'http://identifiers.org/so/SO:0000001':'Miscellaneous', \n",
    "            'http://identifiers.org/so/SO:0000167':'Promoter',\n",
    "            'http://identifiers.org/so/SO:0000139':'RBS',\n",
    "            'http://identifiers.org/so/SO:0000316':'CDS',\n",
    "            'http://identifiers.org/so/SO:0000141':'Terminator',\n",
    "            'http://identifiers.org/so/SO:0000704':'Gene',\n",
    "            'http://identifiers.org/so/SO:0000057':'Operator',\n",
    "            'http://identifiers.org/so/SO:0000280':'Engineered Gene',\n",
    "            'http://identifiers.org/so/SO:0000234':'mRNA',\n",
    "            'http://identifiers.org/chebi/CHEBI:35224':'Effector',\n",
    "            'http://identifiers.org/go/GO:0003700':'Transcription Factor'}\n",
    "\n",
    "def createHTMLString(cd, parentName = None):\n",
    "    htmlString = ''\n",
    "    if cd.description is not None:\n",
    "        htmlString += '<dt><u>Description</u>:</dt>' + cd.description + '</dt>'\n",
    "    if len(cd.types) is not 0:\n",
    "        htmlString += '<dt><u>Type(s)</u>:</dt>'\n",
    "        for typeComponent in cd.types:\n",
    "            if typeComponent in typeDict:\n",
    "                htmlString += '<dd>-&nbsp' + typeDict[typeComponent] + '</dd>'\n",
    "            else:\n",
    "                htmlString += '<dd>-&nbspOther</dd>' \n",
    "    if len(cd.roles) is not 0:\n",
    "        htmlString += '<dt><u>Role(s)</u>:</dt>'\n",
    "        for role in cd.roles:\n",
    "            if role in roleDict:\n",
    "                htmlString += '<dd>-&nbsp' + roleDict[role] + '</dd>'\n",
    "            else:\n",
    "                htmlString += '<dd>-&nbspOther</dd>'            \n",
    "    if len(cd.components) is not 0:\n",
    "        htmlString += '<dt><u>Sub-Components</u>:</dt>'\n",
    "        for component in cd.components:\n",
    "            if parentName is not None:\n",
    "                htmlString += '<dd>-&nbsp' + component.name.replace(parentName + '_', '') + '</dd>'\n",
    "            else:\n",
    "                htmlString += '<dd>-&nbsp' + component.name + '</dd>'\n",
    "                \n",
    "    return htmlString\n",
    "\n",
    "def createAccordionWidget(components, parentName = None, isDisplayID = False):\n",
    "    accordion = widgets.Accordion()\n",
    "    accordionChildren = []\n",
    "    \n",
    "    for index, cd in enumerate(components):\n",
    "        htmlWidget = widgets.HTML()\n",
    "        accordionChildren.append(htmlWidget)\n",
    "        \n",
    "        if isDisplayID == False:\n",
    "            accordion.set_title(index, cd.displayId)\n",
    "            htmlString = createHTMLString(cd, parentName)\n",
    "        else:\n",
    "            componentDef = doc.getComponentDefinition(cd)\n",
    "            accordion.set_title(index, componentDef.displayId.replace(parentName + '_', ''))\n",
    "            htmlString = createHTMLString(componentDef, parentName)\n",
    "        \n",
    "        htmlWidget.value = '<d1>' + htmlString + '</d1>'\n",
    "        \n",
    "    accordion.children = accordionChildren\n",
    "    \n",
    "    return accordion\n",
    "\n",
    "copyCDs = []\n",
    "\n",
    "for cd in doc.componentDefinitions:\n",
    "    num = 0\n",
    "    name = cd.displayId\n",
    "    for sa in cd.sequenceAnnotations:\n",
    "        if sa.name == 'misc_feature':\n",
    "            sa.name = 'misc_feature' + str(num)\n",
    "            num = num + 1\n",
    "            \n",
    "        if name not in sa.name:\n",
    "            sa.name = name + '_' + sa.name\n",
    "            sa.displayId = name + '_' + sa.displayId\n",
    "            \n",
    "    copyCDs.append(cd)\n",
    "\n",
    "for cd in copyCDs:\n",
    "    currentName = cd.displayId\n",
    "    if len(cd.components) == 0 and len(cd.sequenceAnnotations) != 0:\n",
    "        for sa in cd.sequenceAnnotations:\n",
    "            if sa.component == None:\n",
    "                createdCD = sa.extract()\n",
    "                cdDictionary[currentName].append(createdCD.identity)\n",
    "               \n",
    "            \n",
    "mainBox = widgets.VBox()\n",
    "\n",
    "boxChildren = []\n",
    "\n",
    "for i, ocd in enumerate(originalCDs):\n",
    "    boxChildren.append(widgets.HTML('<font size=3><b>' + ocd.displayId + '</b></font>'))\n",
    "    name = ocd.displayId\n",
    "    subComponents = cdDictionary[name].copy()\n",
    "    subComponents.insert(0, ocd.identity)\n",
    "    \n",
    "    accordion = createAccordionWidget(subComponents, name, True)\n",
    "    \n",
    "    boxChildren.append(accordion)\n",
    "    boxChildren.append(widgets.HTML('<br>'))\n",
    "    \n",
    "if len(addedCDs) != 0:\n",
    "    boxChildren.append(widgets.HTML('<font size=3><b>Added Components</b></font>'))\n",
    "    accordion = createAccordionWidget(addedCDs)\n",
    "    accordion.selected_index = None\n",
    "    boxChildren.append(accordion)\n",
    "    \n",
    "        \n",
    "mainBox.children = boxChildren\n",
    "                        \n",
    "display(mainBox)"
   ]
  },
  {
   "cell_type": "markdown",
   "metadata": {},
   "source": [
    "# Adding Interactions\n",
    "1. Select more than one component with `shift + click` or `control (cmd) + click`.  \n",
    "2. Select the interaction and submit.\n",
    "3. Select the role that each component plays in the interaction.\n",
    "4. Press create to create the interaction."
   ]
  },
  {
   "cell_type": "code",
   "execution_count": 35,
   "metadata": {
    "init_cell": true,
    "scrolled": false
   },
   "outputs": [
    {
     "data": {
      "application/vnd.jupyter.widget-view+json": {
       "model_id": "46cd3cd55dc148bd8e197c3b1b55937e",
       "version_major": 2,
       "version_minor": 0
      },
      "text/plain": [
       "SelectMultiple(description='Components:', options=('BBa_J06505', 'BBa_J06505_CDS', 'BBa_J06505_misc_feature0',…"
      ]
     },
     "metadata": {},
     "output_type": "display_data"
    },
    {
     "data": {
      "application/vnd.jupyter.widget-view+json": {
       "model_id": "4a2e8d6548404e53a3c350a33f5767ae",
       "version_major": 2,
       "version_minor": 0
      },
      "text/plain": [
       "Dropdown(description='Interaction:', options=('Inhibition', 'Stimulation', 'Biochemical Reaction', 'Non-Covale…"
      ]
     },
     "metadata": {},
     "output_type": "display_data"
    },
    {
     "data": {
      "application/vnd.jupyter.widget-view+json": {
       "model_id": "100bae9da26d48c796964fb02ebece1a",
       "version_major": 2,
       "version_minor": 0
      },
      "text/plain": [
       "Button(description='Submit', style=ButtonStyle(), tooltip='Converts ')"
      ]
     },
     "metadata": {},
     "output_type": "display_data"
    },
    {
     "data": {
      "application/vnd.jupyter.widget-view+json": {
       "model_id": "035cf3957a394755b648054eb26a4be2",
       "version_major": 2,
       "version_minor": 0
      },
      "text/plain": [
       "Output()"
      ]
     },
     "metadata": {},
     "output_type": "display_data"
    }
   ],
   "source": [
    "from sbol import *\n",
    "import ipywidgets as widgets\n",
    "from IPython.display import clear_output, Markdown\n",
    "\n",
    "# setHomespace('https://bu.edu/ben')\n",
    "\n",
    "# modules = []\n",
    "\n",
    "componentNames = []\n",
    "mapComponents = {}\n",
    "\n",
    "for cd in doc.componentDefinitions:\n",
    "    componentNames.append(cd.displayId)\n",
    "    mapComponents[cd.displayId] = cd\n",
    "    \n",
    "componentNames.sort()\n",
    "    \n",
    "typesInteractions = ['Inhibition', 'Stimulation', 'Biochemical Reaction', \n",
    "                     'Non-Covalent Binding', 'Degradation', 'Genetic Production', \n",
    "                     'Control']\n",
    "mapInteractions = {'Inhibition':'http://identifiers.org/biomodels.sbo/SBO:0000169', \n",
    "                   'Stimulation':'http://identifiers.org/biomodels.sbo/SBO:0000170', \n",
    "                   'Biochemical Reaction':'http://identifiers.org/biomodels.sbo/SBO:0000176', \n",
    "                     'Non-Covalent Binding':'http://identifiers.org/biomodels.sbo/SBO:0000177', \n",
    "                   'Degradation':'http://identifiers.org/biomodels.sbo/SBO:0000179', \n",
    "                   'Genetic Production':'http://identifiers.org/biomodels.sbo/SBO:0000589', \n",
    "                     'Control':'http://identifiers.org/biomodels.sbo/SBO:0000168'}\n",
    "\n",
    "typesParticipants = ['Inhibitor', 'Inhibited', 'Stimulator', 'Stimulated', 'Reactant',\n",
    "                     'Product', 'Promoter', 'Modifier', 'Modified', 'Template']\n",
    "mapParticipants = {'Inhibitor':'http://identifiers.org/biomodels.sbo/SBO:0000020',\n",
    "                   'Inhibited':'http://identifiers.org/biomodels.sbo/SBO:0000642',\n",
    "                   'Stimulator':'http://identifiers.org/biomodels.sbo/SBO:0000459',\n",
    "                   'Stimulated':'http://identifiers.org/biomodels.sbo/SBO:0000643',\n",
    "                   'Reactant':'http://identifiers.org/biomodels.sbo/SBO:0000010',\n",
    "                   'Product':'http://identifiers.org/biomodels.sbo/SBO:0000011',\n",
    "                   'Promoter':'http://identifiers.org/biomodels.sbo/SBO:0000598',\n",
    "                   'Modifier':'http://identifiers.org/biomodels.sbo/SBO:0000019',\n",
    "                   'Modified':'http://identifiers.org/biomodels.sbo/SBO:0000644',\n",
    "                   'Template':'http://identifiers.org/biomodels.sbo/SBO:0000645'}\n",
    "\n",
    "\n",
    "participants = widgets.SelectMultiple(\n",
    "    options = componentNames,\n",
    "    description = 'Components:',\n",
    "    rows = len(componentNames),\n",
    "    disabled = False\n",
    ")\n",
    "\n",
    "interaction = widgets.Dropdown(\n",
    "    options = typesInteractions,\n",
    "    description = 'Interaction:',\n",
    "    value = None,\n",
    "    disabled = False\n",
    ")\n",
    "\n",
    "submitButton = widgets.Button(\n",
    "    description = 'Submit',\n",
    "    disabled = False,\n",
    "    button_style = '',\n",
    "    tooltip = 'Converts ',######## ADJKLAKLSDJL\n",
    "    icon = ''\n",
    ")\n",
    "\n",
    "changeButton = widgets.Button(\n",
    "    description = 'Change',\n",
    "    disabled = False,\n",
    "    button_style = '',\n",
    "    tooltip = 'Changes interaction',\n",
    "    icon = ''\n",
    ")\n",
    "\n",
    "createInteraction = widgets.Button(\n",
    "    description = 'Create Interaction',\n",
    "    disabled = False,\n",
    "    button_style = '',\n",
    "    tooltip = 'Creates interaction',\n",
    "    icon = ''\n",
    ")\n",
    "\n",
    "interactionWidgets = widgets.VBox()\n",
    "\n",
    "outputBox = widgets.Output()\n",
    "\n",
    "display(participants)\n",
    "display(interaction)\n",
    "display(submitButton)\n",
    "display(outputBox)\n",
    "\n",
    "@outputBox.capture()\n",
    "def printMessage(line):\n",
    "    print(line)\n",
    "\n",
    "    \n",
    "\n",
    "module = ModuleDefinition('md0')\n",
    "foundModule = None\n",
    "for md in doc.moduleDefinitions:\n",
    "    if module.identity == md.identity:\n",
    "        foundModule = md\n",
    "\n",
    "if foundModule is None:\n",
    "    doc.addModuleDefinition(module)\n",
    "else:\n",
    "    module = foundModule\n",
    "\n",
    "\n",
    "createdFCs = []\n",
    "createdInteractions = []\n",
    "createdMapsTos = []\n",
    "    \n",
    "def submitResponder(sender):\n",
    "    global module, currentInteraction, originalCDs, createdMapsTos\n",
    "    \n",
    "    outputBox.clear_output()\n",
    "    \n",
    "    if len(participants.value) == 0:\n",
    "        printMessage('You need to select components!')\n",
    "        return\n",
    "    \n",
    "    items = []\n",
    "    \n",
    "    interactionString = interaction.value.replace(' ', '_').replace('-', '_')\n",
    "    \n",
    "    for p in participants.value:\n",
    "        fc = None\n",
    "        try:\n",
    "            fc = module.functionalComponents.create(p)\n",
    "            fc.definition = mapComponents[p].identity\n",
    "            fc.access = SBOL_ACCESS_PUBLIC\n",
    "            fc.direction = SBOL_DIRECTION_NONE\n",
    "            \n",
    "            createdFCs.append(fc.identity)\n",
    "        except:\n",
    "            pass\n",
    "            \n",
    "        items.append(widgets.Dropdown(options = typesParticipants, description = p + ':', disabled = False, \n",
    "                     style = {'description_width': 'initial'}))\n",
    "        \n",
    "        interactionString += '_' + p\n",
    "        \n",
    "        \n",
    "        # Checking to see if parent component exists as a functional component\n",
    "        for original in originalCDs:\n",
    "            for c in original.components:\n",
    "                if c.definition == mapComponents[p].identity:\n",
    "                    fcP = None\n",
    "                    try:\n",
    "                        fcP = module.functionalComponents.create(original.displayId)\n",
    "                        fcP.definition = original.identity\n",
    "                        fcP.access = SBOL_ACCESS_PUBLIC\n",
    "                        fcP.direction = SBOL_DIRECTION_NONE\n",
    "                    except:\n",
    "                        for fc in module.functionalComponents:\n",
    "                            if fc.definition == original.identity:\n",
    "                                fcP = fc\n",
    "                                \n",
    "                    if fc is not None:\n",
    "                        if fc.definition == c.definition:\n",
    "                            foundMap = False\n",
    "                            for mt in fcP.mapsTos:\n",
    "                                if mt.displayId == str('map_' + fc.displayId):\n",
    "                                    foundMap = True\n",
    "                            \n",
    "                            if foundMap == False:\n",
    "                                mapsto = fcP.mapsTos.create('map_' + fc.displayId)\n",
    "                        \n",
    "                                mapsto.refinement = SBOL_REFINEMENT_USE_LOCAL\n",
    "                                mapsto.local = fc.identity\n",
    "                                mapsto.remote = c.identity\n",
    "                                \n",
    "                                createdMapsTos.append(mapsto.identity)\n",
    "    \n",
    "    \n",
    "    interactionWidgets.children = items\n",
    "    \n",
    "    try:\n",
    "        interactionModule = module.interactions.create(interactionString)\n",
    "        interactionModule.types = mapInteractions[interaction.value]\n",
    "        currentInteraction = interactionModule\n",
    "        createdInteractions.append(interactionModule.identity)\n",
    "    except:\n",
    "        printMessage('Interaction already exists!')\n",
    "        return\n",
    "    \n",
    "    \n",
    "    participants.disabled = True\n",
    "    interaction.disabled = True\n",
    "    submitButton.disabled = True\n",
    "    \n",
    "    if changeButton.layout.display == 'none':\n",
    "        changeButton.layout.display = None\n",
    "        interactionWidgets.layout.display = None\n",
    "        createInteraction.layout.display = None\n",
    "    else:\n",
    "        display(changeButton)\n",
    "        display(interactionWidgets)\n",
    "        display(createInteraction)\n",
    "    \n",
    "\n",
    "\n",
    "def changeResponder(sender):\n",
    "    global createdFCs, createdInteractions, createdMapsTos\n",
    "    \n",
    "    interactionWidgets.children = []\n",
    "    interactionWidgets.hidden = True\n",
    "    interactionWidgets.layout.display = 'none'\n",
    "    changeButton.layout.display = 'none'\n",
    "    createInteraction.layout.display = 'none'\n",
    "    \n",
    "    participants.disabled = False\n",
    "    interaction.disabled = False\n",
    "    submitButton.disabled = False\n",
    "    \n",
    "    for mapsTosURI in createdMapsTos:\n",
    "        for fc in module.functionalComponents:\n",
    "            exists = False\n",
    "            for mt in fc.mapsTos:\n",
    "                if mapsTosURI == mt.identity:\n",
    "                    exists = True\n",
    "            if exists == True:\n",
    "                fc.mapsTos.remove(mapsTosURI)\n",
    "    \n",
    "    for fcURI in createdFCs:\n",
    "        module.functionalComponents.remove(fcURI)\n",
    "        \n",
    "    for iURI in createdInteractions:\n",
    "        module.interactions.remove(iURI)\n",
    "        \n",
    "    createdFCs = []\n",
    "    createdInteractions = []\n",
    "    createdMapsTos = []\n",
    "    \n",
    "    \n",
    "def createResponder(sender):\n",
    "    global createdFCs, createdInteractions, createdMapsTos, module\n",
    "    alreadyExist = False\n",
    "    \n",
    "    \n",
    "    for index, widget in enumerate(interactionWidgets.children):\n",
    "        participation = currentInteraction.participations.create(widget.description[:-1])\n",
    "        participation.roles = mapParticipants[widget.value]\n",
    "        \n",
    "        fcIdentity = ''\n",
    "        for fc in module.functionalComponents:\n",
    "            if fc.displayId == widget.description[:-1]:\n",
    "                fcIdentity = fc.identity\n",
    "        \n",
    "        participation.participant = fcIdentity\n",
    "    \n",
    "\n",
    "    \n",
    "    interactionWidgets.children = []\n",
    "    interactionWidgets.hidden = True\n",
    "    interactionWidgets.layout.display = 'none'\n",
    "    changeButton.layout.display = 'none'\n",
    "    createInteraction.layout.display = 'none'\n",
    "    \n",
    "    participants.disabled = False\n",
    "    interaction.disabled = False\n",
    "    submitButton.disabled = False\n",
    "    \n",
    "    participants.value = []\n",
    "    interaction.value = None\n",
    "    \n",
    "    createdFCs = []\n",
    "    createdInteractions = []\n",
    "    createdMapsTos = []\n",
    "    \n",
    "    if alreadyExist == False:\n",
    "        printMessage('Interaction created!')\n",
    "        \n",
    "    display(Javascript('IPython.notebook.execute_cell_range(IPython.notebook.get_selected_index()+1, IPython.notebook.ncells())'))\n",
    "\n",
    "\n",
    "\n",
    "submitButton.on_click(submitResponder)\n",
    "changeButton.on_click(changeResponder)\n",
    "createInteraction.on_click(createResponder)"
   ]
  },
  {
   "cell_type": "markdown",
   "metadata": {},
   "source": [
    "# Interactions"
   ]
  },
  {
   "cell_type": "code",
   "execution_count": 25,
   "metadata": {
    "init_cell": true,
    "scrolled": false
   },
   "outputs": [
    {
     "data": {
      "application/vnd.jupyter.widget-view+json": {
       "model_id": "f229da7dd149449db6b3e4f87f356eeb",
       "version_major": 2,
       "version_minor": 0
      },
      "text/plain": [
       "Accordion()"
      ]
     },
     "metadata": {},
     "output_type": "display_data"
    }
   ],
   "source": [
    "from sbol import *\n",
    "import ipywidgets as widgets\n",
    "from IPython.display import clear_output, Markdown\n",
    "\n",
    "typesInteractions = ['Inhibition', 'Stimulation', 'Biochemical Reaction', \n",
    "                     'Non-Covalent Binding', 'Degradation', 'Genetic Production', \n",
    "                     'Control']\n",
    "interactionMap = {'http://identifiers.org/biomodels.sbo/SBO:0000169':'Inhibition', \n",
    "                   'http://identifiers.org/biomodels.sbo/SBO:0000170':'Stimulation', \n",
    "                   'http://identifiers.org/biomodels.sbo/SBO:0000176':'Biochemical Reaction', \n",
    "                   'http://identifiers.org/biomodels.sbo/SBO:0000177':'Non-Covalent Binding', \n",
    "                   'http://identifiers.org/biomodels.sbo/SBO:0000179':'Degradation', \n",
    "                   'http://identifiers.org/biomodels.sbo/SBO:0000589':'Genetic Production', \n",
    "                   'http://identifiers.org/biomodels.sbo/SBO:0000168':'Control'}\n",
    "\n",
    "typesParticipants = ['Inhibitor', 'Inhibited', 'Stimulator', 'Stimulated', 'Reactant',\n",
    "                     'Product', 'Promoter', 'Modifier', 'Modified', 'Template']\n",
    "participantMap = {'http://identifiers.org/biomodels.sbo/SBO:0000020':'Inhibitor',\n",
    "                   'http://identifiers.org/biomodels.sbo/SBO:0000642':'Inhibited',\n",
    "                   'http://identifiers.org/biomodels.sbo/SBO:0000459':'Stimulator',\n",
    "                   'http://identifiers.org/biomodels.sbo/SBO:0000643':'Stimulated',\n",
    "                   'http://identifiers.org/biomodels.sbo/SBO:0000010':'Reactant',\n",
    "                   'http://identifiers.org/biomodels.sbo/SBO:0000011':'Product',\n",
    "                   'http://identifiers.org/biomodels.sbo/SBO:0000598':'Promoter',\n",
    "                   'http://identifiers.org/biomodels.sbo/SBO:0000019':'Modifier',\n",
    "                   'http://identifiers.org/biomodels.sbo/SBO:0000644':'Modified',\n",
    "                   'http://identifiers.org/biomodels.sbo/SBO:0000645':'Template'}\n",
    "\n",
    "interactions = doc.moduleDefinitions[0].interactions\n",
    "numInteractions = len(interactions)\n",
    "contents = []\n",
    "for i in range(numInteractions):\n",
    "    contents.append(widgets.VBox())\n",
    "    \n",
    "accordion = widgets.Accordion(children = contents)\n",
    "\n",
    "for index, inter in enumerate(interactions):\n",
    "    box = contents[index]\n",
    "    accordion.set_title(index, inter.displayId)\n",
    "    childrenList = []\n",
    "    htmlString = ''\n",
    "    \n",
    "    htmlString += '<dt><u>Interaction Type(s)</u>:</dt>'\n",
    "    for typeI in inter.types:\n",
    "        htmlString += '<dd>' + interactionMap[typeI] + '</dd>'\n",
    "    \n",
    "    htmlString += '<dt><u>Participants</u>:</dt>'\n",
    "    for participation in inter.participations:\n",
    "        htmlString += '<dd>-&nbsp' + participation.displayId\n",
    "        for role in participation.roles:\n",
    "            htmlString += str('&nbsp(' + participantMap[role] + ')')\n",
    "        htmlString += '</dd>'\n",
    "\n",
    "    childrenList.append(widgets.HTML('<d1>' + htmlString + '</d1>'))\n",
    "    box.children = childrenList\n",
    "    \n",
    "\n",
    "display(accordion)\n",
    "\n"
   ]
  },
  {
   "cell_type": "markdown",
   "metadata": {},
   "source": [
    "# Upload to SynBioHub\n",
    "To upload to SynBioHub:\n",
    "1. Enter your username and password (you need to have an account to upload).\n",
    "2. Enter a name, description, and version for the Collection.\n",
    "3. Press Submit."
   ]
  },
  {
   "cell_type": "code",
   "execution_count": 26,
   "metadata": {
    "init_cell": true
   },
   "outputs": [
    {
     "data": {
      "application/vnd.jupyter.widget-view+json": {
       "model_id": "856b879b1f784bf9bc649f0cda2b8ae6",
       "version_major": 2,
       "version_minor": 0
      },
      "text/plain": [
       "HTML(value='<font size=\"4\"><b>Login to SynBioHub</b></font>')"
      ]
     },
     "metadata": {},
     "output_type": "display_data"
    },
    {
     "data": {
      "application/vnd.jupyter.widget-view+json": {
       "model_id": "5f5981877b194feb8d346b22a335846a",
       "version_major": 2,
       "version_minor": 0
      },
      "text/plain": [
       "Text(value='', description='Email:', placeholder='Enter email')"
      ]
     },
     "metadata": {},
     "output_type": "display_data"
    },
    {
     "data": {
      "application/vnd.jupyter.widget-view+json": {
       "model_id": "b76d4cfbaf924104bca2035cfa78038b",
       "version_major": 2,
       "version_minor": 0
      },
      "text/plain": [
       "Password(description='Password:', placeholder='Enter password')"
      ]
     },
     "metadata": {},
     "output_type": "display_data"
    },
    {
     "data": {
      "application/vnd.jupyter.widget-view+json": {
       "model_id": "2164482c35344fe3a372c17fbdeaacc8",
       "version_major": 2,
       "version_minor": 0
      },
      "text/plain": [
       "HTML(value='<font size=\"4\"><b>Enter Name, Description, and Version</b></font>')"
      ]
     },
     "metadata": {},
     "output_type": "display_data"
    },
    {
     "data": {
      "application/vnd.jupyter.widget-view+json": {
       "model_id": "7b97b577369c48ca8f1f11312cf04088",
       "version_major": 2,
       "version_minor": 0
      },
      "text/plain": [
       "Text(value='', description='Name:', placeholder='Enter name')"
      ]
     },
     "metadata": {},
     "output_type": "display_data"
    },
    {
     "data": {
      "application/vnd.jupyter.widget-view+json": {
       "model_id": "0901a810ae1d4d92a68a2c336e2178de",
       "version_major": 2,
       "version_minor": 0
      },
      "text/plain": [
       "Text(value='', description='Description:', placeholder='Enter description')"
      ]
     },
     "metadata": {},
     "output_type": "display_data"
    },
    {
     "data": {
      "application/vnd.jupyter.widget-view+json": {
       "model_id": "823304b1065749c5bd18c95d50ef0c5f",
       "version_major": 2,
       "version_minor": 0
      },
      "text/plain": [
       "Text(value='', description='Version:', placeholder='Enter version')"
      ]
     },
     "metadata": {},
     "output_type": "display_data"
    },
    {
     "data": {
      "application/vnd.jupyter.widget-view+json": {
       "model_id": "a20be6d4d0504f37809f917c6c1f9210",
       "version_major": 2,
       "version_minor": 0
      },
      "text/plain": [
       "Button(description='Submit', style=ButtonStyle(), tooltip='Submit annotated Document')"
      ]
     },
     "metadata": {},
     "output_type": "display_data"
    },
    {
     "data": {
      "application/vnd.jupyter.widget-view+json": {
       "model_id": "461d6d28a52c4cd2868b4cde44b3cb27",
       "version_major": 2,
       "version_minor": 0
      },
      "text/plain": [
       "Output()"
      ]
     },
     "metadata": {},
     "output_type": "display_data"
    }
   ],
   "source": [
    "from sbol import *\n",
    "import ipywidgets as widgets\n",
    "from IPython.display import clear_output, Markdown\n",
    "\n",
    "loginLabel = widgets.HTML('<font size=\"4\"><b>Login to SynBioHub</b></font>')\n",
    "\n",
    "usernameField = widgets.componentName = widgets.Text(\n",
    "    value = '',\n",
    "    placeholder = 'Enter email',\n",
    "    description = 'Email:',\n",
    "    disabled = False,\n",
    ")\n",
    "\n",
    "passwordField = widgets.Password(description = 'Password:', placeholder = 'Enter password')\n",
    "\n",
    "loginSubmitButton = widgets.Button(\n",
    "    description = 'Submit',\n",
    "    disabled = False,\n",
    "    button_style = '',\n",
    "    tooltip = 'Submit annotated Document',\n",
    "    icon = ''\n",
    ")\n",
    "\n",
    "errorBox = widgets.Output()\n",
    "\n",
    "# Name = Display Id\n",
    "propertiesLabel = widgets.HTML('<font size=\"4\"><b>Enter Name, Description, and Version</b></font>')\n",
    "\n",
    "docName = widgets.componentName = widgets.Text(\n",
    "    value = '',\n",
    "    placeholder = 'Enter name',\n",
    "    description = 'Name:',\n",
    "    disabled = False,\n",
    ")\n",
    "\n",
    "docDescription = widgets.componentName = widgets.Text(\n",
    "    value = '',\n",
    "    placeholder = 'Enter description',\n",
    "    description = 'Description:',\n",
    "    disabled = False,\n",
    ")\n",
    "\n",
    "docVersion = widgets.componentName = widgets.Text(\n",
    "    value = '',\n",
    "    placeholder = 'Enter version',\n",
    "    description = 'Version:',\n",
    "    disabled = False,\n",
    ")\n",
    "\n",
    "display(loginLabel)\n",
    "display(usernameField)\n",
    "display(passwordField)\n",
    "display(propertiesLabel)\n",
    "display(docName)\n",
    "display(docDescription)\n",
    "display(docVersion)\n",
    "display(loginSubmitButton)\n",
    "display(errorBox)\n",
    "\n",
    "sbh = PartShop('https://synbiohub.org')\n",
    "\n",
    "\n",
    "\n",
    "@errorBox.capture()\n",
    "def loginSBH(sender):\n",
    "    clear_output()\n",
    "    if usernameField.value == '':\n",
    "        print('You need a username!')\n",
    "        return\n",
    "    if passwordField.value == '':\n",
    "        print('You need a password!')\n",
    "        return\n",
    "    if docName.value == '':\n",
    "        print('You need a name for the Collection!')\n",
    "        return\n",
    "    if docDescription.value == '':\n",
    "        print('You need a description for the Collection!')\n",
    "        return\n",
    "    if docVersion.value == '':\n",
    "        print('You need a version for this Collection!')\n",
    "        return\n",
    "    \n",
    "    sbh.login(usernameField.value, passwordField.value)\n",
    "    \n",
    "    doc.displayId = docName.value\n",
    "    doc.name = docName.value\n",
    "    doc.description = docDescription.value\n",
    "    doc.version = docVersion.value\n",
    "\n",
    "    message = sbh.submit(doc)\n",
    "#     cleanedMessage = message.replace('[','').replace('\\\"','').replace(']','')\n",
    "    print(message)\n",
    "\n",
    "\n",
    "loginSubmitButton.on_click(loginSBH)"
   ]
  },
  {
   "cell_type": "code",
   "execution_count": 27,
   "metadata": {
    "init_cell": true,
    "scrolled": false
   },
   "outputs": [],
   "source": [
    "# for md in doc.moduleDefinitions:\n",
    "#     for fc in md.functionalComponents:\n",
    "#         for i in fc.mapsTos:\n",
    "#             print(i)\n",
    "\n",
    "\n",
    "# doc.write(\"testannotation3.xml\")\n",
    "# doc.validate()\n",
    "# print(doc.writeString())\n",
    "\n",
    "# for seq in doc.sequences:\n",
    "#     print(seq)\n",
    "# doc.write('hi.xml')\n",
    "\n",
    "\n",
    "# boxChildren\n",
    "# for cd in doc.componentDefinitions:\n",
    "#     for sa in cd.sequenceAnnotations:\n",
    "#         print(sa.name)\n",
    "# doc.write('ithinkigoofed.xml')\n",
    "\n",
    "\n",
    "\n",
    "# print(addedCDs[0].description)"
   ]
  }
 ],
 "metadata": {
  "celltoolbar": "Initialization Cell",
  "kernelspec": {
   "display_name": "Python 3",
   "language": "python",
   "name": "python3"
  },
  "language_info": {
   "codemirror_mode": {
    "name": "ipython",
    "version": 3
   },
   "file_extension": ".py",
   "mimetype": "text/x-python",
   "name": "python",
   "nbconvert_exporter": "python",
   "pygments_lexer": "ipython3",
   "version": "3.7.3"
  }
 },
 "nbformat": 4,
 "nbformat_minor": 2
}
