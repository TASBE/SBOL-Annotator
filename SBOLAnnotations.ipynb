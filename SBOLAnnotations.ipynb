{
 "cells": [
  {
   "cell_type": "code",
   "execution_count": 241,
   "metadata": {},
   "outputs": [
    {
     "data": {
      "text/html": [
       "<script>\n",
       "code_show=true; \n",
       "function code_toggle() {\n",
       "if (code_show){\n",
       "$('div.input').hide();\n",
       "} else {\n",
       "$('div.input').show();\n",
       "}\n",
       "code_show = !code_show\n",
       "} \n",
       "$( document ).ready(code_toggle);\n",
       "</script>\n",
       "<form action=\"javascript:code_toggle()\"><input type=\"submit\" value=\"View/Hide Raw Code\"></form>"
      ],
      "text/plain": [
       "<IPython.core.display.HTML object>"
      ]
     },
     "execution_count": 241,
     "metadata": {},
     "output_type": "execute_result"
    }
   ],
   "source": [
    "from IPython.display import HTML\n",
    "\n",
    "HTML('''<script>\n",
    "code_show=true; \n",
    "function code_toggle() {\n",
    "if (code_show){\n",
    "$('div.input').hide();\n",
    "} else {\n",
    "$('div.input').show();\n",
    "}\n",
    "code_show = !code_show\n",
    "} \n",
    "$( document ).ready(code_toggle);\n",
    "</script>\n",
    "<form action=\"javascript:code_toggle()\"><input type=\"submit\" value=\"View/Hide Raw Code\"></form>''')"
   ]
  },
  {
   "cell_type": "markdown",
   "metadata": {},
   "source": [
    "# Converting the GenBank File to SBOL\n",
    "1. Upload the GenBank file or place in the same folder.\n",
    "2. Enter the file name and the URI prefix that you want to use.\n",
    "3. Enter a version (optional).\n",
    "4. Hit send and it will create an SBOL file with the same name."
   ]
  },
  {
   "cell_type": "code",
   "execution_count": 242,
   "metadata": {
    "scrolled": false
   },
   "outputs": [
    {
     "data": {
      "application/vnd.jupyter.widget-view+json": {
       "model_id": "329b115424854455b36a3915543ad669",
       "version_major": 2,
       "version_minor": 0
      },
      "text/plain": [
       "Text(value='', description='File Name:', placeholder='Enter file name')"
      ]
     },
     "metadata": {},
     "output_type": "display_data"
    },
    {
     "data": {
      "application/vnd.jupyter.widget-view+json": {
       "model_id": "f7f70a2e0993429891bc1093d08a5343",
       "version_major": 2,
       "version_minor": 0
      },
      "text/plain": [
       "Text(value='', description='URI Prefix:', placeholder='Enter URI Prefix')"
      ]
     },
     "metadata": {},
     "output_type": "display_data"
    },
    {
     "data": {
      "application/vnd.jupyter.widget-view+json": {
       "model_id": "8fc5d8c0107d490b9cb3e1c09abdc1c0",
       "version_major": 2,
       "version_minor": 0
      },
      "text/plain": [
       "Text(value='', description='Version:', placeholder='Enter Version (optional)')"
      ]
     },
     "metadata": {},
     "output_type": "display_data"
    },
    {
     "data": {
      "application/vnd.jupyter.widget-view+json": {
       "model_id": "2cf7eff1573c42ecbc92e7017d4ac799",
       "version_major": 2,
       "version_minor": 0
      },
      "text/plain": [
       "Button(description='Send', style=ButtonStyle(), tooltip='Converts Genbank file to SBOL')"
      ]
     },
     "metadata": {},
     "output_type": "display_data"
    },
    {
     "data": {
      "application/vnd.jupyter.widget-view+json": {
       "model_id": "c8c12d05382f4d7ba7aba55357fdc135",
       "version_major": 2,
       "version_minor": 0
      },
      "text/plain": [
       "Output()"
      ]
     },
     "metadata": {},
     "output_type": "display_data"
    },
    {
     "data": {
      "application/javascript": [
       "IPython.notebook.execute_cell_range(IPython.notebook.get_selected_index()+1, IPython.notebook.ncells())"
      ],
      "text/plain": [
       "<IPython.core.display.Javascript object>"
      ]
     },
     "metadata": {},
     "output_type": "display_data"
    }
   ],
   "source": [
    "from sbol import *\n",
    "import ipywidgets as widgets\n",
    "from IPython.display import Javascript, display, clear_output\n",
    "import requests\n",
    "import os\n",
    "import os.path\n",
    "\n",
    "fileName = widgets.Text(\n",
    "    value = '',\n",
    "    placeholder = 'Enter file name',\n",
    "    description = 'File Name:',\n",
    "    disabled = False\n",
    ")\n",
    "\n",
    "URIPrefix = widgets.Text(\n",
    "    value = '',\n",
    "    placeholder = 'Enter URI Prefix',\n",
    "    description = 'URI Prefix:',\n",
    "    disabled = False\n",
    ")\n",
    "\n",
    "version = widgets.Text(\n",
    "    value = '',\n",
    "    placeholder = 'Enter Version (optional)',\n",
    "    description = 'Version:',\n",
    "    disabled = False\n",
    ")\n",
    "\n",
    "sendButton = widgets.Button(\n",
    "    description = 'Send',\n",
    "    disabled = False,\n",
    "    button_style = '',\n",
    "    tooltip = 'Converts Genbank file to SBOL',\n",
    "    icon = ''\n",
    ")\n",
    "\n",
    "out = widgets.Output()\n",
    "\n",
    "display(fileName)\n",
    "display(URIPrefix)\n",
    "display(version)\n",
    "display(sendButton)\n",
    "\n",
    "@out.capture()\n",
    "def sendRequest(sender):\n",
    "    clear_output()\n",
    "    if fileName.value == '' and URIPrefix.value == '':\n",
    "        print('You need both a file name and URI Prefix!')\n",
    "        return\n",
    "    if fileName.value == '':\n",
    "        print('You need a file name!')\n",
    "        return\n",
    "    if URIPrefix.value == '':\n",
    "        print('You need a URI Prefix!')\n",
    "        return\n",
    "    setHomespace(URIPrefix.value)\n",
    "    gbFile = open(fileName.value).read()\n",
    "\n",
    "    request = { 'options': {'language' : 'SBOL2',\n",
    "                        'test_equality': False,\n",
    "                        'check_uri_compliance': False,\n",
    "                        'check_completeness': False,\n",
    "                        'check_best_practices': False,\n",
    "                        'fail_on_first_error': False,\n",
    "                        'provide_detailed_stack_trace': False,\n",
    "                        'subset_uri': '',\n",
    "                        'uri_prefix': URIPrefix.value,\n",
    "                        'version': '',\n",
    "                        'insert_type': False,\n",
    "                        'main_file_name': 'main file',\n",
    "                        'diff_file_name': 'comparison file',\n",
    "                                },\n",
    "            'return_file': True,\n",
    "            'main_file': gbFile\n",
    "          }\n",
    "\n",
    "    response = requests.post(\"http://www.async.ece.utah.edu/validate/\", json=request)\n",
    "    xmlResponse = response.json()['result']\n",
    "    \n",
    "    sbolFile = open(fileName.value[:-3] + '.xml', 'w+')\n",
    "    sbolFile.write(xmlResponse)\n",
    "    print('Success!')\n",
    "\n",
    "sendButton.on_click(sendRequest)\n",
    "display(out)\n",
    "display(Javascript('IPython.notebook.execute_cell_range(IPython.notebook.get_selected_index()+1, IPython.notebook.ncells())'))"
   ]
  },
  {
   "cell_type": "markdown",
   "metadata": {},
   "source": [
    "# Reading in the SBOL File\n",
    "Reads in an SBOL file and displays the Component Definitions."
   ]
  },
  {
   "cell_type": "code",
   "execution_count": 2,
   "metadata": {
    "scrolled": false
   },
   "outputs": [
    {
     "data": {
      "application/vnd.jupyter.widget-view+json": {
       "model_id": "77ddda7ad8104811bc13cc2629161956",
       "version_major": 2,
       "version_minor": 0
      },
      "text/plain": [
       "Text(value='', description='File Name:', placeholder='Enter SBOL file name')"
      ]
     },
     "metadata": {},
     "output_type": "display_data"
    },
    {
     "data": {
      "application/vnd.jupyter.widget-view+json": {
       "model_id": "f2cf7a90ee19456f901cc9815a0d43a4",
       "version_major": 2,
       "version_minor": 0
      },
      "text/plain": [
       "Button(description='Submit', style=ButtonStyle(), tooltip='Reads in the SBOL file')"
      ]
     },
     "metadata": {},
     "output_type": "display_data"
    },
    {
     "data": {
      "application/vnd.jupyter.widget-view+json": {
       "model_id": "2267a411eca84eb3bd2eb8161a4b14ee",
       "version_major": 2,
       "version_minor": 0
      },
      "text/plain": [
       "Output()"
      ]
     },
     "metadata": {},
     "output_type": "display_data"
    }
   ],
   "source": [
    "from sbol import *\n",
    "import ipywidgets as widgets\n",
    "from IPython.display import Javascript, display, clear_output\n",
    "import requests\n",
    "import os\n",
    "import os.path\n",
    "\n",
    "fileNameSBOL = widgets.Text(\n",
    "    value = '',\n",
    "    placeholder = 'Enter SBOL file name',\n",
    "    description = 'File Name:',\n",
    "    disabled = False\n",
    ")\n",
    "\n",
    "submit = widgets.Button(\n",
    "    description = 'Submit',\n",
    "    disabled = False,\n",
    "    button_style = '',\n",
    "    tooltip = 'Reads in the SBOL file',\n",
    "    icon = ''\n",
    ")\n",
    "\n",
    "out = widgets.Output()\n",
    "\n",
    "display(fileNameSBOL)\n",
    "display(submit)\n",
    "\n",
    "doc = Document()\n",
    "setHomespace('https://bu.edu/ben')\n",
    "Config.setOption('sbol_typed_uris', False)\n",
    "PATH = './'\n",
    "\n",
    "originalCDs = []\n",
    "\n",
    "\n",
    "@out.capture()\n",
    "def showDoc(sender):\n",
    "    global originalCDs\n",
    "    clear_output()\n",
    "    if fileNameSBOL.value != '':\n",
    "        if os.path.isfile(PATH + fileNameSBOL.value) and (fileNameSBOL.value[-3:] == 'xml' or fileNameSBOL.value[-3:] == 'rdf'):\n",
    "            doc.read(fileNameSBOL.value)\n",
    "            originalCDs = doc.componentDefinitions\n",
    "            print(doc)\n",
    "        else:\n",
    "            print('Invalid file name!')\n",
    "    else:\n",
    "        print('You need a file name!')\n",
    "    \n",
    "    display(Javascript('IPython.notebook.execute_cell_range(IPython.notebook.get_selected_index()+1, IPython.notebook.ncells())'))\n",
    "\n",
    "\n",
    "submit.on_click(showDoc)\n",
    "display(out)"
   ]
  },
  {
   "cell_type": "markdown",
   "metadata": {},
   "source": [
    "# Add a Component"
   ]
  },
  {
   "cell_type": "code",
   "execution_count": 339,
   "metadata": {
    "scrolled": false
   },
   "outputs": [
    {
     "data": {
      "application/vnd.jupyter.widget-view+json": {
       "model_id": "9e5bafc4e08b49a28d5eb90e747de1ce",
       "version_major": 2,
       "version_minor": 0
      },
      "text/plain": [
       "Text(value='', description='Name:', placeholder='Enter a component name')"
      ]
     },
     "metadata": {},
     "output_type": "display_data"
    },
    {
     "data": {
      "application/vnd.jupyter.widget-view+json": {
       "model_id": "7c9b7ed0ebfa42e0b74b3c8f9dedb516",
       "version_major": 2,
       "version_minor": 0
      },
      "text/plain": [
       "Dropdown(description='Type:', options=('DNA', 'RNA', 'Protein', 'Small Molecule', 'Complex'), value='DNA')"
      ]
     },
     "metadata": {},
     "output_type": "display_data"
    },
    {
     "data": {
      "application/vnd.jupyter.widget-view+json": {
       "model_id": "fce3325ec0014900a3cc7810c0d2abf6",
       "version_major": 2,
       "version_minor": 0
      },
      "text/plain": [
       "Dropdown(description='Role:', options=('', 'Miscellaneous', 'Promoter', 'RBS', 'CDS', 'Terminator', 'Gene', 'O…"
      ]
     },
     "metadata": {},
     "output_type": "display_data"
    },
    {
     "data": {
      "application/vnd.jupyter.widget-view+json": {
       "model_id": "174e8a26013041518437447d812d05dc",
       "version_major": 2,
       "version_minor": 0
      },
      "text/plain": [
       "Button(description='Create', style=ButtonStyle(), tooltip='Creates a new Component Definition ')"
      ]
     },
     "metadata": {},
     "output_type": "display_data"
    },
    {
     "data": {
      "application/vnd.jupyter.widget-view+json": {
       "model_id": "d598e130c3b74a74a0ccc834d7ca9f45",
       "version_major": 2,
       "version_minor": 0
      },
      "text/plain": [
       "Output()"
      ]
     },
     "metadata": {},
     "output_type": "display_data"
    }
   ],
   "source": [
    "from sbol import *\n",
    "import ipywidgets as widgets\n",
    "from IPython.display import clear_output, Markdown\n",
    "\n",
    "componentTypes = ['DNA', 'RNA', 'Protein', 'Small Molecule', 'Complex']\n",
    "\n",
    "componentRoles = ['', 'Miscellaneous', 'Promoter', 'RBS', 'CDS', 'Terminator',\n",
    "                  'Gene', 'Operator', 'Engineered Gene', 'mRNA', 'Effector']\n",
    "\n",
    "typesMap = {'DNA':'http://www.biopax.org/release/biopax-level3.owl#DnaRegion',\n",
    "            'RNA':'http://www.biopax.org/release/biopax-level3.owl#RnaRegion',\n",
    "            'Protein':'http://www.biopax.org/release/biopax-level3.owl#Protein',\n",
    "            'Small Molecule':'http://www.biopax.org/release/biopax-level3.owl#SmallMolecule',\n",
    "            'Complex':'http://www.biopax.org/release/biopax-level3.owl#Complex'}\n",
    "\n",
    "rolesMap = {'Miscellaneous':'http://identifiers.org/so/SO:0000001',\n",
    "            'Promoter':'http://identifiers.org/so/SO:0000167',\n",
    "            'RBS':'http://identifiers.org/so/SO:0000139',\n",
    "            'CDS':'http://identifiers.org/so/SO:0000316',\n",
    "            'Terminator':'http://identifiers.org/so/SO:0000141',\n",
    "            'Gene':'http://identifiers.org/so/SO:0000704',\n",
    "            'Operator':'http://identifiers.org/so/SO:0000057',\n",
    "            'Engineered Gene':'http://identifiers.org/so/SO:0000280',\n",
    "            'mRNA':'http://identifiers.org/so/SO:0000234',\n",
    "            'Effector':'http://identifiers.org/chebi/CHEBI:35224',\n",
    "            'Transcription Factor':'http://identifiers.org/go/GO:0003700'}\n",
    "\n",
    "componentName = widgets.Text(\n",
    "    value = '',\n",
    "    placeholder = 'Enter a component name',\n",
    "    description = 'Name:',\n",
    "    disabled = False,\n",
    ")\n",
    "\n",
    "typeDrop = widgets.Dropdown(\n",
    "    options = componentTypes,\n",
    "    description = 'Type:',\n",
    "    disabled = False\n",
    ")\n",
    "\n",
    "roleDrop = widgets.Dropdown(\n",
    "    options = componentRoles,\n",
    "    description = 'Role:',\n",
    "    disabled = False\n",
    ")\n",
    "\n",
    "createButton = widgets.Button(\n",
    "    description = 'Create',\n",
    "    disabled = False,\n",
    "    button_style = '',\n",
    "    tooltip = 'Creates a new Component Definition ',\n",
    "    icon = ''\n",
    ")\n",
    "\n",
    "outBox = widgets.Output()\n",
    "\n",
    "display(componentName)\n",
    "display(typeDrop)\n",
    "display(roleDrop)\n",
    "display(createButton)\n",
    "display(outBox)\n",
    "\n",
    "@outBox.capture()\n",
    "def createButtonHandler(sender):\n",
    "    clear_output()\n",
    "    if componentName.value == '':\n",
    "        print('You need a component name!')\n",
    "        return\n",
    "    \n",
    "    try:\n",
    "        newComponentDefinition = ComponentDefinition(componentName.value, typesMap[typeDrop.value])\n",
    "        if roleDrop.value != '':\n",
    "            newComponentDefinition.roles = rolesMap[roleDrop.value]\n",
    "    except Exception as e:\n",
    "        print(e)\n",
    "        return\n",
    "    \n",
    "    try:\n",
    "        doc.addComponentDefinition(newComponentDefinition)\n",
    "        display(Javascript('IPython.notebook.execute_cell_range(IPython.notebook.get_selected_index()+1, IPython.notebook.ncells())'))\n",
    "        print('Component created!')\n",
    "    except RuntimeError:\n",
    "        print('Component name already exists!')\n",
    "\n",
    "createButton.on_click(createButtonHandler)"
   ]
  },
  {
   "cell_type": "markdown",
   "metadata": {},
   "source": [
    "# Component Definitions"
   ]
  },
  {
   "cell_type": "code",
   "execution_count": 346,
   "metadata": {
    "scrolled": false
   },
   "outputs": [
    {
     "data": {
      "application/vnd.jupyter.widget-view+json": {
       "model_id": "bba2c8b416f744eb9988de1304bf2731",
       "version_major": 2,
       "version_minor": 0
      },
      "text/plain": [
       "Accordion(children=(VBox(children=(HTML(value='<d1><dt><u>Description</u>:</dt>araC-Pbad - Arabinose inducible…"
      ]
     },
     "metadata": {},
     "output_type": "display_data"
    }
   ],
   "source": [
    "from sbol import *\n",
    "import ipywidgets as widgets\n",
    "from IPython.display import clear_output, Markdown\n",
    "\n",
    "typeDict = {'http://www.biopax.org/release/biopax-level3.owl#DnaRegion':'DNA',\n",
    "            'http://www.biopax.org/release/biopax-level3.owl#RnaRegion':'RNA',\n",
    "            'http://www.biopax.org/release/biopax-level3.owl#Protein':'Protein',\n",
    "            'http://www.biopax.org/release/biopax-level3.owl#SmallMolecule': 'Small Molecule',\n",
    "            'http://www.biopax.org/release/biopax-level3.owl#Complex':'Complex'}\n",
    "\n",
    "roleDict = {'http://identifiers.org/so/SO:0000001':'Miscellaneous', \n",
    "            'http://identifiers.org/so/SO:0000167':'Promoter',\n",
    "            'http://identifiers.org/so/SO:0000139':'RBS',\n",
    "            'http://identifiers.org/so/SO:0000316':'CDS',\n",
    "            'http://identifiers.org/so/SO:0000141':'Terminator',\n",
    "            'http://identifiers.org/so/SO:0000704':'Gene',\n",
    "            'http://identifiers.org/so/SO:0000057':'Operator',\n",
    "            'http://identifiers.org/so/SO:0000280':'Engineered Gene',\n",
    "            'http://identifiers.org/so/SO:0000234':'mRNA',\n",
    "            'http://identifiers.org/chebi/CHEBI:35224':'Effector',\n",
    "            'http://identifiers.org/go/GO:0003700':'Transcription Factor'}\n",
    "\n",
    "# flag = False\n",
    "\n",
    "# for cd in doc.componentDefinitions:\n",
    "#     if len(cd.sequenceAnnotations) is not 0:\n",
    "#         for sa in cd.sequenceAnnotations:\n",
    "#             if sa.component is None:\n",
    "#                 flag = True\n",
    "\n",
    "copyCDs = []\n",
    "\n",
    "for cd in doc.componentDefinitions:\n",
    "    num = 0\n",
    "    for sa in cd.sequenceAnnotations:\n",
    "        if sa.name == 'misc_feature':\n",
    "            sa.name = 'misc_feature' + str(num)\n",
    "            num = num + 1\n",
    "            \n",
    "    copyCDs.append(cd)\n",
    "\n",
    "for cd in copyCDs:\n",
    "    if len(cd.components) == 0 and len(cd.sequenceAnnotations) != 0:\n",
    "        for sa in cd.sequenceAnnotations:\n",
    "            if sa.component == None:\n",
    "                sa.extract()\n",
    "                \n",
    "# if len(doc.componentDefinitions) is 1:\n",
    "#     cd = doc.componentDefinitions[0]\n",
    "#     if len(cd.sequenceAnnotations) is not 0:\n",
    "#         for sa in cd.sequenceAnnotations:\n",
    "#             if sa.component is None:\n",
    "#                 sa.extract()\n",
    "\n",
    "numCD = len(doc.componentDefinitions)\n",
    "contents = []\n",
    "for i in range(numCD):\n",
    "    contents.append(widgets.VBox())\n",
    "    \n",
    "accordion = widgets.Accordion(children = contents)\n",
    "            \n",
    "            \n",
    "# Prints all ComponenentDefinitions in the SBOL file\n",
    "for index, cd in enumerate(doc.componentDefinitions):\n",
    "    box = contents[index]\n",
    "    accordion.set_title(index, cd.displayId)\n",
    "    childrenList = []\n",
    "    htmlString = ''\n",
    "    \n",
    "    if cd.description is not None:\n",
    "        htmlString = htmlString + '<dt><u>Description</u>:</dt>' + cd.description + '</dt>'\n",
    "    if len(cd.types) is not 0:\n",
    "        htmlString = htmlString + '<dt><u>Type(s)</u>:</dt>'\n",
    "        for typeComponent in cd.types:\n",
    "            if typeComponent in typeDict:\n",
    "                htmlString = htmlString + '<dd>-&nbsp' + typeDict[typeComponent] + '</dd>'\n",
    "            else:\n",
    "                htmlString = htmlString + '<dd>-&nbspOther</dd>' \n",
    "    if len(cd.roles) is not 0:\n",
    "        htmlString = htmlString + '<dt><u>Role(s)</u>:</dt>'\n",
    "        for role in cd.roles:\n",
    "            if role in roleDict:\n",
    "                htmlString = htmlString + '<dd>-&nbsp' + roleDict[role] + '</dd>'\n",
    "            else:\n",
    "                htmlString = htmlString + '<dd>-&nbspOther</dd>'\n",
    "    if len(cd.components) is not 0:\n",
    "        htmlString = htmlString + '<dt><u>Components</u>:</dt>'\n",
    "        for component in cd.components:\n",
    "            htmlString = htmlString + '<dd>-&nbsp' + component.name + '</dd>'\n",
    "            \n",
    "    childrenList.append(widgets.HTML('<d1>' + htmlString + '</d1>'))\n",
    "    box.children = childrenList\n",
    "\n",
    "display(accordion)"
   ]
  },
  {
   "cell_type": "markdown",
   "metadata": {},
   "source": [
    "# Adding Interactions\n",
    "Select more than one component with `shift + click` or `control (cmd) + click`."
   ]
  },
  {
   "cell_type": "code",
   "execution_count": 347,
   "metadata": {
    "scrolled": false
   },
   "outputs": [
    {
     "data": {
      "application/vnd.jupyter.widget-view+json": {
       "model_id": "ff206b2eae7d4f68bccf6b80a5f36f8c",
       "version_major": 2,
       "version_minor": 0
      },
      "text/plain": [
       "SelectMultiple(description='Components:', options=('BBa_K808000', 'misc_feature0', 'misc_feature1', 'CDS', 'pr…"
      ]
     },
     "metadata": {},
     "output_type": "display_data"
    },
    {
     "data": {
      "application/vnd.jupyter.widget-view+json": {
       "model_id": "167b1d3d34fa46a0abf77a1475e3114e",
       "version_major": 2,
       "version_minor": 0
      },
      "text/plain": [
       "Dropdown(description='Interaction:', options=('Inhibition', 'Stimulation', 'Biochemical Reaction', 'Non-Covale…"
      ]
     },
     "metadata": {},
     "output_type": "display_data"
    },
    {
     "data": {
      "application/vnd.jupyter.widget-view+json": {
       "model_id": "fc2a58f3a19743b4a8f4e0e8c5a91df3",
       "version_major": 2,
       "version_minor": 0
      },
      "text/plain": [
       "Button(description='Submit', style=ButtonStyle(), tooltip='Converts ')"
      ]
     },
     "metadata": {},
     "output_type": "display_data"
    },
    {
     "data": {
      "application/vnd.jupyter.widget-view+json": {
       "model_id": "661be9e049754379bf89189ae398704a",
       "version_major": 2,
       "version_minor": 0
      },
      "text/plain": [
       "Output()"
      ]
     },
     "metadata": {},
     "output_type": "display_data"
    },
    {
     "name": "stdout",
     "output_type": "stream",
     "text": [
      "hello\n",
      "hello\n"
     ]
    },
    {
     "data": {
      "application/vnd.jupyter.widget-view+json": {
       "model_id": "42267f6a07c44fcfb5c66d0e1fc0223e",
       "version_major": 2,
       "version_minor": 0
      },
      "text/plain": [
       "Button(description='Change', style=ButtonStyle(), tooltip='Changes interaction')"
      ]
     },
     "metadata": {},
     "output_type": "display_data"
    },
    {
     "data": {
      "application/vnd.jupyter.widget-view+json": {
       "model_id": "b2f7374e4ccd497c95057cd653a61ed6",
       "version_major": 2,
       "version_minor": 0
      },
      "text/plain": [
       "VBox(children=(Dropdown(description='CDS:', options=('Inhibitor', 'Inhibited', 'Stimulator', 'Stimulated', 'Re…"
      ]
     },
     "metadata": {},
     "output_type": "display_data"
    },
    {
     "data": {
      "application/vnd.jupyter.widget-view+json": {
       "model_id": "062e6aa04f7841fbbc2bb51ed62dacbb",
       "version_major": 2,
       "version_minor": 0
      },
      "text/plain": [
       "Button(description='Create Interaction', style=ButtonStyle(), tooltip='Creates interaction')"
      ]
     },
     "metadata": {},
     "output_type": "display_data"
    },
    {
     "name": "stdout",
     "output_type": "stream",
     "text": [
      "CDS\n",
      "CDS\n",
      "https://bu.edu/ben/md0/CDS/1.0.0\n",
      "araC\n",
      "araC\n",
      "https://bu.edu/ben/md0/araC/1.0.0\n",
      "hello\n",
      "hello\n",
      "CDS\n",
      "CDS\n",
      "https://bu.edu/ben/md0/CDS/1.0.0\n",
      "promoter\n",
      "promoter\n",
      "https://bu.edu/ben/md0/promoter/1.0.0\n"
     ]
    }
   ],
   "source": [
    "# from sbol import *\n",
    "# import ipywidgets as widgets\n",
    "# from IPython.display import clear_output, Markdown\n",
    "\n",
    "# setHomespace('https://bu.edu/ben')\n",
    "\n",
    "# # modules = []\n",
    "\n",
    "# componentNames = []\n",
    "# mapComponents = {}\n",
    "\n",
    "# for cd in doc.componentDefinitions:\n",
    "#     componentNames.append(cd.displayId)\n",
    "#     mapComponents[cd.displayId] = cd\n",
    "    \n",
    "# typesInteractions = ['Inhibition', 'Stimulation', 'Biochemical Reaction', \n",
    "#                      'Non-Covalent Binding', 'Degradation', 'Genetic Production', \n",
    "#                      'Control']\n",
    "# mapInteractions = {'Inhibition':'http://identifiers.org/biomodels.sbo/SBO:0000169', \n",
    "#                    'Stimulation':'http://identifiers.org/biomodels.sbo/SBO:0000170', \n",
    "#                    'Biochemical Reaction':'http://identifiers.org/biomodels.sbo/SBO:0000176', \n",
    "#                      'Non-Covalent Binding':'http://identifiers.org/biomodels.sbo/SBO:0000177', \n",
    "#                    'Degradation':'http://identifiers.org/biomodels.sbo/SBO:0000179', \n",
    "#                    'Genetic Production':'http://identifiers.org/biomodels.sbo/SBO:0000589', \n",
    "#                      'Control':'http://identifiers.org/biomodels.sbo/SBO:0000168'}\n",
    "\n",
    "# typesParticipants = ['Inhibitor', 'Inhibited', 'Stimulator', 'Stimulated', 'Reactant',\n",
    "#                      'Product', 'Promoter', 'Modifier', 'Modified', 'Template']\n",
    "# mapParticipants = {'Inhibitor':'http://identifiers.org/biomodels.sbo/SBO:0000020',\n",
    "#                    'Inhibited':'http://identifiers.org/biomodels.sbo/SBO:0000642',\n",
    "#                    'Stimulator':'http://identifiers.org/biomodels.sbo/SBO:0000459',\n",
    "#                    'Stimulated':'http://identifiers.org/biomodels.sbo/SBO:0000643',\n",
    "#                    'Reactant':'http://identifiers.org/biomodels.sbo/SBO:0000010',\n",
    "#                    'Product':'http://identifiers.org/biomodels.sbo/SBO:0000011',\n",
    "#                    'Promoter':'http://identifiers.org/biomodels.sbo/SBO:0000598',\n",
    "#                    'Modifier':'http://identifiers.org/biomodels.sbo/SBO:0000019',\n",
    "#                    'Modified':'http://identifiers.org/biomodels.sbo/SBO:0000644',\n",
    "#                    'Template':'http://identifiers.org/biomodels.sbo/SBO:0000645'}\n",
    "\n",
    "\n",
    "# participants = widgets.SelectMultiple(\n",
    "#     options = componentNames,\n",
    "#     description = 'Components:',\n",
    "#     rows = len(componentNames),\n",
    "#     disabled = False\n",
    "# )\n",
    "\n",
    "# interaction = widgets.Dropdown(\n",
    "#     options = typesInteractions,\n",
    "#     description = 'Interaction:',\n",
    "#     value = None,\n",
    "#     disabled = False\n",
    "# )\n",
    "\n",
    "# submitButton = widgets.Button(\n",
    "#     description = 'Submit',\n",
    "#     disabled = False,\n",
    "#     button_style = '',\n",
    "#     tooltip = 'Converts ',######## ADJKLAKLSDJL\n",
    "#     icon = ''\n",
    "# )\n",
    "\n",
    "# changeButton = widgets.Button(\n",
    "#     description = 'Change',\n",
    "#     disabled = False,\n",
    "#     button_style = '',\n",
    "#     tooltip = 'Changes interaction',\n",
    "#     icon = ''\n",
    "# )\n",
    "\n",
    "# createInteraction = widgets.Button(\n",
    "#     description = 'Create Interaction',\n",
    "#     disabled = False,\n",
    "#     button_style = '',\n",
    "#     tooltip = 'Creates interaction',\n",
    "#     icon = ''\n",
    "# )\n",
    "\n",
    "# interactionWidgets = widgets.VBox()\n",
    "\n",
    "# outputBox = widgets.Output()\n",
    "\n",
    "# display(participants)\n",
    "# display(interaction)\n",
    "# display(submitButton)\n",
    "# display(outputBox)\n",
    "\n",
    "# currentMD = ModuleDefinition()\n",
    "# currentInteraction = Interaction()\n",
    "\n",
    "# moduleCounter = 0\n",
    "# mapcount = 0\n",
    "\n",
    "# @outputBox.capture()\n",
    "# def printMessage(line):\n",
    "#     print(line)\n",
    "\n",
    "\n",
    "# def submitResponder(sender):\n",
    "#     global currentMD, currentInteraction, moduleCounter, originalCDs, mapcount\n",
    "    \n",
    "#     outputBox.clear_output()\n",
    "    \n",
    "#     if len(participants.value) == 0:\n",
    "#         printMessage('You need to select components!')\n",
    "#         return\n",
    "    \n",
    "#     fcMap = {}\n",
    "#     items = []\n",
    "    \n",
    "#     md = ModuleDefinition('md'+ str(moduleCounter))\n",
    "#     moduleCounter += 1\n",
    "    \n",
    "#     interactionModule = md.interactions.create(interaction.value.replace(' ', '_').replace('-', '_'))\n",
    "#     interactionModule.types = mapInteractions[interaction.value]\n",
    "#     currentInteraction = interactionModule\n",
    "    \n",
    "#     for p in participants.value:\n",
    "#         fc = md.functionalComponents.create(p)\n",
    "#         fcMap[p] = fc\n",
    "#         fc.definition = mapComponents[p].identity\n",
    "#         fc.access = SBOL_ACCESS_PUBLIC\n",
    "#         fc.direction = SBOL_DIRECTION_NONE\n",
    "        \n",
    "#         items.append(widgets.Dropdown(options = typesParticipants, description = p + ':', disabled = False, \n",
    "#                      style = {'description_width': 'initial'}))\n",
    "#         interactionWidgets.children = items\n",
    "        \n",
    "        \n",
    "#         for ocd in originalCDs:\n",
    "#             for c in ocd.components:\n",
    "#                 if c.definition == fc.definition:\n",
    "#                     exists = False\n",
    "#                     fcP = None\n",
    "#                     for functionalC in md.functionalComponents:\n",
    "#                         if functionalC.displayId == ocd.displayId:\n",
    "#                             exists = True\n",
    "#                             fcP = functionalC\n",
    "                    \n",
    "#                     if exists == False:  \n",
    "#                         fcP = md.functionalComponents.create(ocd.displayId)\n",
    "#                         fcMap[p] = fcP\n",
    "#                         fcP.definition = ocd.identity\n",
    "#                         fcP.access = SBOL_ACCESS_PUBLIC\n",
    "#                         fcP.direction = SBOL_DIRECTION_NONE\n",
    "                        \n",
    "#                     mapsto = fcP.mapsTos.create('map' + str(mapcount))\n",
    "#                     mapcount += 1\n",
    "                        \n",
    "#                     mapsto.refinement = SBOL_REFINEMENT_USE_LOCAL\n",
    "#                     mapsto.local = fc.identity\n",
    "#                     mapsto.remote = c.identity\n",
    "                        \n",
    "    \n",
    "#     currentMD = md\n",
    "    \n",
    "#     participants.disabled = True\n",
    "#     interaction.disabled = True\n",
    "#     submitButton.disabled = True\n",
    "    \n",
    "#     if changeButton.layout.display == 'none':\n",
    "#         changeButton.layout.display = None\n",
    "#         interactionWidgets.layout.display = None\n",
    "#         createInteraction.layout.display = None\n",
    "#     else:\n",
    "#         display(changeButton)\n",
    "#         display(interactionWidgets)\n",
    "#         display(createInteraction)\n",
    "    \n",
    "\n",
    "\n",
    "# def changeResponder(sender):\n",
    "#     global moduleCounter\n",
    "    \n",
    "#     interactionWidgets.children = []\n",
    "#     interactionWidgets.hidden = True\n",
    "#     interactionWidgets.layout.display = 'none'\n",
    "#     changeButton.layout.display = 'none'\n",
    "#     createInteraction.layout.display = 'none'\n",
    "    \n",
    "#     participants.disabled = False\n",
    "#     interaction.disabled = False\n",
    "#     submitButton.disabled = False\n",
    "    \n",
    "#     moduleCounter -= 1\n",
    "    \n",
    "# def createResponder(sender):\n",
    "#     alreadyExist = False\n",
    "    \n",
    "#     for index, widget in enumerate(interactionWidgets.children):\n",
    "#         participation = currentInteraction.participations.create(widget.description[:-1])\n",
    "#         participation.roles = mapParticipants[widget.value]\n",
    "        \n",
    "#         fcIdentity = ''\n",
    "#         for fc in currentMD.functionalComponents:\n",
    "#             if fc.displayId == widget.description[:-1]:\n",
    "#                 fcIdentity = fc.identity\n",
    "        \n",
    "#         participation.participant = fcIdentity\n",
    "    \n",
    "#     try:\n",
    "#         doc.addModuleDefinition(currentMD)\n",
    "#     except:\n",
    "#         alreadyExist = True\n",
    "#         printMessage('Interaction already exists!')\n",
    "    \n",
    "#     interactionWidgets.children = []\n",
    "#     interactionWidgets.hidden = True\n",
    "#     interactionWidgets.layout.display = 'none'\n",
    "#     changeButton.layout.display = 'none'\n",
    "#     createInteraction.layout.display = 'none'\n",
    "    \n",
    "#     participants.disabled = False\n",
    "#     interaction.disabled = False\n",
    "#     submitButton.disabled = False\n",
    "    \n",
    "#     participants.value = []\n",
    "#     interaction.value = None\n",
    "    \n",
    "#     if alreadyExist == False:\n",
    "#         printMessage('Interaction created!')\n",
    "\n",
    "\n",
    "# submitButton.on_click(submitResponder)\n",
    "# changeButton.on_click(changeResponder)\n",
    "# createInteraction.on_click(createResponder)\n",
    "\n",
    "from sbol import *\n",
    "import ipywidgets as widgets\n",
    "from IPython.display import clear_output, Markdown\n",
    "\n",
    "setHomespace('https://bu.edu/ben')\n",
    "\n",
    "# modules = []\n",
    "\n",
    "componentNames = []\n",
    "mapComponents = {}\n",
    "\n",
    "for cd in doc.componentDefinitions:\n",
    "    componentNames.append(cd.displayId)\n",
    "    mapComponents[cd.displayId] = cd\n",
    "    \n",
    "typesInteractions = ['Inhibition', 'Stimulation', 'Biochemical Reaction', \n",
    "                     'Non-Covalent Binding', 'Degradation', 'Genetic Production', \n",
    "                     'Control']\n",
    "mapInteractions = {'Inhibition':'http://identifiers.org/biomodels.sbo/SBO:0000169', \n",
    "                   'Stimulation':'http://identifiers.org/biomodels.sbo/SBO:0000170', \n",
    "                   'Biochemical Reaction':'http://identifiers.org/biomodels.sbo/SBO:0000176', \n",
    "                     'Non-Covalent Binding':'http://identifiers.org/biomodels.sbo/SBO:0000177', \n",
    "                   'Degradation':'http://identifiers.org/biomodels.sbo/SBO:0000179', \n",
    "                   'Genetic Production':'http://identifiers.org/biomodels.sbo/SBO:0000589', \n",
    "                     'Control':'http://identifiers.org/biomodels.sbo/SBO:0000168'}\n",
    "\n",
    "typesParticipants = ['Inhibitor', 'Inhibited', 'Stimulator', 'Stimulated', 'Reactant',\n",
    "                     'Product', 'Promoter', 'Modifier', 'Modified', 'Template']\n",
    "mapParticipants = {'Inhibitor':'http://identifiers.org/biomodels.sbo/SBO:0000020',\n",
    "                   'Inhibited':'http://identifiers.org/biomodels.sbo/SBO:0000642',\n",
    "                   'Stimulator':'http://identifiers.org/biomodels.sbo/SBO:0000459',\n",
    "                   'Stimulated':'http://identifiers.org/biomodels.sbo/SBO:0000643',\n",
    "                   'Reactant':'http://identifiers.org/biomodels.sbo/SBO:0000010',\n",
    "                   'Product':'http://identifiers.org/biomodels.sbo/SBO:0000011',\n",
    "                   'Promoter':'http://identifiers.org/biomodels.sbo/SBO:0000598',\n",
    "                   'Modifier':'http://identifiers.org/biomodels.sbo/SBO:0000019',\n",
    "                   'Modified':'http://identifiers.org/biomodels.sbo/SBO:0000644',\n",
    "                   'Template':'http://identifiers.org/biomodels.sbo/SBO:0000645'}\n",
    "\n",
    "\n",
    "participants = widgets.SelectMultiple(\n",
    "    options = componentNames,\n",
    "    description = 'Components:',\n",
    "    rows = len(componentNames),\n",
    "    disabled = False\n",
    ")\n",
    "\n",
    "interaction = widgets.Dropdown(\n",
    "    options = typesInteractions,\n",
    "    description = 'Interaction:',\n",
    "    value = None,\n",
    "    disabled = False\n",
    ")\n",
    "\n",
    "submitButton = widgets.Button(\n",
    "    description = 'Submit',\n",
    "    disabled = False,\n",
    "    button_style = '',\n",
    "    tooltip = 'Converts ',######## ADJKLAKLSDJL\n",
    "    icon = ''\n",
    ")\n",
    "\n",
    "changeButton = widgets.Button(\n",
    "    description = 'Change',\n",
    "    disabled = False,\n",
    "    button_style = '',\n",
    "    tooltip = 'Changes interaction',\n",
    "    icon = ''\n",
    ")\n",
    "\n",
    "createInteraction = widgets.Button(\n",
    "    description = 'Create Interaction',\n",
    "    disabled = False,\n",
    "    button_style = '',\n",
    "    tooltip = 'Creates interaction',\n",
    "    icon = ''\n",
    ")\n",
    "\n",
    "interactionWidgets = widgets.VBox()\n",
    "\n",
    "outputBox = widgets.Output()\n",
    "\n",
    "display(participants)\n",
    "display(interaction)\n",
    "display(submitButton)\n",
    "display(outputBox)\n",
    "\n",
    "# currentMD = ModuleDefinition()\n",
    "# currentInteraction = Interaction()\n",
    "\n",
    "mapcount = 0\n",
    "\n",
    "@outputBox.capture()\n",
    "def printMessage(line):\n",
    "    print(line)\n",
    "\n",
    "    \n",
    "\n",
    "module = ModuleDefinition('md0')\n",
    "foundModule = None\n",
    "for md in doc.moduleDefinitions:\n",
    "    if module.identity == md.identity:\n",
    "        foundModule = md\n",
    "\n",
    "if foundModule is None:\n",
    "    doc.addModuleDefinition(module)\n",
    "else:\n",
    "    module = foundModule\n",
    "\n",
    "\n",
    "createdFCs = []\n",
    "createdInteractions = []\n",
    "createdMapsTos = []\n",
    "    \n",
    "def submitResponder(sender):\n",
    "    global module, currentInteraction, originalCDs, mapcount\n",
    "    \n",
    "    outputBox.clear_output()\n",
    "    \n",
    "    if len(participants.value) == 0:\n",
    "        printMessage('You need to select components!')\n",
    "        return\n",
    "    \n",
    "    items = []\n",
    "    \n",
    "    interactionString = interaction.value.replace(' ', '_').replace('-', '_')\n",
    "    \n",
    "    for p in participants.value:\n",
    "        fc = None\n",
    "        try:\n",
    "            print('hello')\n",
    "            fc = module.functionalComponents.create(p)\n",
    "            fc.definition = mapComponents[p].identity\n",
    "            fc.access = SBOL_ACCESS_PUBLIC\n",
    "            fc.direction = SBOL_DIRECTION_NONE\n",
    "            \n",
    "            createdFCs.append(fc.identity)\n",
    "        except:\n",
    "            pass\n",
    "            \n",
    "        items.append(widgets.Dropdown(options = typesParticipants, description = p + ':', disabled = False, \n",
    "                     style = {'description_width': 'initial'}))\n",
    "        \n",
    "        interactionString += '_' + p\n",
    "        \n",
    "        \n",
    "        # Checking to see if parent component exists as a functional component\n",
    "        \n",
    "        for original in originalCDs:\n",
    "            for c in original.components:\n",
    "                if c.definition == mapComponents[p].identity:\n",
    "                    fcP = None\n",
    "                    try:\n",
    "                        fcP = module.functionalComponents.create(original.displayId)\n",
    "                        fcP.definition = original.identity\n",
    "                        fcP.access = SBOL_ACCESS_PUBLIC\n",
    "                        fcP.direction = SBOL_DIRECTION_NONE\n",
    "                    except:\n",
    "                        for fc in module.functionalComponents:\n",
    "                            if fc.definition == original.identity:\n",
    "                                fcP = fc\n",
    "                                \n",
    "                    if fc is not None:\n",
    "                        mapsto = fcP.mapsTos.create('map' + str(mapcount))\n",
    "                        mapcount += 1\n",
    "                        \n",
    "                        mapsto.refinement = SBOL_REFINEMENT_USE_LOCAL\n",
    "                        mapsto.local = fc.identity\n",
    "                        mapsto.remote = c.identity\n",
    "    \n",
    "    \n",
    "    interactionWidgets.children = items\n",
    "    \n",
    "    \n",
    "    interactionModule = module.interactions.create(interactionString)\n",
    "    interactionModule.types = mapInteractions[interaction.value]\n",
    "    currentInteraction = interactionModule\n",
    "    createdInteractions.append(interactionModule.identity)\n",
    "    \n",
    "    \n",
    "    # TODO: Add the whole plasmid stuff and mapstos\n",
    "    \n",
    "    participants.disabled = True\n",
    "    interaction.disabled = True\n",
    "    submitButton.disabled = True\n",
    "    \n",
    "    if changeButton.layout.display == 'none':\n",
    "        changeButton.layout.display = None\n",
    "        interactionWidgets.layout.display = None\n",
    "        createInteraction.layout.display = None\n",
    "    else:\n",
    "        display(changeButton)\n",
    "        display(interactionWidgets)\n",
    "        display(createInteraction)\n",
    "    \n",
    "\n",
    "\n",
    "def changeResponder(sender):\n",
    "    global createdFCs, createdInteractions, createdMapsTos\n",
    "    \n",
    "    interactionWidgets.children = []\n",
    "    interactionWidgets.hidden = True\n",
    "    interactionWidgets.layout.display = 'none'\n",
    "    changeButton.layout.display = 'none'\n",
    "    createInteraction.layout.display = 'none'\n",
    "    \n",
    "    participants.disabled = False\n",
    "    interaction.disabled = False\n",
    "    submitButton.disabled = False\n",
    "    \n",
    "    for fcURI in createdFCs:\n",
    "        module.functionalComponents.remove(fcURI)\n",
    "#         doc.find(fcURI).cast(FunctionalComponent).close()\n",
    "#         doc.close(fcURI)\n",
    "        \n",
    "    for iURI in createdInteractions:\n",
    "        module.interactions.remove(iURI)\n",
    "#         doc.find(iURI).cast(Interaction).close()\n",
    "#         doc.close(iURI)\n",
    "        \n",
    "    for mapsTosURI in createdMapsTos:\n",
    "        module.mapsTos.remove(mapsTosURI)\n",
    "#         doc.find(mapsTosURI).cast(MapsTo).close()\n",
    "#         doc.close(mapsTosURI)\n",
    "        \n",
    "    createdFCs = []\n",
    "    createdInteractions = []\n",
    "    createdMapsTos = []\n",
    "    \n",
    "    \n",
    "def createResponder(sender):\n",
    "    global createdFCs, createdInteractions, createdMapsTos, module\n",
    "    alreadyExist = False\n",
    "    \n",
    "    \n",
    "    for index, widget in enumerate(interactionWidgets.children):\n",
    "        participation = currentInteraction.participations.create(widget.description[:-1])\n",
    "        participation.roles = mapParticipants[widget.value]\n",
    "        \n",
    "        fcIdentity = ''\n",
    "        for fc in module.functionalComponents:\n",
    "            if fc.displayId == widget.description[:-1]:\n",
    "                print(fc.displayId)\n",
    "                print(widget.description[:-1])\n",
    "                fcIdentity = fc.identity\n",
    "                print(fcIdentity)\n",
    "        \n",
    "        participation.participant = fcIdentity\n",
    "    \n",
    "\n",
    "    \n",
    "    interactionWidgets.children = []\n",
    "    interactionWidgets.hidden = True\n",
    "    interactionWidgets.layout.display = 'none'\n",
    "    changeButton.layout.display = 'none'\n",
    "    createInteraction.layout.display = 'none'\n",
    "    \n",
    "    participants.disabled = False\n",
    "    interaction.disabled = False\n",
    "    submitButton.disabled = False\n",
    "    \n",
    "    participants.value = []\n",
    "    interaction.value = None\n",
    "    \n",
    "    createdFCs = []\n",
    "    createdInteractions = []\n",
    "    createdMapsTos = []\n",
    "    \n",
    "    if alreadyExist == False:\n",
    "        printMessage('Interaction created!')\n",
    "\n",
    "\n",
    "submitButton.on_click(submitResponder)\n",
    "changeButton.on_click(changeResponder)\n",
    "createInteraction.on_click(createResponder)"
   ]
  },
  {
   "cell_type": "markdown",
   "metadata": {},
   "source": [
    "# Interactions"
   ]
  },
  {
   "cell_type": "code",
   "execution_count": 348,
   "metadata": {
    "scrolled": false
   },
   "outputs": [
    {
     "data": {
      "application/vnd.jupyter.widget-view+json": {
       "model_id": "60a55a3fe40a4d5b99e6684d1fe91d89",
       "version_major": 2,
       "version_minor": 0
      },
      "text/plain": [
       "Accordion(children=(Label(value=''),), _titles={'0': 'md0'})"
      ]
     },
     "metadata": {},
     "output_type": "display_data"
    }
   ],
   "source": [
    "# doc.moduleDefinitions[0]\n",
    "# doc.write('hello.xml')\n",
    "\n",
    "\n",
    "from sbol import *\n",
    "import ipywidgets as widgets\n",
    "from IPython.display import clear_output, Markdown\n",
    "\n",
    "moduleNames = []\n",
    "mapModules = {}\n",
    "\n",
    "for md in doc.moduleDefinitions:\n",
    "    moduleNames.append(md.displayId)\n",
    "    mapModules[md.displayId] = md\n",
    "\n",
    "numMD = len(doc.moduleDefinitions)\n",
    "contents = []\n",
    "for i in range(numMD):\n",
    "    contents.append(widgets.Label())\n",
    "    \n",
    "accordion = widgets.Accordion(children = contents)\n",
    "\n",
    "for index, md in enumerate(doc.moduleDefinitions):\n",
    "    accordion.set_title(index, md.displayId)\n",
    "\n",
    "display(accordion)"
   ]
  },
  {
   "cell_type": "markdown",
   "metadata": {},
   "source": [
    "# Temporary Save Button"
   ]
  },
  {
   "cell_type": "code",
   "execution_count": 349,
   "metadata": {},
   "outputs": [
    {
     "data": {
      "application/vnd.jupyter.widget-view+json": {
       "model_id": "394980da4fad4898a28c601c751457a9",
       "version_major": 2,
       "version_minor": 0
      },
      "text/plain": [
       "Button(description='Save', style=ButtonStyle(), tooltip='Saves file')"
      ]
     },
     "metadata": {},
     "output_type": "display_data"
    }
   ],
   "source": [
    "from sbol import *\n",
    "import ipywidgets as widgets\n",
    "from IPython.display import clear_output, Markdown\n",
    "\n",
    "saveButton = widgets.Button(\n",
    "    description = 'Save',\n",
    "    disabled = False,\n",
    "    button_style = '',\n",
    "    tooltip = 'Saves file',\n",
    "    icon = ''\n",
    ")\n",
    "\n",
    "display(saveButton)\n",
    "\n",
    "def saveStuff(sender):\n",
    "    doc.write('hello.xml')\n",
    "    \n",
    "saveButton.on_click(saveStuff)"
   ]
  },
  {
   "cell_type": "code",
   "execution_count": 350,
   "metadata": {},
   "outputs": [],
   "source": [
    "test = None\n",
    "for i in md.interactions:\n",
    "    print(i.identity)\n",
    "    test = i.identity\n"
   ]
  },
  {
   "cell_type": "code",
   "execution_count": 354,
   "metadata": {},
   "outputs": [
    {
     "name": "stdout",
     "output_type": "stream",
     "text": [
      "https://bu.edu/ben/md0/BBa_K808000/map0/1.0.0\n",
      "https://bu.edu/ben/md0/BBa_K808000/map1/1.0.0\n",
      "https://bu.edu/ben/md0/BBa_K808000/map2/1.0.0\n"
     ]
    }
   ],
   "source": [
    "for md in doc.moduleDefinitions:\n",
    "    for fc in md.functionalComponents:\n",
    "        for i in fc.mapsTos:\n",
    "            print(i)"
   ]
  }
 ],
 "metadata": {
  "kernelspec": {
   "display_name": "Python 3",
   "language": "python",
   "name": "python3"
  },
  "language_info": {
   "codemirror_mode": {
    "name": "ipython",
    "version": 3
   },
   "file_extension": ".py",
   "mimetype": "text/x-python",
   "name": "python",
   "nbconvert_exporter": "python",
   "pygments_lexer": "ipython3",
   "version": "3.7.3"
  }
 },
 "nbformat": 4,
 "nbformat_minor": 2
}
