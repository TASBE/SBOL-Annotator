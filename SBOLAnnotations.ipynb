{
 "cells": [
  {
   "cell_type": "code",
   "execution_count": 32,
   "metadata": {
    "init_cell": true,
    "scrolled": true
   },
   "outputs": [
    {
     "data": {
      "text/html": [
       "<script>\n",
       "            code_show=true; \n",
       "            function code_toggle() {\n",
       "                if (code_show){\n",
       "                    $('div.input').hide();\n",
       "                } else {\n",
       "                    $('div.input').show();\n",
       "                }\n",
       "                    code_show = !code_show\n",
       "            } \n",
       "            $( document ).ready(code_toggle);\n",
       "        </script>\n",
       "        <form action=\"javascript:code_toggle()\"><input type=\"submit\" value=\"View/Hide Raw Code\"></form>"
      ],
      "text/plain": [
       "<IPython.core.display.HTML object>"
      ]
     },
     "execution_count": 32,
     "metadata": {},
     "output_type": "execute_result"
    }
   ],
   "source": [
    "from IPython.display import HTML\n",
    "\n",
    "HTML('''<script>\n",
    "            code_show=true; \n",
    "            function code_toggle() {\n",
    "                if (code_show){\n",
    "                    $('div.input').hide();\n",
    "                } else {\n",
    "                    $('div.input').show();\n",
    "                }\n",
    "                    code_show = !code_show\n",
    "            } \n",
    "            $( document ).ready(code_toggle);\n",
    "        </script>\n",
    "        <form action=\"javascript:code_toggle()\"><input type=\"submit\" value=\"View/Hide Raw Code\"></form>''')"
   ]
  },
  {
   "cell_type": "markdown",
   "metadata": {},
   "source": [
    "# Converting the GenBank File to SBOL\n",
    "1. Upload the GenBank file or place in the same folder.\n",
    "2. Enter the file name and the URI prefix (something like https://bu.edu/ben) that you want to use.\n",
    "3. Enter a version (optional).\n",
    "4. Hit send and it will create an SBOL file with the same name."
   ]
  },
  {
   "cell_type": "code",
   "execution_count": 40,
   "metadata": {
    "init_cell": true,
    "scrolled": false
   },
   "outputs": [
    {
     "data": {
      "application/vnd.jupyter.widget-view+json": {
       "model_id": "2accc88e69034e6f9f54a65885e12649",
       "version_major": 2,
       "version_minor": 0
      },
      "text/plain": [
       "FileUpload(accept='.gb', multiple=True, style_button='color: white; background-color: teal')"
      ]
     },
     "metadata": {},
     "output_type": "display_data"
    },
    {
     "data": {
      "application/vnd.jupyter.widget-view+json": {
       "model_id": "3bb8bcc8f91543e7bb5392898615ffea",
       "version_major": 2,
       "version_minor": 0
      },
      "text/plain": [
       "Text(value='', description='URL:', placeholder='Enter URI Prefix')"
      ]
     },
     "metadata": {},
     "output_type": "display_data"
    },
    {
     "data": {
      "application/vnd.jupyter.widget-view+json": {
       "model_id": "fd808dab9b1a473f93cae596ef1200ba",
       "version_major": 2,
       "version_minor": 0
      },
      "text/plain": [
       "Text(value='', description='Version:', placeholder='Enter Version (optional)')"
      ]
     },
     "metadata": {},
     "output_type": "display_data"
    },
    {
     "data": {
      "application/vnd.jupyter.widget-view+json": {
       "model_id": "d9babbd10984477e8a9c440fe808d1ef",
       "version_major": 2,
       "version_minor": 0
      },
      "text/plain": [
       "Button(description='Send', disabled=True, style=ButtonStyle(), tooltip='Converts Genbank file to SBOL')"
      ]
     },
     "metadata": {},
     "output_type": "display_data"
    },
    {
     "data": {
      "application/vnd.jupyter.widget-view+json": {
       "model_id": "a965bc089c944b42b7509c9539f2e354",
       "version_major": 2,
       "version_minor": 0
      },
      "text/plain": [
       "Output()"
      ]
     },
     "metadata": {},
     "output_type": "display_data"
    }
   ],
   "source": [
    "from sbol import *\n",
    "import ipywidgets as widgets\n",
    "from IPython.display import Javascript, display, clear_output\n",
    "from ipyupload import FileUpload\n",
    "import os\n",
    "import sys\n",
    "CURRENTDIR = os.getcwd()\n",
    "SRCDIR = os.path.join(CURRENTDIR, 'src')\n",
    "if sys.path[0] != SRCDIR:\n",
    "    sys.path.insert(0, SRCDIR)\n",
    "import convert\n",
    "\n",
    "# Widgets\n",
    "upload = FileUpload(\n",
    "    accept='.gb',\n",
    "    multiple=True,\n",
    "    disabled=False,\n",
    "    style_button='color: white; background-color: teal',\n",
    "    compress_level=0\n",
    ")\n",
    "URIPrefix = widgets.Text(\n",
    "    value='', \n",
    "    placeholder='Enter URI Prefix',\n",
    "    description='URL:'\n",
    ")\n",
    "version = widgets.Text(\n",
    "    placeholder='Enter Version (optional)',\n",
    "    description='Version:'\n",
    ")\n",
    "sendButton = widgets.Button(\n",
    "    description='Send',\n",
    "    disabled=True,\n",
    "    tooltip='Converts Genbank file to SBOL'\n",
    ")\n",
    "out = widgets.Output()\n",
    "\n",
    "# Displaying Widgets\n",
    "display(upload)\n",
    "display(URIPrefix)\n",
    "display(version)\n",
    "display(sendButton)\n",
    "display(out)\n",
    "\n",
    "# Global Variables for Whole Notebook\n",
    "doc = Document()\n",
    "Config.setOption('sbol_compliant_uris', True)\n",
    "Config.setOption('sbol_typed_uris', False)\n",
    "\n",
    "originalCDs = []\n",
    "addedCDs = []\n",
    "cdDictionary = {}\n",
    "\n",
    "# Listener to enable the Send button\n",
    "def checkInputs(sender):\n",
    "    if URIPrefix.value == '' or len(upload.value) == 0:\n",
    "        sendButton.disabled = True\n",
    "    else:\n",
    "        sendButton.disabled = False\n",
    "\n",
    "# Listener for the Send button push -- adds GenBank files to Document\n",
    "@out.capture()\n",
    "def sendRequest(sender):\n",
    "    global originalCDs, cdDictionary, doc\n",
    "    clear_output()\n",
    "        \n",
    "    doc = Document()\n",
    "    setHomespace(URIPrefix.value)\n",
    "\n",
    "    cdDicitonary = {}\n",
    "    originalCDs = []\n",
    "    addedCDs = []\n",
    "    \n",
    "    try:\n",
    "        convert.getSBOLFiles(doc, originalCDs, cdDictionary, upload.value, URIPrefix.value, version.value)\n",
    "    except:\n",
    "        print('You need to input GenBank files.')\n",
    "        return\n",
    "    \n",
    "    print('Success!')\n",
    "    display(Javascript('IPython.notebook.execute_cell_range(IPython.notebook.get_selected_index()+1, IPython.notebook.ncells())'))\n",
    "\n",
    "# Connecting Observers\n",
    "upload.observe(checkInputs)\n",
    "URIPrefix.observe(checkInputs)\n",
    "sendButton.on_click(sendRequest)\n"
   ]
  },
  {
   "cell_type": "markdown",
   "metadata": {},
   "source": [
    "# Add a Component\n",
    "Enter the name of the component, the type, and the role (optional)."
   ]
  },
  {
   "cell_type": "code",
   "execution_count": 49,
   "metadata": {
    "init_cell": true,
    "scrolled": false
   },
   "outputs": [
    {
     "data": {
      "application/vnd.jupyter.widget-view+json": {
       "model_id": "72413d846d9c4aaeb815f3f206a045fb",
       "version_major": 2,
       "version_minor": 0
      },
      "text/plain": [
       "Text(value='', description='Name:', placeholder='Enter a component name')"
      ]
     },
     "metadata": {},
     "output_type": "display_data"
    },
    {
     "data": {
      "application/vnd.jupyter.widget-view+json": {
       "model_id": "ad972503a5ae4e43a804d747dd211c00",
       "version_major": 2,
       "version_minor": 0
      },
      "text/plain": [
       "Dropdown(description='Type:', options=('DNA', 'RNA', 'Protein', 'Small Molecule', 'Complex'), value='DNA')"
      ]
     },
     "metadata": {},
     "output_type": "display_data"
    },
    {
     "data": {
      "application/vnd.jupyter.widget-view+json": {
       "model_id": "f9e79749ac74405f8c31c6c31733fbac",
       "version_major": 2,
       "version_minor": 0
      },
      "text/plain": [
       "Dropdown(description='Role:', options=('', 'Miscellaneous', 'Promoter', 'RBS', 'CDS', 'Terminator', 'Gene', 'O…"
      ]
     },
     "metadata": {},
     "output_type": "display_data"
    },
    {
     "data": {
      "application/vnd.jupyter.widget-view+json": {
       "model_id": "549c4a1ad78041c0b6565ce5652ebf4f",
       "version_major": 2,
       "version_minor": 0
      },
      "text/plain": [
       "Text(value='', description='URL:', placeholder='Enter a definition URL (optional)')"
      ]
     },
     "metadata": {},
     "output_type": "display_data"
    },
    {
     "data": {
      "application/vnd.jupyter.widget-view+json": {
       "model_id": "7e783f4df8a04dbca2579959adb072e8",
       "version_major": 2,
       "version_minor": 0
      },
      "text/plain": [
       "Button(description='Create', disabled=True, style=ButtonStyle(), tooltip='Creates a new Component Definition')"
      ]
     },
     "metadata": {},
     "output_type": "display_data"
    },
    {
     "data": {
      "application/vnd.jupyter.widget-view+json": {
       "model_id": "fab2c81d4cf9437698c4ddf24e6c0c58",
       "version_major": 2,
       "version_minor": 0
      },
      "text/plain": [
       "Output()"
      ]
     },
     "metadata": {},
     "output_type": "display_data"
    }
   ],
   "source": [
    "from sbol import *\n",
    "import ipywidgets as widgets\n",
    "from IPython.display import clear_output, Markdown\n",
    "import os\n",
    "import sys\n",
    "CURRENTDIR = os.getcwd()\n",
    "SRCDIR = os.path.join(CURRENTDIR, 'src')\n",
    "if sys.path[0] != SRCDIR:\n",
    "    sys.path.insert(0, SRCDIR)\n",
    "from componentsingle import componentTypes, componentRoles, typesMap, rolesMap, addComponent\n",
    "\n",
    "\n",
    "# Widgets\n",
    "componentName = widgets.Text(\n",
    "    value='',\n",
    "    placeholder='Enter a component name',\n",
    "    description='Name:'\n",
    ")\n",
    "typeDrop = widgets.Dropdown(\n",
    "    options=componentTypes,\n",
    "    description='Type:'\n",
    ")\n",
    "roleDrop = widgets.Dropdown(\n",
    "    options=componentRoles,\n",
    "    description='Role:'\n",
    ")\n",
    "definitionURL = widgets.Text(\n",
    "    value='',\n",
    "    placeholder='Enter a definition URL (optional)',\n",
    "    description='URL:'\n",
    ")\n",
    "createButton = widgets.Button(\n",
    "    description='Create',\n",
    "    disabled=True,\n",
    "    tooltip='Creates a new Component Definition'\n",
    ")\n",
    "outBox = widgets.Output()\n",
    "\n",
    "# Displaying Widgets\n",
    "display(componentName)\n",
    "display(typeDrop)\n",
    "display(roleDrop)\n",
    "display(definitionURL)\n",
    "display(createButton)\n",
    "display(outBox)\n",
    "\n",
    "# Listener to enable Create button\n",
    "def checkText(sender):\n",
    "    if componentName.value == '':\n",
    "        createButton.disabled = True\n",
    "    else:\n",
    "        createButton.disabled = False\n",
    "\n",
    "# Listener for Create button push -- creates and adds Component Definition to Document\n",
    "@outBox.capture()\n",
    "def createButtonHandler(sender):\n",
    "    global doc, addedCDs\n",
    "    clear_output()\n",
    "    \n",
    "    addComponent(doc, addedCDs, componentName.value, typeDrop.value, roleDrop.value, definitionURL.value)\n",
    "    display(Javascript('IPython.notebook.execute_cell_range(IPython.notebook.get_selected_index()+1, IPython.notebook.ncells())'))\n",
    "\n",
    "componentName.observe(checkText)\n",
    "createButton.on_click(createButtonHandler)"
   ]
  },
  {
   "cell_type": "markdown",
   "metadata": {},
   "source": [
    "# Component Definitions"
   ]
  },
  {
   "cell_type": "code",
   "execution_count": 42,
   "metadata": {
    "init_cell": true,
    "scrolled": false
   },
   "outputs": [
    {
     "data": {
      "application/vnd.jupyter.widget-view+json": {
       "model_id": "0f4af7a801b24cbfbd919762d8fa95e2",
       "version_major": 2,
       "version_minor": 0
      },
      "text/plain": [
       "VBox()"
      ]
     },
     "metadata": {},
     "output_type": "display_data"
    }
   ],
   "source": [
    "from sbol import *\n",
    "import ipywidgets as widgets\n",
    "from componentdefinitions import fixAndCreateWidgets\n",
    "\n",
    "mainBox = widgets.VBox(children=fixAndCreateWidgets(doc, originalCDs, addedCDs, cdDictionary))\n",
    "\n",
    "display(mainBox)"
   ]
  },
  {
   "cell_type": "markdown",
   "metadata": {},
   "source": [
    "# Add Components to Modules\n"
   ]
  },
  {
   "cell_type": "code",
   "execution_count": 43,
   "metadata": {
    "init_cell": true,
    "scrolled": false
   },
   "outputs": [
    {
     "data": {
      "application/vnd.jupyter.widget-view+json": {
       "model_id": "1ef472557e734e30a9fd56188dbf6d2c",
       "version_major": 2,
       "version_minor": 0
      },
      "text/plain": [
       "HBox(children=(VBox(children=(HTML(value='<h4>Device-Test-Context</h4>'), Text(value='', description='Name:', …"
      ]
     },
     "metadata": {},
     "output_type": "display_data"
    },
    {
     "data": {
      "application/vnd.jupyter.widget-view+json": {
       "model_id": "10733ff59a904b63961aedd314d4b37b",
       "version_major": 2,
       "version_minor": 0
      },
      "text/plain": [
       "Button(description='Finalize', disabled=True, style=ButtonStyle(), tooltip='Finalize modules')"
      ]
     },
     "metadata": {},
     "output_type": "display_data"
    },
    {
     "data": {
      "application/vnd.jupyter.widget-view+json": {
       "model_id": "4bd09753d6b94f7a9a6a22c899c5ed8c",
       "version_major": 2,
       "version_minor": 0
      },
      "text/plain": [
       "Output()"
      ]
     },
     "metadata": {},
     "output_type": "display_data"
    }
   ],
   "source": [
    "from sbol import *\n",
    "import ipywidgets as widgets\n",
    "from IPython.display import clear_output, Markdown\n",
    "from componentbuckets import *\n",
    "\n",
    "# Nested Modules\n",
    "device_test_context = ModuleDefinition('context')\n",
    "device_test = ModuleDefinition('device_test')\n",
    "device = ModuleDefinition('device')\n",
    "\n",
    "device_test_submod = device_test_context.modules.create('device_test')\n",
    "device_test_submod.definition = device_test.identity\n",
    "\n",
    "device_submod = device_test.modules.create('device')\n",
    "device_submod.definition = device.identity\n",
    "\n",
    "\n",
    "# Get modules that are in the Document        \n",
    "found_device_test_context = None\n",
    "found_device_test = None\n",
    "found_device = None\n",
    "\n",
    "for md in doc.moduleDefinitions:\n",
    "    if md.identity == device_test_context.identity:\n",
    "        found_device_test_context = md\n",
    "    if md.identity == device_test.identity:\n",
    "        found_device_test = md\n",
    "    if md.identity == device.identity:\n",
    "        found_device = md\n",
    "\n",
    "if found_device_test_context != None:\n",
    "    device_test_context = found_device_test_context\n",
    "    device_test = found_device_test\n",
    "    device = found_device\n",
    "else:\n",
    "    doc.addModuleDefinition(device)\n",
    "    doc.addModuleDefinition(device_test)\n",
    "    doc.addModuleDefinition(device_test_context)\n",
    "\n",
    "# Widgets\n",
    "leftRightButton = widgets.Button(description='>>', layout=widgets.Layout(width='50px')) # noqa\n",
    "leftLeftButton = widgets.Button(description='<<', layout=widgets.Layout(width='50px')) # noqa\n",
    "rightRightButton = widgets.Button(description='>>', layout=widgets.Layout(width='50px')) # noqa\n",
    "rightLeftButton = widgets.Button(description='<<', layout=widgets.Layout(width='50px')) # noqa\n",
    "\n",
    "leftVBox = widgets.VBox()\n",
    "rightVBox = widgets.VBox()\n",
    "leftVBox.children = [leftRightButton, leftLeftButton]\n",
    "rightVBox.children = [rightRightButton, rightLeftButton]\n",
    "\n",
    "horizontalBox = widgets.HBox(layout = widgets.Layout(align_items = 'center', justify_content = 'space-around'))\n",
    "\n",
    "\n",
    "moduleNames = ['Device-Test-Context', 'Device-Test', 'Device']\n",
    "modulesDictionary = {'Device-Test-Context': device_test_context,\n",
    "                     'Device-Test': device_test,\n",
    "                     'Device': device}\n",
    "\n",
    "# Text widgets for device-test-context, device-test, and device names\n",
    "nameList = []\n",
    "# Select Multiple widgets for device-test-context, device-test, and device\n",
    "selectedLists = []\n",
    "\n",
    "componentLists = {}  # module name : list of components\n",
    "cdDisplayIDMap = {}  # cd display id : component definition\n",
    "\n",
    "componentLists['Device-Test-Context'] = createDTCList(doc, originalCDs, addedCDs, cdDisplayIDMap)\n",
    "componentLists['Device-Test'] = []\n",
    "componentLists['Device'] = []\n",
    "\n",
    "fcDictionary = {} # name w/ plasmid name : name w/o plasmid name\n",
    "\n",
    "\n",
    "horizontalBox.children = createColumnWidgets(moduleNames, componentLists, nameList, selectedLists, leftVBox, rightVBox)\n",
    "display(horizontalBox)\n",
    "\n",
    "# Device-Test-Context -> Device-Test\n",
    "def leftRightClickResponder(sender):\n",
    "    leftRightClick(selectedLists, componentLists)\n",
    "\n",
    "# Device-Test -> Device-Test-Context\n",
    "def leftLeftClickResponder(sender):\n",
    "    leftLeftClick(selectedLists, componentLists)\n",
    "\n",
    "# Device-Test -> Device\n",
    "def rightRightClickResponder(sender):\n",
    "    rightRightClick(selectedLists, componentLists)\n",
    "\n",
    "# Device -> Device-Test\n",
    "def rightLeftClickResponder(sender):\n",
    "    rightLeftClick(selectedLists, componentLists)\n",
    "\n",
    "leftRightButton.on_click(leftRightClickResponder)\n",
    "leftLeftButton.on_click(leftLeftClickResponder)\n",
    "rightRightButton.on_click(rightRightClickResponder)\n",
    "rightLeftButton.on_click(rightLeftClickResponder)\n",
    "\n",
    "\n",
    "finalizeModulesButton = widgets.Button(description = 'Finalize', tooltip = 'Finalize modules', disabled = True)\n",
    "display(finalizeModulesButton)\n",
    "\n",
    "displayMessages = widgets.Output()\n",
    "display(displayMessages)\n",
    "\n",
    "\n",
    "@displayMessages.capture()\n",
    "def printMessage(message):\n",
    "    clear_output()\n",
    "    print(message)\n",
    "\n",
    "def observer(sender):\n",
    "    for nameWidget in nameList:\n",
    "        if nameWidget.value == '':\n",
    "            finalizeModulesButton.disabled = True\n",
    "            return\n",
    "    \n",
    "    finalizeModulesButton.disabled = False\n",
    "\n",
    "\n",
    "plasmidPartDictionary = {}\n",
    "addedPlasmidParts = {}\n",
    "\n",
    "\n",
    "def finalize(sender):\n",
    "    global device_test_context, device_test, device\n",
    "\n",
    "    resetModules(device_test_context, device_test, device)\n",
    "    setNames(device_test_context, device_test, device, nameList)\n",
    "    createFunctionalComponents(doc, selectedLists, cdDisplayIDMap, modulesDictionary, moduleNames, fcDictionary)\n",
    "    addPlasmidParts(doc, originalCDs, device_test, device, plasmidPartDictionary, addedPlasmidParts)\n",
    "    \n",
    "    printMessage('Success!')\n",
    "    display(Javascript('IPython.notebook.execute_cell_range(IPython.notebook.get_selected_index()+1, IPython.notebook.ncells())'))\n",
    "    \n",
    "\n",
    "for textWidget in nameList:\n",
    "    textWidget.observe(observer)\n",
    "\n",
    "\n",
    "finalizeModulesButton.on_click(finalize)\n"
   ]
  },
  {
   "cell_type": "markdown",
   "metadata": {},
   "source": [
    "# Adding Interactions to the Modules"
   ]
  },
  {
   "cell_type": "code",
   "execution_count": 44,
   "metadata": {
    "init_cell": true,
    "scrolled": false
   },
   "outputs": [
    {
     "data": {
      "application/vnd.jupyter.widget-view+json": {
       "model_id": "572336891fa944a29a03cdbddb74e73c",
       "version_major": 2,
       "version_minor": 0
      },
      "text/plain": [
       "Dropdown(description='Module:', options=(None, None, None), value=None)"
      ]
     },
     "metadata": {},
     "output_type": "display_data"
    },
    {
     "data": {
      "application/vnd.jupyter.widget-view+json": {
       "model_id": "19b757c8049d4232b3f92b496427f7ab",
       "version_major": 2,
       "version_minor": 0
      },
      "text/plain": [
       "Button(description='Enter', style=ButtonStyle(), tooltip='Pick module')"
      ]
     },
     "metadata": {},
     "output_type": "display_data"
    },
    {
     "data": {
      "application/vnd.jupyter.widget-view+json": {
       "model_id": "dfa4b270cdea4bef93cbfbf6dd5ff5fe",
       "version_major": 2,
       "version_minor": 0
      },
      "text/plain": [
       "VBox()"
      ]
     },
     "metadata": {},
     "output_type": "display_data"
    },
    {
     "data": {
      "application/vnd.jupyter.widget-view+json": {
       "model_id": "d33825a887a145f49cbca010b03f156d",
       "version_major": 2,
       "version_minor": 0
      },
      "text/plain": [
       "Output()"
      ]
     },
     "metadata": {},
     "output_type": "display_data"
    }
   ],
   "source": [
    "from sbol import *\n",
    "import ipywidgets as widgets\n",
    "from IPython.display import clear_output, Markdown\n",
    "from addinginteractions import *\n",
    "\n",
    "module_names = [device_test_context.name, device_test.name, device.name]\n",
    "namesDictionary = {}\n",
    "customNameDictionary = {device_test_context.name: device_test_context,\n",
    "                        device_test.name: device_test,\n",
    "                        device.name: device}  # custom name : moduledefinition\n",
    "\n",
    "    \n",
    "moduleToAnnotate = widgets.Dropdown(\n",
    "    options=module_names,\n",
    "    description='Module:'\n",
    ")\n",
    "\n",
    "enterButton = widgets.Button(\n",
    "    description='Enter',\n",
    "    tooltip='Pick module'\n",
    ")\n",
    "\n",
    "interactionName = widgets.Text(\n",
    "    placeholder='Enter interaction name',\n",
    "    description='Name:',\n",
    "    style={'description_width': '125px'},\n",
    "    layout=widgets.Layout(width='450px')\n",
    ")\n",
    "\n",
    "interactionSelect = widgets.Dropdown(\n",
    "    options=typesInteractions,\n",
    "    description='Interaction:',\n",
    "    style={'description_width': '125px'},\n",
    "    layout=widgets.Layout(width='325px')\n",
    ")\n",
    "\n",
    "horizontalBox = widgets.HBox()  # for showing the components in each of the plasmids\n",
    "\n",
    "addInteraction = widgets.Button(\n",
    "    description='Add',\n",
    "    tooltip='Add interaction'\n",
    ")\n",
    "\n",
    "doneButton = widgets.Button(\n",
    "    description='Done',\n",
    "    tooltip='Finish adding interactions'\n",
    ")\n",
    "\n",
    "finalizeInteraction = widgets.Button(\n",
    "    description='Finalize',\n",
    "    tooltip='Finalize interaction'\n",
    ")\n",
    "\n",
    "messageBox = widgets.Output()\n",
    "\n",
    "interactionWidgets = widgets.VBox()\n",
    "interactionChildren = []\n",
    "\n",
    "participationWidgets = widgets.VBox()\n",
    "participationChildren = []\n",
    "\n",
    "display(moduleToAnnotate)\n",
    "display(enterButton)\n",
    "display(interactionWidgets)\n",
    "display(messageBox)\n",
    "\n",
    "@messageBox.capture()\n",
    "def printMessages(message):\n",
    "    clear_output()\n",
    "    print(message)\n",
    "\n",
    "def on_select(sender):    \n",
    "    global interactionChildren\n",
    "    \n",
    "    interactionName.value = ''\n",
    "    interactionSelect.value = None\n",
    "    \n",
    "    interactionChildren = []\n",
    "    interactionWidgets.children = interactionChildren   \n",
    "    \n",
    "    horizontalBox.children = createHBoxChildren(moduleToAnnotate.value, customNameDictionary, fcDictionary)\n",
    "    \n",
    "    interactionChildren.append(widgets.HTML('<br>'))\n",
    "    interactionChildren.append(interactionName)\n",
    "    interactionChildren.append(interactionSelect)\n",
    "    interactionChildren.append(widgets.HTML('<br>'))\n",
    "    interactionChildren.append(horizontalBox)\n",
    "    interactionChildren.append(widgets.HTML('<br>'))\n",
    "    interactionChildren.append(addInteraction)\n",
    "    \n",
    "    interactionWidgets.children = interactionChildren\n",
    "    \n",
    "participantDictionary = {} # fc display id : participation\n",
    "    \n",
    "def addInteractionResponder(sender):\n",
    "    if interactionSelect.value is None:\n",
    "        printMessages('You need an interaction type!')\n",
    "        return\n",
    "    printMessages('')\n",
    "    \n",
    "    participationChildren, selectedFC = createParticipationChildren(horizontalBox.children)\n",
    "    \n",
    "    try:\n",
    "        createInteraction(customNameDictionary,\n",
    "                      moduleToAnnotate.value,\n",
    "                      interactionName.value,\n",
    "                      interactionSelect.value,\n",
    "                      participantDictionary,\n",
    "                      selectedFC)\n",
    "    except:\n",
    "        printMessages(interactionName.value + ' already exists!')\n",
    "        return\n",
    "\n",
    "   \n",
    "    participationWidgets.children = participationChildren\n",
    "    \n",
    "    interactionChildren.append(widgets.HTML('<br>'))\n",
    "    interactionChildren.append(participationWidgets)\n",
    "    interactionChildren.append(finalizeInteraction)\n",
    "    interactionWidgets.children = interactionChildren\n",
    "    \n",
    "            \n",
    "\n",
    "def finalizeResponder(sender):\n",
    "    global interactionChildren, participationChildren\n",
    "    createMapsTos(doc, participationWidgets.children, participantDictionary, plasmidPartDictionary, addedPlasmidParts)\n",
    "                \n",
    "    interactionChildren = []\n",
    "    participationChildren = []\n",
    "    \n",
    "    interactionWidgets.children = interactionChildren\n",
    "    participationWidgets.children = participationChildren\n",
    "    \n",
    "    display(Javascript('IPython.notebook.execute_cell_range(IPython.notebook.get_selected_index()+1, IPython.notebook.ncells())'))\n",
    "    printMessages('Success!')\n",
    "\n",
    "\n",
    "enterButton.on_click(on_select)\n",
    "addInteraction.on_click(addInteractionResponder)\n",
    "finalizeInteraction.on_click(finalizeResponder)\n"
   ]
  },
  {
   "cell_type": "markdown",
   "metadata": {},
   "source": [
    "# Modules"
   ]
  },
  {
   "cell_type": "code",
   "execution_count": 45,
   "metadata": {
    "init_cell": true
   },
   "outputs": [
    {
     "data": {
      "application/vnd.jupyter.widget-view+json": {
       "model_id": "b62e77543e1f47e182e76df66fda4e3b",
       "version_major": 2,
       "version_minor": 0
      },
      "text/plain": [
       "Accordion(children=(VBox(children=(HTML(value='<b><h5>(Device-Test-Context)</h5></b><u><dt>Modules</dt></u><dd…"
      ]
     },
     "metadata": {},
     "output_type": "display_data"
    }
   ],
   "source": [
    "from sbol import *\n",
    "import ipywidgets as widgets\n",
    "from IPython.display import clear_output, Markdown\n",
    "from displaymoduledefinitions import createParentAccordion\n",
    "\n",
    "modules = [device_test_context, device_test, device]\n",
    "accordion = createParentAccordion(modules, modulesDictionary)\n",
    "\n",
    "display(accordion)\n"
   ]
  },
  {
   "cell_type": "markdown",
   "metadata": {},
   "source": [
    "# Upload to SynBioHub\n",
    "To upload to SynBioHub:\n",
    "1. Enter your username and password (you need to have an account to upload).\n",
    "2. Enter a name, description, and version for the Collection.\n",
    "3. Press Submit."
   ]
  },
  {
   "cell_type": "code",
   "execution_count": 46,
   "metadata": {
    "init_cell": true
   },
   "outputs": [
    {
     "data": {
      "application/vnd.jupyter.widget-view+json": {
       "model_id": "e17fff38c6ff421eb0052e74a3242767",
       "version_major": 2,
       "version_minor": 0
      },
      "text/plain": [
       "HTML(value='<font size=\"4\"><b>Login to SynBioHub</b></font>')"
      ]
     },
     "metadata": {},
     "output_type": "display_data"
    },
    {
     "data": {
      "application/vnd.jupyter.widget-view+json": {
       "model_id": "f5711b682d6244f0832893ca16540188",
       "version_major": 2,
       "version_minor": 0
      },
      "text/plain": [
       "Text(value='', description='Email:', placeholder='Enter email')"
      ]
     },
     "metadata": {},
     "output_type": "display_data"
    },
    {
     "data": {
      "application/vnd.jupyter.widget-view+json": {
       "model_id": "f1e7816bcc4b4bf38aea1d7d9201f37f",
       "version_major": 2,
       "version_minor": 0
      },
      "text/plain": [
       "Password(description='Password:', placeholder='Enter password')"
      ]
     },
     "metadata": {},
     "output_type": "display_data"
    },
    {
     "data": {
      "application/vnd.jupyter.widget-view+json": {
       "model_id": "8cb492a190ee4f72b621220e3ddffb34",
       "version_major": 2,
       "version_minor": 0
      },
      "text/plain": [
       "Button(description='Login', style=ButtonStyle(), tooltip='Login to SynBioHub')"
      ]
     },
     "metadata": {},
     "output_type": "display_data"
    },
    {
     "data": {
      "application/vnd.jupyter.widget-view+json": {
       "model_id": "4307bbe9a72f4fed95e84b79842e67bb",
       "version_major": 2,
       "version_minor": 0
      },
      "text/plain": [
       "Output()"
      ]
     },
     "metadata": {},
     "output_type": "display_data"
    },
    {
     "data": {
      "application/vnd.jupyter.widget-view+json": {
       "model_id": "ce8f6910cd3a411ea355ecff8fc52ad3",
       "version_major": 2,
       "version_minor": 0
      },
      "text/plain": [
       "HTML(value='<font size=\"4\"><b>Enter Name, Description, and Version</b></font>')"
      ]
     },
     "metadata": {},
     "output_type": "display_data"
    },
    {
     "data": {
      "application/vnd.jupyter.widget-view+json": {
       "model_id": "7f99c096bc484fd584a61eccba4f7f58",
       "version_major": 2,
       "version_minor": 0
      },
      "text/plain": [
       "Text(value='', description='Name:', placeholder='Enter name')"
      ]
     },
     "metadata": {},
     "output_type": "display_data"
    },
    {
     "data": {
      "application/vnd.jupyter.widget-view+json": {
       "model_id": "dcaf44504ea94c9dbd9ddbada42df5d5",
       "version_major": 2,
       "version_minor": 0
      },
      "text/plain": [
       "Text(value='', description='Description:', placeholder='Enter description')"
      ]
     },
     "metadata": {},
     "output_type": "display_data"
    },
    {
     "data": {
      "application/vnd.jupyter.widget-view+json": {
       "model_id": "82ded3c45aa84648a60aec49ff9ed637",
       "version_major": 2,
       "version_minor": 0
      },
      "text/plain": [
       "Text(value='', description='Version:', placeholder='Enter version')"
      ]
     },
     "metadata": {},
     "output_type": "display_data"
    },
    {
     "data": {
      "application/vnd.jupyter.widget-view+json": {
       "model_id": "ac7e75ff79194db5afcb97b0a3037f8f",
       "version_major": 2,
       "version_minor": 0
      },
      "text/plain": [
       "Button(description='Submit', style=ButtonStyle(), tooltip='Submit annotated Document')"
      ]
     },
     "metadata": {},
     "output_type": "display_data"
    },
    {
     "data": {
      "application/vnd.jupyter.widget-view+json": {
       "model_id": "d586eeed582c4751ad9ed4c2c9dab0dd",
       "version_major": 2,
       "version_minor": 0
      },
      "text/plain": [
       "Output()"
      ]
     },
     "metadata": {},
     "output_type": "display_data"
    }
   ],
   "source": [
    "from sbol import *\n",
    "import ipywidgets as widgets\n",
    "from IPython.display import clear_output, Markdown\n",
    "\n",
    "loginLabel = widgets.HTML('<font size=\"4\"><b>Login to SynBioHub</b></font>')\n",
    "\n",
    "usernameField = widgets.componentName = widgets.Text(\n",
    "    value = '',\n",
    "    placeholder = 'Enter email',\n",
    "    description = 'Email:',\n",
    "    disabled = False,\n",
    ")\n",
    "\n",
    "passwordField = widgets.Password(description = 'Password:', placeholder = 'Enter password')\n",
    "\n",
    "loginButton = widgets.Button(\n",
    "    description = 'Login',\n",
    "    disabled = False,\n",
    "    button_style = '',\n",
    "    tooltip = 'Login to SynBioHub',\n",
    "    icon = ''\n",
    ")\n",
    "\n",
    "loginMessageBox = widgets.Output()\n",
    "\n",
    "submitButton = widgets.Button(\n",
    "    description = 'Submit',\n",
    "    disabled = False,\n",
    "    button_style = '',\n",
    "    tooltip = 'Submit annotated Document',\n",
    "    icon = ''\n",
    ")\n",
    "\n",
    "errorBox = widgets.Output()\n",
    "\n",
    "# Name = Display Id\n",
    "propertiesLabel = widgets.HTML('<font size=\"4\"><b>Enter Name, Description, and Version</b></font>')\n",
    "\n",
    "docName = widgets.componentName = widgets.Text(\n",
    "    value = '',\n",
    "    placeholder = 'Enter name',\n",
    "    description = 'Name:',\n",
    "    disabled = False,\n",
    ")\n",
    "\n",
    "docDescription = widgets.componentName = widgets.Text(\n",
    "    value = '',\n",
    "    placeholder = 'Enter description',\n",
    "    description = 'Description:',\n",
    "    disabled = False,\n",
    ")\n",
    "\n",
    "docVersion = widgets.componentName = widgets.Text(\n",
    "    value = '',\n",
    "    placeholder = 'Enter version',\n",
    "    description = 'Version:',\n",
    "    disabled = False,\n",
    ")\n",
    "\n",
    "display(loginLabel)\n",
    "display(usernameField)\n",
    "display(passwordField)\n",
    "display(loginButton)\n",
    "display(loginMessageBox)\n",
    "display(propertiesLabel)\n",
    "display(docName)\n",
    "display(docDescription)\n",
    "display(docVersion)\n",
    "display(submitButton)\n",
    "display(errorBox)\n",
    "\n",
    "sbh = PartShop('https://synbiohub.org')\n",
    "\n",
    "@loginMessageBox.capture()\n",
    "def loginSBH(sender):\n",
    "    clear_output()\n",
    "    if usernameField.value == '':\n",
    "        print('You need a username!')\n",
    "        return\n",
    "    if passwordField.value == '':\n",
    "        print('You need a password!')\n",
    "        return\n",
    "    \n",
    "    sbh.login(usernameField.value, passwordField.value)\n",
    "    message = sbh.submit(Document())\n",
    "    \n",
    "    if message == 'Login required':\n",
    "        print('Incorrect login!')\n",
    "    else:\n",
    "        print('Logged in!')\n",
    "\n",
    "@errorBox.capture()\n",
    "def submitSBH(sender):\n",
    "    clear_output()\n",
    "    if docName.value == '':\n",
    "        print('You need a name for the Collection!')\n",
    "        return\n",
    "    if docDescription.value == '':\n",
    "        print('You need a description for the Collection!')\n",
    "        return\n",
    "    if docVersion.value == '':\n",
    "        print('You need a version for this Collection!')\n",
    "        return\n",
    "    \n",
    "    doc.displayId = docName.value\n",
    "    doc.name = docName.value\n",
    "    doc.description = docDescription.value\n",
    "    doc.version = docVersion.value\n",
    "\n",
    "    message = sbh.submit(doc)\n",
    "    \n",
    "    print(message)\n",
    "\n",
    "loginButton.on_click(loginSBH)\n",
    "submitButton.on_click(submitSBH)"
   ]
  },
  {
   "cell_type": "code",
   "execution_count": 47,
   "metadata": {},
   "outputs": [],
   "source": [
    "# THIS CODE BLOCK IS JUST TO TEST RANDOM VARIABLES AND SUCH\n",
    "\n",
    "\n",
    "# for i in device_test_context.functionalComponents:\n",
    "#     print(i.displayId)\n",
    "    \n",
    "# doc.write('whatisthat.xml')\n",
    "# print(doc)\n",
    "\n",
    "# customNameDictionary\n",
    "\n",
    "# device.functionalComponents.clear()\n",
    "# device_test.functionalComponents.clear()\n",
    "# device_test_context.functionalComponents.clear()\n",
    "# for i in participationWidgets.children:\n",
    "#     print(i.value)\n",
    "\n",
    "# dtcListWidget = selectedLists[0]\n",
    "# for i in dtcListWidget.options:\n",
    "#     print(i)\n",
    "# for i in device.functionalComponents:\n",
    "#     print(i)\n",
    "    \n",
    "# for i in selectedLists[2].options:\n",
    "#     print(i)\n",
    "\n",
    "# print(cdDisplayIDMap)\n",
    "\n",
    "# print(participantDictionary)\n",
    "# foo"
   ]
  }
 ],
 "metadata": {
  "celltoolbar": "Initialization Cell",
  "kernelspec": {
   "display_name": "Python 3",
   "language": "python",
   "name": "python3"
  },
  "language_info": {
   "codemirror_mode": {
    "name": "ipython",
    "version": 3
   },
   "file_extension": ".py",
   "mimetype": "text/x-python",
   "name": "python",
   "nbconvert_exporter": "python",
   "pygments_lexer": "ipython3",
   "version": "3.7.3"
  }
 },
 "nbformat": 4,
 "nbformat_minor": 2
}
