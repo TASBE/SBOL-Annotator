{
 "cells": [
  {
   "cell_type": "code",
   "execution_count": 10,
   "metadata": {
    "init_cell": true,
    "scrolled": true
   },
   "outputs": [
    {
     "data": {
      "text/html": [
       "<script>\n",
       "            code_show=true; \n",
       "            function code_toggle() {\n",
       "                if (code_show){\n",
       "                    $('div.input').hide();\n",
       "                } else {\n",
       "                    $('div.input').show();\n",
       "                }\n",
       "                    code_show = !code_show\n",
       "            } \n",
       "            $( document ).ready(code_toggle);\n",
       "        </script>\n",
       "        <form action=\"javascript:code_toggle()\"><input type=\"submit\" value=\"View/Hide Raw Code\"></form>"
      ],
      "text/plain": [
       "<IPython.core.display.HTML object>"
      ]
     },
     "execution_count": 10,
     "metadata": {},
     "output_type": "execute_result"
    }
   ],
   "source": [
    "from IPython.display import HTML\n",
    "\n",
    "HTML('''<script>\n",
    "            code_show=true; \n",
    "            function code_toggle() {\n",
    "                if (code_show){\n",
    "                    $('div.input').hide();\n",
    "                } else {\n",
    "                    $('div.input').show();\n",
    "                }\n",
    "                    code_show = !code_show\n",
    "            } \n",
    "            $( document ).ready(code_toggle);\n",
    "        </script>\n",
    "        <form action=\"javascript:code_toggle()\"><input type=\"submit\" value=\"View/Hide Raw Code\"></form>''')"
   ]
  },
  {
   "cell_type": "markdown",
   "metadata": {},
   "source": [
    "# Converting the GenBank File to SBOL\n",
    "1. Upload the GenBank file.\n",
    "2. Enter the file name and the URI prefix (something like https://bu.edu/ben) that you want to use.\n",
    "3. Enter a version (optional).\n",
    "4. Hit send and it will create an SBOL file with the same name."
   ]
  },
  {
   "cell_type": "code",
   "execution_count": 11,
   "metadata": {
    "init_cell": true,
    "scrolled": false
   },
   "outputs": [
    {
     "data": {
      "application/vnd.jupyter.widget-view+json": {
       "model_id": "ce968e0e8c364f6fa0f0c146e78719c0",
       "version_major": 2,
       "version_minor": 0
      },
      "text/plain": [
       "FileUpload(accept='.gb', multiple=True, style_button='color: white; background-color: teal')"
      ]
     },
     "metadata": {},
     "output_type": "display_data"
    },
    {
     "data": {
      "application/vnd.jupyter.widget-view+json": {
       "model_id": "96d5106e8ba64cb7bf608c8c261d922f",
       "version_major": 2,
       "version_minor": 0
      },
      "text/plain": [
       "Text(value='', description='URL:', placeholder='Enter URI Prefix')"
      ]
     },
     "metadata": {},
     "output_type": "display_data"
    },
    {
     "data": {
      "application/vnd.jupyter.widget-view+json": {
       "model_id": "b41014c33f1f4515939457ec12844805",
       "version_major": 2,
       "version_minor": 0
      },
      "text/plain": [
       "Text(value='', description='Version:', placeholder='Enter Version (optional)')"
      ]
     },
     "metadata": {},
     "output_type": "display_data"
    },
    {
     "data": {
      "application/vnd.jupyter.widget-view+json": {
       "model_id": "3e11781ae834458fa40abe1eaa609e90",
       "version_major": 2,
       "version_minor": 0
      },
      "text/plain": [
       "Button(description='Send', disabled=True, style=ButtonStyle(), tooltip='Converts Genbank file to SBOL')"
      ]
     },
     "metadata": {},
     "output_type": "display_data"
    },
    {
     "data": {
      "application/vnd.jupyter.widget-view+json": {
       "model_id": "febb00d9a219467890ce66ccf0084b55",
       "version_major": 2,
       "version_minor": 0
      },
      "text/plain": [
       "Output()"
      ]
     },
     "metadata": {},
     "output_type": "display_data"
    }
   ],
   "source": [
    "from sbol import *\n",
    "import ipywidgets as widgets\n",
    "from IPython.display import Javascript, display, clear_output\n",
    "from ipyupload import FileUpload\n",
    "import os\n",
    "import sys\n",
    "CURRENTDIR = os.getcwd()\n",
    "SRCDIR = os.path.join(CURRENTDIR, 'src')\n",
    "if sys.path[0] != SRCDIR:\n",
    "    sys.path.insert(0, SRCDIR)\n",
    "import convert\n",
    "\n",
    "# Widgets\n",
    "upload = FileUpload(\n",
    "    accept='.gb',\n",
    "    multiple=True,\n",
    "    disabled=False,\n",
    "    style_button='color: white; background-color: teal',\n",
    "    compress_level=0\n",
    ")\n",
    "URIPrefix = widgets.Text(\n",
    "    value='', \n",
    "    placeholder='Enter URI Prefix',\n",
    "    description='URL:'\n",
    ")\n",
    "version = widgets.Text(\n",
    "    placeholder='Enter Version (optional)',\n",
    "    description='Version:'\n",
    ")\n",
    "sendButton = widgets.Button(\n",
    "    description='Send',\n",
    "    disabled=True,\n",
    "    tooltip='Converts Genbank file to SBOL'\n",
    ")\n",
    "out = widgets.Output()\n",
    "\n",
    "# Displaying Widgets\n",
    "display(upload)\n",
    "display(URIPrefix)\n",
    "display(version)\n",
    "display(sendButton)\n",
    "display(out)\n",
    "\n",
    "# Global Variables for Whole Notebook\n",
    "doc = Document()\n",
    "Config.setOption('sbol_compliant_uris', True)\n",
    "Config.setOption('sbol_typed_uris', False)\n",
    "\n",
    "originalCDs = []\n",
    "addedCDs = []\n",
    "cdDictionary = {}\n",
    "\n",
    "# Listener to enable the Send button\n",
    "def checkInputs(sender):\n",
    "    if URIPrefix.value == '' or len(upload.value) == 0:\n",
    "        sendButton.disabled = True\n",
    "    else:\n",
    "        sendButton.disabled = False\n",
    "\n",
    "# Listener for the Send button push -- adds GenBank files to Document\n",
    "@out.capture()\n",
    "def sendRequest(sender):\n",
    "    global originalCDs, cdDictionary, doc\n",
    "    clear_output()\n",
    "        \n",
    "    doc = Document()\n",
    "    setHomespace(URIPrefix.value)\n",
    "\n",
    "    cdDicitonary = {}\n",
    "    originalCDs = []\n",
    "    addedCDs = []\n",
    "    \n",
    "    try:\n",
    "        convert.getSBOLFiles(doc, originalCDs, cdDictionary, upload.value, URIPrefix.value, version.value)\n",
    "    except:\n",
    "        print('You need to input GenBank files.')\n",
    "        return\n",
    "    \n",
    "    print('Success!')\n",
    "    display(Javascript('IPython.notebook.execute_cell_range(IPython.notebook.get_selected_index()+1, IPython.notebook.ncells())'))\n",
    "\n",
    "# Connecting Observers\n",
    "upload.observe(checkInputs)\n",
    "URIPrefix.observe(checkInputs)\n",
    "sendButton.on_click(sendRequest)\n"
   ]
  },
  {
   "cell_type": "markdown",
   "metadata": {},
   "source": [
    "# Add a Component\n",
    "Enter the name of the component, the type, and the role (optional)."
   ]
  },
  {
   "cell_type": "code",
   "execution_count": 19,
   "metadata": {
    "init_cell": true,
    "scrolled": false
   },
   "outputs": [
    {
     "data": {
      "application/vnd.jupyter.widget-view+json": {
       "model_id": "8cb97d01066748ce96fd63504db3f201",
       "version_major": 2,
       "version_minor": 0
      },
      "text/plain": [
       "HTML(value='<font size=\"4\"><b>From LCP Dictionary</b></font>')"
      ]
     },
     "metadata": {},
     "output_type": "display_data"
    },
    {
     "data": {
      "application/vnd.jupyter.widget-view+json": {
       "model_id": "a4f25f1220524abf8b08a1cde9e02499",
       "version_major": 2,
       "version_minor": 0
      },
      "text/plain": [
       "Button(description='Refresh', icon='refresh', style=ButtonStyle(), tooltip='Refresh list')"
      ]
     },
     "metadata": {},
     "output_type": "display_data"
    },
    {
     "data": {
      "application/vnd.jupyter.widget-view+json": {
       "model_id": "ed31ab372a5f40c4b20b8c5586d8ec49",
       "version_major": 2,
       "version_minor": 0
      },
      "text/plain": [
       "Dropdown(description='Type:', options=('IPTG', 'L-arabinose', 'aTc', 'SpheroTech Rainbow Beads', 'Doxycycline'…"
      ]
     },
     "metadata": {},
     "output_type": "display_data"
    },
    {
     "data": {
      "application/vnd.jupyter.widget-view+json": {
       "model_id": "e478206e266e49ad8abe6f744e15b132",
       "version_major": 2,
       "version_minor": 0
      },
      "text/plain": [
       "Button(description='Add', style=ButtonStyle(), tooltip='Add component')"
      ]
     },
     "metadata": {},
     "output_type": "display_data"
    },
    {
     "data": {
      "application/vnd.jupyter.widget-view+json": {
       "model_id": "ad82c5d50d874089bdb791fc7f88487a",
       "version_major": 2,
       "version_minor": 0
      },
      "text/plain": [
       "Output()"
      ]
     },
     "metadata": {},
     "output_type": "display_data"
    },
    {
     "data": {
      "application/vnd.jupyter.widget-view+json": {
       "model_id": "de8b38e4fcbd4cfd9b9251715f6d0478",
       "version_major": 2,
       "version_minor": 0
      },
      "text/plain": [
       "HTML(value='<font size=\"4\"><b>Create new Component</b></font>')"
      ]
     },
     "metadata": {},
     "output_type": "display_data"
    },
    {
     "data": {
      "application/vnd.jupyter.widget-view+json": {
       "model_id": "6ec044178a5e4464b5ecb6da70cbb546",
       "version_major": 2,
       "version_minor": 0
      },
      "text/plain": [
       "Text(value='', description='Name:', placeholder='Enter a component name')"
      ]
     },
     "metadata": {},
     "output_type": "display_data"
    },
    {
     "data": {
      "application/vnd.jupyter.widget-view+json": {
       "model_id": "fdd503d497d148358a869e05259d9a65",
       "version_major": 2,
       "version_minor": 0
      },
      "text/plain": [
       "Dropdown(description='Type:', options=('DNA', 'RNA', 'Protein', 'Small Molecule', 'Complex'), value='DNA')"
      ]
     },
     "metadata": {},
     "output_type": "display_data"
    },
    {
     "data": {
      "application/vnd.jupyter.widget-view+json": {
       "model_id": "1a0cc138c3834b8ab2dbfc696cc51be9",
       "version_major": 2,
       "version_minor": 0
      },
      "text/plain": [
       "Dropdown(description='Role:', options=('', 'Miscellaneous', 'Promoter', 'RBS', 'CDS', 'Terminator', 'Gene', 'O…"
      ]
     },
     "metadata": {},
     "output_type": "display_data"
    },
    {
     "data": {
      "application/vnd.jupyter.widget-view+json": {
       "model_id": "fbbcb2d267d6452f97225884f726746a",
       "version_major": 2,
       "version_minor": 0
      },
      "text/plain": [
       "Text(value='', description='URL:', placeholder='Enter a definition URL (optional)')"
      ]
     },
     "metadata": {},
     "output_type": "display_data"
    },
    {
     "data": {
      "application/vnd.jupyter.widget-view+json": {
       "model_id": "a3819676cf87415fb05b7f5eb61a701a",
       "version_major": 2,
       "version_minor": 0
      },
      "text/plain": [
       "Button(description='Create', disabled=True, style=ButtonStyle(), tooltip='Creates a new Component Definition')"
      ]
     },
     "metadata": {},
     "output_type": "display_data"
    },
    {
     "data": {
      "application/vnd.jupyter.widget-view+json": {
       "model_id": "c952bfb3fcf74eb3bb5ec5efd99e58c4",
       "version_major": 2,
       "version_minor": 0
      },
      "text/plain": [
       "Output()"
      ]
     },
     "metadata": {},
     "output_type": "display_data"
    }
   ],
   "source": [
    "from sbol import *\n",
    "import ipywidgets as widgets\n",
    "from IPython.display import clear_output, Markdown\n",
    "import os\n",
    "import sys\n",
    "CURRENTDIR = os.getcwd()\n",
    "SRCDIR = os.path.join(CURRENTDIR, 'src')\n",
    "if sys.path[0] != SRCDIR:\n",
    "    sys.path.insert(0, SRCDIR)\n",
    "import urllib\n",
    "from componentsingle import componentTypes, componentRoles, typesMap, rolesMap, addComponent, addComponentDictionary\n",
    "from lcpdictionary import readSheet\n",
    "\n",
    "results = readSheet('Reagent')\n",
    "lcpComponents = [row[0] for row in results[2:]]\n",
    "lcpMap = {}\n",
    "for result in results[2:]:\n",
    "    lcpMap[result[0]] = result\n",
    "\n",
    "\n",
    "# Top Widgets\n",
    "fromLCPLabel = widgets.HTML('<font size=\"4\"><b>From LCP Dictionary</b></font>')\n",
    "refreshButton = widgets.Button(\n",
    "    description='Refresh',\n",
    "    disabled=False,\n",
    "    button_style='',\n",
    "    tooltip='Refresh list',\n",
    "    icon='fa-refresh'\n",
    ")\n",
    "componentDrop = widgets.Dropdown(\n",
    "    options=lcpComponents,\n",
    "    description='Type:'\n",
    ")\n",
    "addButton = widgets.Button(\n",
    "    description='Add',\n",
    "    disabled=False,\n",
    "    button_style='',\n",
    "    tooltip='Add component',\n",
    "    icon=''\n",
    ")\n",
    "lcpOutput = widgets.Output()\n",
    "\n",
    "# Bottom Widgets\n",
    "addComponentLabel = widgets.HTML('<font size=\"4\"><b>Create new Component</b></font>')\n",
    "componentName = widgets.Text(\n",
    "    value='',\n",
    "    placeholder='Enter a component name',\n",
    "    description='Name:'\n",
    ")\n",
    "typeDrop = widgets.Dropdown(\n",
    "    options=componentTypes,\n",
    "    description='Type:'\n",
    ")\n",
    "roleDrop = widgets.Dropdown(\n",
    "    options=componentRoles,\n",
    "    description='Role:'\n",
    ")\n",
    "definitionURL = widgets.Text(\n",
    "    value='',\n",
    "    placeholder='Enter a definition URL (optional)',\n",
    "    description='URL:'\n",
    ")\n",
    "createButton = widgets.Button(\n",
    "    description='Create',\n",
    "    disabled=True,\n",
    "    tooltip='Creates a new Component Definition'\n",
    ")\n",
    "outBox = widgets.Output()\n",
    "\n",
    "# Displaying Widgets\n",
    "display(fromLCPLabel)\n",
    "display(refreshButton)\n",
    "display(componentDrop)\n",
    "display(addButton)\n",
    "display(lcpOutput)\n",
    "\n",
    "display(addComponentLabel)\n",
    "display(componentName)\n",
    "display(typeDrop)\n",
    "display(roleDrop)\n",
    "display(definitionURL)\n",
    "display(createButton)\n",
    "display(outBox)\n",
    "\n",
    "# Refreshes list of components from the LCP Dictionary\n",
    "def refreshComponents(sender):\n",
    "    global results, lcpComponents, lcpMap\n",
    "\n",
    "    results = readSheet('Reagent')\n",
    "    lcpComponents = [row[0] for row in results[2:]]\n",
    "    lcpMap = {}\n",
    "    for result in results[2:]:\n",
    "        lcpMap[result[0]] = result\n",
    "    \n",
    "    componentDrop.options = lcpComponents\n",
    "\n",
    "# Adds a Component from the LCP Dictionary\n",
    "@lcpOutput.capture()\n",
    "def addDictComponent(sender):\n",
    "    clear_output()\n",
    "    name = componentDrop.value\n",
    "    try:\n",
    "        addComponentDictionary(doc, addedCDs, name, lcpMap[name][2], lcpMap[name][1], lcpMap[name][5])\n",
    "    except:\n",
    "        return\n",
    "    \n",
    "    display(Javascript('IPython.notebook.execute_cell_range(IPython.notebook.get_selected_index()+1, IPython.notebook.ncells())'))\n",
    "    print('Component added!')\n",
    "    \n",
    "\n",
    "# Listener to enable Create button\n",
    "def checkText(sender):\n",
    "    if componentName.value == '':\n",
    "        createButton.disabled = True\n",
    "    else:\n",
    "        createButton.disabled = False\n",
    "\n",
    "# Listener for Create button push -- creates and adds Component Definition to Document\n",
    "@outBox.capture()\n",
    "def createButtonHandler(sender):\n",
    "    global doc, addedCDs\n",
    "    clear_output()\n",
    "    \n",
    "    addComponent(doc, addedCDs, componentName.value, typeDrop.value, roleDrop.value, definitionURL.value)\n",
    "    display(Javascript('IPython.notebook.execute_cell_range(IPython.notebook.get_selected_index()+1, IPython.notebook.ncells())'))\n",
    "\n",
    "refreshButton.on_click(refreshComponents)\n",
    "addButton.on_click(addDictComponent)\n",
    "\n",
    "\n",
    "componentName.observe(checkText)\n",
    "createButton.on_click(createButtonHandler)"
   ]
  },
  {
   "cell_type": "markdown",
   "metadata": {},
   "source": [
    "# Component Definitions"
   ]
  },
  {
   "cell_type": "code",
   "execution_count": 27,
   "metadata": {
    "init_cell": true,
    "scrolled": false
   },
   "outputs": [
    {
     "data": {
      "application/vnd.jupyter.widget-view+json": {
       "model_id": "5cf4ad211a1448638dc781abe5d800a1",
       "version_major": 2,
       "version_minor": 0
      },
      "text/plain": [
       "VBox(children=(HTML(value='<font size=3><b>BBa_K808000</b></font>'), Accordion(children=(HTML(value='<d1><dt><…"
      ]
     },
     "metadata": {},
     "output_type": "display_data"
    }
   ],
   "source": [
    "from sbol import *\n",
    "import ipywidgets as widgets\n",
    "from componentdefinitions import fixAndCreateWidgets\n",
    "\n",
    "mainBox = widgets.VBox(children=fixAndCreateWidgets(doc, originalCDs, addedCDs, cdDictionary))\n",
    "\n",
    "display(mainBox)"
   ]
  },
  {
   "cell_type": "markdown",
   "metadata": {},
   "source": [
    "# Add Components to Modules\n"
   ]
  },
  {
   "cell_type": "code",
   "execution_count": 28,
   "metadata": {
    "init_cell": true,
    "scrolled": false
   },
   "outputs": [
    {
     "data": {
      "application/vnd.jupyter.widget-view+json": {
       "model_id": "149be4ccbc434484ab0e4a9d411aa5f4",
       "version_major": 2,
       "version_minor": 0
      },
      "text/plain": [
       "HBox(children=(VBox(children=(HTML(value='<h4>Device-Test-Context</h4>'), Text(value='', description='Name:', …"
      ]
     },
     "metadata": {},
     "output_type": "display_data"
    },
    {
     "data": {
      "application/vnd.jupyter.widget-view+json": {
       "model_id": "dfa61eff181f4e9581d20776a87b59cf",
       "version_major": 2,
       "version_minor": 0
      },
      "text/plain": [
       "Button(description='Finalize', disabled=True, style=ButtonStyle(), tooltip='Finalize modules')"
      ]
     },
     "metadata": {},
     "output_type": "display_data"
    },
    {
     "data": {
      "application/vnd.jupyter.widget-view+json": {
       "model_id": "97b4790b215540c89d0a0d4949e6be50",
       "version_major": 2,
       "version_minor": 0
      },
      "text/plain": [
       "Output()"
      ]
     },
     "metadata": {},
     "output_type": "display_data"
    }
   ],
   "source": [
    "from sbol import *\n",
    "import ipywidgets as widgets\n",
    "from IPython.display import clear_output, Markdown\n",
    "from componentbuckets import *\n",
    "\n",
    "# Nested Modules\n",
    "device_test_context = ModuleDefinition('context')\n",
    "device_test = ModuleDefinition('device_test')\n",
    "device = ModuleDefinition('device')\n",
    "\n",
    "device_test_submod = device_test_context.modules.create('device_test')\n",
    "device_test_submod.definition = device_test.identity\n",
    "\n",
    "device_submod = device_test.modules.create('device')\n",
    "device_submod.definition = device.identity\n",
    "\n",
    "\n",
    "# Get modules that are in the Document        \n",
    "found_device_test_context = None\n",
    "found_device_test = None\n",
    "found_device = None\n",
    "\n",
    "for md in doc.moduleDefinitions:\n",
    "    if md.identity == device_test_context.identity:\n",
    "        found_device_test_context = md\n",
    "    if md.identity == device_test.identity:\n",
    "        found_device_test = md\n",
    "    if md.identity == device.identity:\n",
    "        found_device = md\n",
    "\n",
    "if found_device_test_context != None:\n",
    "    device_test_context = found_device_test_context\n",
    "    device_test = found_device_test\n",
    "    device = found_device\n",
    "else:\n",
    "    doc.addModuleDefinition(device)\n",
    "    doc.addModuleDefinition(device_test)\n",
    "    doc.addModuleDefinition(device_test_context)\n",
    "\n",
    "# Widgets\n",
    "leftRightButton = widgets.Button(description='>>', layout=widgets.Layout(width='50px')) # noqa\n",
    "leftLeftButton = widgets.Button(description='<<', layout=widgets.Layout(width='50px')) # noqa\n",
    "rightRightButton = widgets.Button(description='>>', layout=widgets.Layout(width='50px')) # noqa\n",
    "rightLeftButton = widgets.Button(description='<<', layout=widgets.Layout(width='50px')) # noqa\n",
    "\n",
    "leftVBox = widgets.VBox()\n",
    "rightVBox = widgets.VBox()\n",
    "leftVBox.children = [leftRightButton, leftLeftButton]\n",
    "rightVBox.children = [rightRightButton, rightLeftButton]\n",
    "\n",
    "horizontalBox = widgets.HBox(layout = widgets.Layout(align_items = 'center', justify_content = 'space-around'))\n",
    "\n",
    "\n",
    "moduleNames = ['Device-Test-Context', 'Device-Test', 'Device']\n",
    "modulesDictionary = {'Device-Test-Context': device_test_context,\n",
    "                     'Device-Test': device_test,\n",
    "                     'Device': device}\n",
    "\n",
    "# Text widgets for device-test-context, device-test, and device names\n",
    "nameList = []\n",
    "# Select Multiple widgets for device-test-context, device-test, and device\n",
    "selectedLists = []\n",
    "\n",
    "componentLists = {}  # module name : list of components\n",
    "cdDisplayIDMap = {}  # cd display id : component definition\n",
    "\n",
    "componentLists['Device-Test-Context'] = createDTCList(doc, originalCDs, addedCDs, cdDisplayIDMap)\n",
    "componentLists['Device-Test'] = []\n",
    "componentLists['Device'] = []\n",
    "\n",
    "fcDictionary = {} # name w/ plasmid name : name w/o plasmid name\n",
    "\n",
    "\n",
    "horizontalBox.children = createColumnWidgets(moduleNames, componentLists, nameList, selectedLists, leftVBox, rightVBox)\n",
    "display(horizontalBox)\n",
    "\n",
    "# Device-Test-Context -> Device-Test\n",
    "def leftRightClickResponder(sender):\n",
    "    leftRightClick(selectedLists, componentLists)\n",
    "\n",
    "# Device-Test -> Device-Test-Context\n",
    "def leftLeftClickResponder(sender):\n",
    "    leftLeftClick(selectedLists, componentLists)\n",
    "\n",
    "# Device-Test -> Device\n",
    "def rightRightClickResponder(sender):\n",
    "    rightRightClick(selectedLists, componentLists)\n",
    "\n",
    "# Device -> Device-Test\n",
    "def rightLeftClickResponder(sender):\n",
    "    rightLeftClick(selectedLists, componentLists)\n",
    "\n",
    "leftRightButton.on_click(leftRightClickResponder)\n",
    "leftLeftButton.on_click(leftLeftClickResponder)\n",
    "rightRightButton.on_click(rightRightClickResponder)\n",
    "rightLeftButton.on_click(rightLeftClickResponder)\n",
    "\n",
    "\n",
    "finalizeModulesButton = widgets.Button(description = 'Finalize', tooltip = 'Finalize modules', disabled = True)\n",
    "display(finalizeModulesButton)\n",
    "\n",
    "displayMessages = widgets.Output()\n",
    "display(displayMessages)\n",
    "\n",
    "\n",
    "@displayMessages.capture()\n",
    "def printMessage(message):\n",
    "    clear_output()\n",
    "    print(message)\n",
    "\n",
    "def observer(sender):\n",
    "    for nameWidget in nameList:\n",
    "        if nameWidget.value == '':\n",
    "            finalizeModulesButton.disabled = True\n",
    "            return\n",
    "    \n",
    "    finalizeModulesButton.disabled = False\n",
    "\n",
    "\n",
    "plasmidPartDictionary = {}\n",
    "addedPlasmidParts = {}\n",
    "\n",
    "\n",
    "def finalize(sender):\n",
    "    global device_test_context, device_test, device\n",
    "\n",
    "    resetModules(device_test_context, device_test, device)\n",
    "    setNames(device_test_context, device_test, device, nameList)\n",
    "    createFunctionalComponents(doc, selectedLists, cdDisplayIDMap, modulesDictionary, moduleNames, fcDictionary)\n",
    "    addPlasmidParts(doc, originalCDs, device_test, device, plasmidPartDictionary, addedPlasmidParts)\n",
    "    \n",
    "    printMessage('Success!')\n",
    "    display(Javascript('IPython.notebook.execute_cell_range(IPython.notebook.get_selected_index()+1, IPython.notebook.ncells())'))\n",
    "    \n",
    "\n",
    "for textWidget in nameList:\n",
    "    textWidget.observe(observer)\n",
    "\n",
    "\n",
    "finalizeModulesButton.on_click(finalize)\n"
   ]
  },
  {
   "cell_type": "markdown",
   "metadata": {},
   "source": [
    "# Adding Interactions to the Modules"
   ]
  },
  {
   "cell_type": "code",
   "execution_count": 29,
   "metadata": {
    "init_cell": true,
    "scrolled": false
   },
   "outputs": [
    {
     "data": {
      "application/vnd.jupyter.widget-view+json": {
       "model_id": "ae5837ba408a43cc9c62f384de98c5aa",
       "version_major": 2,
       "version_minor": 0
      },
      "text/plain": [
       "Dropdown(description='Module:', options=(None, None, None), value=None)"
      ]
     },
     "metadata": {},
     "output_type": "display_data"
    },
    {
     "data": {
      "application/vnd.jupyter.widget-view+json": {
       "model_id": "5d0754be9c28423886bc54fd52a36590",
       "version_major": 2,
       "version_minor": 0
      },
      "text/plain": [
       "Button(description='Enter', style=ButtonStyle(), tooltip='Pick module')"
      ]
     },
     "metadata": {},
     "output_type": "display_data"
    },
    {
     "data": {
      "application/vnd.jupyter.widget-view+json": {
       "model_id": "66ba20f6aaf840ec902e693661fe3661",
       "version_major": 2,
       "version_minor": 0
      },
      "text/plain": [
       "VBox()"
      ]
     },
     "metadata": {},
     "output_type": "display_data"
    },
    {
     "data": {
      "application/vnd.jupyter.widget-view+json": {
       "model_id": "3e2223f4188f45efb54ff7301b44325d",
       "version_major": 2,
       "version_minor": 0
      },
      "text/plain": [
       "Output()"
      ]
     },
     "metadata": {},
     "output_type": "display_data"
    }
   ],
   "source": [
    "from sbol import *\n",
    "import ipywidgets as widgets\n",
    "from IPython.display import clear_output, Markdown\n",
    "from addinginteractions import *\n",
    "\n",
    "module_names = [device_test_context.name, device_test.name, device.name]\n",
    "namesDictionary = {}\n",
    "customNameDictionary = {device_test_context.name: device_test_context,\n",
    "                        device_test.name: device_test,\n",
    "                        device.name: device}  # custom name : moduledefinition\n",
    "\n",
    "    \n",
    "moduleToAnnotate = widgets.Dropdown(\n",
    "    options=module_names,\n",
    "    description='Module:'\n",
    ")\n",
    "\n",
    "enterButton = widgets.Button(\n",
    "    description='Enter',\n",
    "    tooltip='Pick module'\n",
    ")\n",
    "\n",
    "interactionName = widgets.Text(\n",
    "    placeholder='Enter interaction name',\n",
    "    description='Name:',\n",
    "    style={'description_width': '125px'},\n",
    "    layout=widgets.Layout(width='450px')\n",
    ")\n",
    "\n",
    "interactionSelect = widgets.Dropdown(\n",
    "    options=typesInteractions,\n",
    "    description='Interaction:',\n",
    "    style={'description_width': '125px'},\n",
    "    layout=widgets.Layout(width='325px')\n",
    ")\n",
    "\n",
    "horizontalBox = widgets.HBox()  # for showing the components in each of the plasmids\n",
    "\n",
    "addInteraction = widgets.Button(\n",
    "    description='Add',\n",
    "    tooltip='Add interaction'\n",
    ")\n",
    "\n",
    "doneButton = widgets.Button(\n",
    "    description='Done',\n",
    "    tooltip='Finish adding interactions'\n",
    ")\n",
    "\n",
    "finalizeInteraction = widgets.Button(\n",
    "    description='Finalize',\n",
    "    tooltip='Finalize interaction'\n",
    ")\n",
    "\n",
    "messageBox = widgets.Output()\n",
    "\n",
    "interactionWidgets = widgets.VBox()\n",
    "interactionChildren = []\n",
    "\n",
    "participationWidgets = widgets.VBox()\n",
    "participationChildren = []\n",
    "\n",
    "display(moduleToAnnotate)\n",
    "display(enterButton)\n",
    "display(interactionWidgets)\n",
    "display(messageBox)\n",
    "\n",
    "@messageBox.capture()\n",
    "def printMessages(message):\n",
    "    clear_output()\n",
    "    print(message)\n",
    "\n",
    "def on_select(sender):    \n",
    "    global interactionChildren\n",
    "    \n",
    "    interactionName.value = ''\n",
    "    interactionSelect.value = None\n",
    "    \n",
    "    interactionChildren = []\n",
    "    interactionWidgets.children = interactionChildren   \n",
    "    \n",
    "    horizontalBox.children = createHBoxChildren(moduleToAnnotate.value, customNameDictionary, fcDictionary)\n",
    "    \n",
    "    interactionChildren.append(widgets.HTML('<br>'))\n",
    "    interactionChildren.append(interactionName)\n",
    "    interactionChildren.append(interactionSelect)\n",
    "    interactionChildren.append(widgets.HTML('<br>'))\n",
    "    interactionChildren.append(horizontalBox)\n",
    "    interactionChildren.append(widgets.HTML('<br>'))\n",
    "    interactionChildren.append(addInteraction)\n",
    "    \n",
    "    interactionWidgets.children = interactionChildren\n",
    "    \n",
    "participantDictionary = {} # fc display id : participation\n",
    "    \n",
    "def addInteractionResponder(sender):\n",
    "    if interactionSelect.value is None:\n",
    "        printMessages('You need an interaction type!')\n",
    "        return\n",
    "    printMessages('')\n",
    "    \n",
    "    participationChildren, selectedFC = createParticipationChildren(horizontalBox.children)\n",
    "    \n",
    "    try:\n",
    "        createInteraction(customNameDictionary,\n",
    "                      moduleToAnnotate.value,\n",
    "                      interactionName.value,\n",
    "                      interactionSelect.value,\n",
    "                      participantDictionary,\n",
    "                      selectedFC)\n",
    "    except:\n",
    "        printMessages(interactionName.value + ' already exists!')\n",
    "        return\n",
    "\n",
    "   \n",
    "    participationWidgets.children = participationChildren\n",
    "    \n",
    "    interactionChildren.append(widgets.HTML('<br>'))\n",
    "    interactionChildren.append(participationWidgets)\n",
    "    interactionChildren.append(finalizeInteraction)\n",
    "    interactionWidgets.children = interactionChildren\n",
    "    \n",
    "            \n",
    "\n",
    "def finalizeResponder(sender):\n",
    "    global interactionChildren, participationChildren\n",
    "    createMapsTos(doc, participationWidgets.children, participantDictionary, plasmidPartDictionary, addedPlasmidParts)\n",
    "                \n",
    "    interactionChildren = []\n",
    "    participationChildren = []\n",
    "    \n",
    "    interactionWidgets.children = interactionChildren\n",
    "    participationWidgets.children = participationChildren\n",
    "    \n",
    "    display(Javascript('IPython.notebook.execute_cell_range(IPython.notebook.get_selected_index()+1, IPython.notebook.ncells())'))\n",
    "    printMessages('Success!')\n",
    "\n",
    "\n",
    "enterButton.on_click(on_select)\n",
    "addInteraction.on_click(addInteractionResponder)\n",
    "finalizeInteraction.on_click(finalizeResponder)\n"
   ]
  },
  {
   "cell_type": "markdown",
   "metadata": {},
   "source": [
    "# Modules"
   ]
  },
  {
   "cell_type": "code",
   "execution_count": 30,
   "metadata": {
    "init_cell": true
   },
   "outputs": [
    {
     "data": {
      "application/vnd.jupyter.widget-view+json": {
       "model_id": "fefd0176672e40d2af0e8a58b125ecdd",
       "version_major": 2,
       "version_minor": 0
      },
      "text/plain": [
       "Accordion(children=(VBox(children=(HTML(value='<b><h5>(Device-Test-Context)</h5></b><u><dt>Modules</dt></u><dd…"
      ]
     },
     "metadata": {},
     "output_type": "display_data"
    }
   ],
   "source": [
    "from sbol import *\n",
    "import ipywidgets as widgets\n",
    "from IPython.display import clear_output, Markdown\n",
    "from displaymoduledefinitions import createParentAccordion\n",
    "\n",
    "modules = [device_test_context, device_test, device]\n",
    "accordion = createParentAccordion(modules, modulesDictionary)\n",
    "\n",
    "display(accordion)\n"
   ]
  },
  {
   "cell_type": "markdown",
   "metadata": {},
   "source": [
    "# Upload to SynBioHub\n",
    "To upload to SynBioHub:\n",
    "1. Enter a name, description, and version for the Collection.\n",
    "2. Press Submit."
   ]
  },
  {
   "cell_type": "code",
   "execution_count": 31,
   "metadata": {
    "init_cell": true
   },
   "outputs": [
    {
     "data": {
      "application/vnd.jupyter.widget-view+json": {
       "model_id": "4073b379110f4328a42674a5745db0f6",
       "version_major": 2,
       "version_minor": 0
      },
      "text/plain": [
       "HTML(value='<font size=\"4\"><b>Login to SynBioHub</b></font>')"
      ]
     },
     "metadata": {},
     "output_type": "display_data"
    },
    {
     "data": {
      "application/vnd.jupyter.widget-view+json": {
       "model_id": "4db1d80133134debaa7600ad036be298",
       "version_major": 2,
       "version_minor": 0
      },
      "text/plain": [
       "Text(value='', description='Email:', placeholder='Enter email')"
      ]
     },
     "metadata": {},
     "output_type": "display_data"
    },
    {
     "data": {
      "application/vnd.jupyter.widget-view+json": {
       "model_id": "226fa7eb80134a1b9d0cd04e47250c91",
       "version_major": 2,
       "version_minor": 0
      },
      "text/plain": [
       "Password(description='Password:', placeholder='Enter password')"
      ]
     },
     "metadata": {},
     "output_type": "display_data"
    },
    {
     "data": {
      "application/vnd.jupyter.widget-view+json": {
       "model_id": "c382e0e37bd54fb58589251b5992779b",
       "version_major": 2,
       "version_minor": 0
      },
      "text/plain": [
       "Button(description='Login', style=ButtonStyle(), tooltip='Login to SynBioHub')"
      ]
     },
     "metadata": {},
     "output_type": "display_data"
    },
    {
     "data": {
      "application/vnd.jupyter.widget-view+json": {
       "model_id": "f26b32df46924aec92189bff234767b7",
       "version_major": 2,
       "version_minor": 0
      },
      "text/plain": [
       "Output()"
      ]
     },
     "metadata": {},
     "output_type": "display_data"
    }
   ],
   "source": [
    "from sbol import *\n",
    "import ipywidgets as widgets\n",
    "from IPython.display import clear_output, Markdown\n",
    "\n",
    "loginLabel = widgets.HTML('<font size=\"4\"><b>Login to SynBioHub</b></font>')\n",
    "\n",
    "usernameField = widgets.componentName = widgets.Text(\n",
    "    value = '',\n",
    "    placeholder = 'Enter email',\n",
    "    description = 'Email:',\n",
    "    disabled = False,\n",
    ")\n",
    "\n",
    "passwordField = widgets.Password(description = 'Password:', placeholder = 'Enter password')\n",
    "\n",
    "loginButton = widgets.Button(\n",
    "    description = 'Login',\n",
    "    disabled = False,\n",
    "    button_style = '',\n",
    "    tooltip = 'Login to SynBioHub',\n",
    "    icon = ''\n",
    ")\n",
    "\n",
    "loginMessageBox = widgets.Output()\n",
    "\n",
    "display(loginLabel)\n",
    "display(usernameField)\n",
    "display(passwordField)\n",
    "display(loginButton)\n",
    "display(loginMessageBox)\n",
    "\n",
    "sbh = PartShop('https://synbiohub.org')\n",
    "\n",
    "@loginMessageBox.capture()\n",
    "def loginSBH(sender):\n",
    "    clear_output()\n",
    "    if usernameField.value == '':\n",
    "        print('You need a username!')\n",
    "        return\n",
    "    if passwordField.value == '':\n",
    "        print('You need a password!')\n",
    "        return\n",
    "    \n",
    "    sbh.login(usernameField.value, passwordField.value)\n",
    "    message = sbh.submit(Document())\n",
    "    \n",
    "    if message == 'Login required':\n",
    "        print('Incorrect login!')\n",
    "    else:\n",
    "        print('Logged in!')\n"
   ]
  },
  {
   "cell_type": "code",
   "execution_count": 32,
   "metadata": {
    "init_cell": true
   },
   "outputs": [
    {
     "data": {
      "application/vnd.jupyter.widget-view+json": {
       "model_id": "230e7e97974c4e76a402931397fb3b7d",
       "version_major": 2,
       "version_minor": 0
      },
      "text/plain": [
       "HTML(value='<font size=\"4\"><b>Enter Name, Description, and Version</b></font>')"
      ]
     },
     "metadata": {},
     "output_type": "display_data"
    },
    {
     "data": {
      "application/vnd.jupyter.widget-view+json": {
       "model_id": "99b685a064b640e0aacb4f623011750c",
       "version_major": 2,
       "version_minor": 0
      },
      "text/plain": [
       "Text(value='', description='Name:', placeholder='Enter name')"
      ]
     },
     "metadata": {},
     "output_type": "display_data"
    },
    {
     "data": {
      "application/vnd.jupyter.widget-view+json": {
       "model_id": "3e3aa1855abc4fbb8c12c5f5ed299afa",
       "version_major": 2,
       "version_minor": 0
      },
      "text/plain": [
       "Text(value='', description='Description:', placeholder='Enter description')"
      ]
     },
     "metadata": {},
     "output_type": "display_data"
    },
    {
     "data": {
      "application/vnd.jupyter.widget-view+json": {
       "model_id": "dc392f4003934368a9b01c07783bdec2",
       "version_major": 2,
       "version_minor": 0
      },
      "text/plain": [
       "Text(value='', description='Version:', placeholder='Enter version')"
      ]
     },
     "metadata": {},
     "output_type": "display_data"
    },
    {
     "data": {
      "application/vnd.jupyter.widget-view+json": {
       "model_id": "80455103d19e4486b4ca6f56f03849af",
       "version_major": 2,
       "version_minor": 0
      },
      "text/plain": [
       "Button(description='Submit', style=ButtonStyle(), tooltip='Submit to SynBioHub')"
      ]
     },
     "metadata": {},
     "output_type": "display_data"
    },
    {
     "data": {
      "application/vnd.jupyter.widget-view+json": {
       "model_id": "5330a13b9be54bdea077cc99f5d7243f",
       "version_major": 2,
       "version_minor": 0
      },
      "text/plain": [
       "Output()"
      ]
     },
     "metadata": {},
     "output_type": "display_data"
    }
   ],
   "source": [
    "from sbol import *\n",
    "import ipywidgets as widgets\n",
    "from IPython.display import clear_output, Markdown\n",
    "\n",
    "# Name = Display Id\n",
    "propertiesLabel = widgets.HTML('<font size=\"4\"><b>Enter Name, Description, and Version</b></font>')\n",
    "\n",
    "docName = widgets.Text(\n",
    "    value = '',\n",
    "    placeholder = 'Enter name',\n",
    "    description = 'Name:',\n",
    "    disabled = False,\n",
    ")\n",
    "\n",
    "docDescription = widgets.Text(\n",
    "    value = '',\n",
    "    placeholder = 'Enter description',\n",
    "    description = 'Description:',\n",
    "    disabled = False,\n",
    ")\n",
    "\n",
    "docVersion = widgets.Text(\n",
    "    value = '',\n",
    "    placeholder = 'Enter version',\n",
    "    description = 'Version:',\n",
    "    disabled = False,\n",
    ")\n",
    "\n",
    "submitButton = widgets.Button(\n",
    "    description = 'Submit',\n",
    "    disabled = False,\n",
    "    button_style = '',\n",
    "    tooltip = 'Submit to SynBioHub',\n",
    "    icon = ''\n",
    ")\n",
    "\n",
    "errorBox = widgets.Output()\n",
    "\n",
    "display(propertiesLabel)\n",
    "display(docName)\n",
    "display(docDescription)\n",
    "display(docVersion)\n",
    "display(submitButton)\n",
    "display(errorBox)\n",
    "\n",
    "@errorBox.capture()\n",
    "def submitSBH(sender):\n",
    "    clear_output()\n",
    "    if docName.value == '':\n",
    "        print('You need a name for the Collection!')\n",
    "        return\n",
    "    if docDescription.value == '':\n",
    "        print('You need a description for the Collection!')\n",
    "        return\n",
    "    if docVersion.value == '':\n",
    "        print('You need a version for this Collection!')\n",
    "        return\n",
    "    \n",
    "    doc.displayId = docName.value\n",
    "    doc.name = docName.value\n",
    "    doc.description = docDescription.value\n",
    "    doc.version = docVersion.value\n",
    "\n",
    "    message = sbh.submit(doc)\n",
    "    \n",
    "    print(message)\n",
    "\n",
    "loginButton.on_click(loginSBH)\n",
    "submitButton.on_click(submitSBH)"
   ]
  },
  {
   "cell_type": "code",
   "execution_count": 33,
   "metadata": {},
   "outputs": [],
   "source": [
    "# THIS CODE BLOCK IS JUST TO TEST RANDOM VARIABLES AND SUCH\n",
    "\n",
    "\n",
    "# for i in device_test_context.functionalComponents:\n",
    "#     print(i.displayId)\n",
    "    \n",
    "# doc.write('whatisthat.xml')\n",
    "# print(doc)\n",
    "\n",
    "# customNameDictionary\n",
    "\n",
    "# device.functionalComponents.clear()\n",
    "# device_test.functionalComponents.clear()\n",
    "# device_test_context.functionalComponents.clear()\n",
    "# for i in participationWidgets.children:\n",
    "#     print(i.value)\n",
    "\n",
    "# dtcListWidget = selectedLists[0]\n",
    "# for i in dtcListWidget.options:\n",
    "#     print(i)\n",
    "# for i in device.functionalComponents:\n",
    "#     print(i)\n",
    "    \n",
    "# for i in selectedLists[2].options:\n",
    "#     print(i)\n",
    "\n",
    "# print(cdDisplayIDMap)\n",
    "\n",
    "# print(participantDictionary)\n",
    "# foo\n",
    "# doc.write('hi.xml')\n",
    "# cd = doc.find('https://bu.edu/ben/BBa_K808000__CDS__misc_feature0__misc_feature1__promoter/1.0.0').cast(ComponentDefinition)\n",
    "# for i in cd.sequenceAnnotations:\n",
    "#     print(len(i.locations))\n",
    "# #     if '2' in i.displayId:\n",
    "# #         for j in i.locations:\n",
    "# #             j = j.cast(Range)\n",
    "# print(len(cd.sequenceAnnotations))\n",
    "# for i in cd.sequenceAnnotations:\n",
    "#     for j in i.locations:\n",
    "#         print(j.name)\n",
    "            \n",
    "# doc.write('hi2.xml')\n",
    "\n",
    "\n",
    "\n",
    "\n",
    "# doc.write('hi.xml')"
   ]
  }
 ],
 "metadata": {
  "celltoolbar": "Initialization Cell",
  "kernelspec": {
   "display_name": "Python 3",
   "language": "python",
   "name": "python3"
  },
  "language_info": {
   "codemirror_mode": {
    "name": "ipython",
    "version": 3
   },
   "file_extension": ".py",
   "mimetype": "text/x-python",
   "name": "python",
   "nbconvert_exporter": "python",
   "pygments_lexer": "ipython3",
   "version": "3.7.3"
  }
 },
 "nbformat": 4,
 "nbformat_minor": 2
}
