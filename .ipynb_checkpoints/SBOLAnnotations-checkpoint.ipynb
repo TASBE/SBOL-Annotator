{
 "cells": [
  {
   "cell_type": "code",
   "execution_count": 20,
   "metadata": {
    "init_cell": true,
    "scrolled": true
   },
   "outputs": [
    {
     "data": {
      "text/html": [
       "<script>\n",
       "            code_show=true; \n",
       "            function code_toggle() {\n",
       "                if (code_show){\n",
       "                    $('div.input').hide();\n",
       "                } else {\n",
       "                    $('div.input').show();\n",
       "                }\n",
       "                    code_show = !code_show\n",
       "            } \n",
       "            $( document ).ready(code_toggle);\n",
       "        </script>\n",
       "        <form action=\"javascript:code_toggle()\"><input type=\"submit\" value=\"View/Hide Raw Code\"></form>"
      ],
      "text/plain": [
       "<IPython.core.display.HTML object>"
      ]
     },
     "execution_count": 20,
     "metadata": {},
     "output_type": "execute_result"
    }
   ],
   "source": [
    "from IPython.display import HTML\n",
    "\n",
    "HTML('''<script>\n",
    "            code_show=true; \n",
    "            function code_toggle() {\n",
    "                if (code_show){\n",
    "                    $('div.input').hide();\n",
    "                } else {\n",
    "                    $('div.input').show();\n",
    "                }\n",
    "                    code_show = !code_show\n",
    "            } \n",
    "            $( document ).ready(code_toggle);\n",
    "        </script>\n",
    "        <form action=\"javascript:code_toggle()\"><input type=\"submit\" value=\"View/Hide Raw Code\"></form>''')"
   ]
  },
  {
   "cell_type": "markdown",
   "metadata": {},
   "source": [
    "# Converting the GenBank File to SBOL\n",
    "1. Upload the GenBank file or place in the same folder.\n",
    "2. Enter the file name and the URI prefix (something like https://bu.edu/ben) that you want to use.\n",
    "3. Enter a version (optional).\n",
    "4. Hit send and it will create an SBOL file with the same name."
   ]
  },
  {
   "cell_type": "code",
   "execution_count": 22,
   "metadata": {
    "init_cell": true,
    "scrolled": false
   },
   "outputs": [
    {
     "data": {
      "application/vnd.jupyter.widget-view+json": {
       "model_id": "8b9e6e43f185404ba91800ee42ede8f8",
       "version_major": 2,
       "version_minor": 0
      },
      "text/plain": [
       "FileUpload(accept='.gb', multiple=True, style_button='color: white; background-color: teal')"
      ]
     },
     "metadata": {},
     "output_type": "display_data"
    },
    {
     "data": {
      "application/vnd.jupyter.widget-view+json": {
       "model_id": "95bba8be93f54d34be925bd49db59584",
       "version_major": 2,
       "version_minor": 0
      },
      "text/plain": [
       "Text(value='', description='URL:', placeholder='Enter URI Prefix')"
      ]
     },
     "metadata": {},
     "output_type": "display_data"
    },
    {
     "data": {
      "application/vnd.jupyter.widget-view+json": {
       "model_id": "6b98274b963a4c05a5e41e1c4d361fc8",
       "version_major": 2,
       "version_minor": 0
      },
      "text/plain": [
       "Text(value='', description='Version:', placeholder='Enter Version (optional)')"
      ]
     },
     "metadata": {},
     "output_type": "display_data"
    },
    {
     "data": {
      "application/vnd.jupyter.widget-view+json": {
       "model_id": "fa16bb7d0560437380adc22b517c893f",
       "version_major": 2,
       "version_minor": 0
      },
      "text/plain": [
       "Button(description='Send', disabled=True, style=ButtonStyle(), tooltip='Converts Genbank file to SBOL')"
      ]
     },
     "metadata": {},
     "output_type": "display_data"
    },
    {
     "data": {
      "application/vnd.jupyter.widget-view+json": {
       "model_id": "81b1855851f44f9cad5678fa0e3807e9",
       "version_major": 2,
       "version_minor": 0
      },
      "text/plain": [
       "Output()"
      ]
     },
     "metadata": {},
     "output_type": "display_data"
    }
   ],
   "source": [
    "from sbol import *\n",
    "import ipywidgets as widgets\n",
    "from IPython.display import Javascript, display, clear_output\n",
    "from ipyupload import FileUpload\n",
    "import os\n",
    "import sys\n",
    "CURRENTDIR = os.getcwd()\n",
    "SRCDIR = os.path.join(CURRENTDIR, 'src')\n",
    "if sys.path[0] != SRCDIR:\n",
    "    sys.path.insert(0, SRCDIR)\n",
    "import convert\n",
    "\n",
    "# Widgets\n",
    "upload = FileUpload(\n",
    "    accept='.gb',\n",
    "    multiple=True,\n",
    "    disabled=False,\n",
    "    style_button='color: white; background-color: teal',\n",
    "    compress_level=0\n",
    ")\n",
    "URIPrefix = widgets.Text(\n",
    "    value='', \n",
    "    placeholder='Enter URI Prefix',\n",
    "    description='URL:'\n",
    ")\n",
    "version = widgets.Text(\n",
    "    placeholder='Enter Version (optional)',\n",
    "    description='Version:'\n",
    ")\n",
    "sendButton = widgets.Button(\n",
    "    description='Send',\n",
    "    disabled=True,\n",
    "    tooltip='Converts Genbank file to SBOL'\n",
    ")\n",
    "out = widgets.Output()\n",
    "\n",
    "# Displaying Widgets\n",
    "display(upload)\n",
    "display(URIPrefix)\n",
    "display(version)\n",
    "display(sendButton)\n",
    "display(out)\n",
    "\n",
    "# Global Variables for Whole Notebook\n",
    "doc = Document()\n",
    "Config.setOption('sbol_compliant_uris', True)\n",
    "Config.setOption('sbol_typed_uris', False)\n",
    "\n",
    "originalCDs = []\n",
    "addedCDs = []\n",
    "cdDictionary = {}\n",
    "\n",
    "# Listener to enable the Send button\n",
    "def checkInputs(sender):\n",
    "    if URIPrefix.value == '' or len(upload.value) == 0:\n",
    "        sendButton.disabled = True\n",
    "    else:\n",
    "        sendButton.disabled = False\n",
    "\n",
    "# Listener for the Send button push -- adds GenBank files to Document\n",
    "@out.capture()\n",
    "def sendRequest(sender):\n",
    "    global originalCDs, cdDictionary, doc\n",
    "    clear_output()\n",
    "        \n",
    "    doc = Document()\n",
    "    setHomespace(URIPrefix.value)\n",
    "\n",
    "    cdDicitonary = {}\n",
    "    originalCDs = []\n",
    "    addedCDs = []\n",
    "    \n",
    "    try:\n",
    "        convert.getSBOLFiles(doc, originalCDs, cdDictionary, upload.value, URIPrefix.value, version.value)\n",
    "    except:\n",
    "        print('You need to input GenBank files.')\n",
    "        return\n",
    "    \n",
    "    print('Success!')\n",
    "    display(Javascript('IPython.notebook.execute_cell_range(IPython.notebook.get_selected_index()+1, IPython.notebook.ncells())'))\n",
    "\n",
    "# Connecting Observers\n",
    "upload.observe(checkInputs)\n",
    "URIPrefix.observe(checkInputs)\n",
    "sendButton.on_click(sendRequest)\n"
   ]
  },
  {
   "cell_type": "markdown",
   "metadata": {},
   "source": [
    "# Add a Component\n",
    "Enter the name of the component, the type, and the role (optional)."
   ]
  },
  {
   "cell_type": "code",
   "execution_count": 29,
   "metadata": {
    "init_cell": true,
    "scrolled": false
   },
   "outputs": [
    {
     "data": {
      "application/vnd.jupyter.widget-view+json": {
       "model_id": "94cccef024634ca291d6b3c1717a4a40",
       "version_major": 2,
       "version_minor": 0
      },
      "text/plain": [
       "Text(value='', description='Name:', placeholder='Enter a component name')"
      ]
     },
     "metadata": {},
     "output_type": "display_data"
    },
    {
     "data": {
      "application/vnd.jupyter.widget-view+json": {
       "model_id": "133c83368cfb4e15bd3a9f0f59f3ca6c",
       "version_major": 2,
       "version_minor": 0
      },
      "text/plain": [
       "Dropdown(description='Type:', options=('DNA', 'RNA', 'Protein', 'Small Molecule', 'Complex'), value='DNA')"
      ]
     },
     "metadata": {},
     "output_type": "display_data"
    },
    {
     "data": {
      "application/vnd.jupyter.widget-view+json": {
       "model_id": "ac8a8b0c17dc4324827c62b3efaf139e",
       "version_major": 2,
       "version_minor": 0
      },
      "text/plain": [
       "Dropdown(description='Role:', options=('', 'Miscellaneous', 'Promoter', 'RBS', 'CDS', 'Terminator', 'Gene', 'O…"
      ]
     },
     "metadata": {},
     "output_type": "display_data"
    },
    {
     "data": {
      "application/vnd.jupyter.widget-view+json": {
       "model_id": "d4f0fe85242340769ef9a82703ec9db9",
       "version_major": 2,
       "version_minor": 0
      },
      "text/plain": [
       "Button(description='Create', disabled=True, style=ButtonStyle(), tooltip='Creates a new Component Definition')"
      ]
     },
     "metadata": {},
     "output_type": "display_data"
    },
    {
     "data": {
      "application/vnd.jupyter.widget-view+json": {
       "model_id": "7a02deca64ab4103a69911fbff8a5cee",
       "version_major": 2,
       "version_minor": 0
      },
      "text/plain": [
       "Output()"
      ]
     },
     "metadata": {},
     "output_type": "display_data"
    }
   ],
   "source": [
    "from sbol import *\n",
    "import ipywidgets as widgets\n",
    "from IPython.display import clear_output, Markdown\n",
    "import os\n",
    "import sys\n",
    "CURRENTDIR = os.getcwd()\n",
    "SRCDIR = os.path.join(CURRENTDIR, 'src')\n",
    "if sys.path[0] != SRCDIR:\n",
    "    sys.path.insert(0, SRCDIR)\n",
    "from componentsingle import componentTypes, componentRoles, typesMap, rolesMap, addComponent\n",
    "\n",
    "\n",
    "# Widgets\n",
    "componentName = widgets.Text(\n",
    "    value='',\n",
    "    placeholder='Enter a component name',\n",
    "    description='Name:'\n",
    ")\n",
    "typeDrop = widgets.Dropdown(\n",
    "    options=componentTypes,\n",
    "    description='Type:'\n",
    ")\n",
    "roleDrop = widgets.Dropdown(\n",
    "    options=componentRoles,\n",
    "    description='Role:'\n",
    ")\n",
    "createButton = widgets.Button(\n",
    "    description='Create',\n",
    "    disabled=True,\n",
    "    tooltip='Creates a new Component Definition'\n",
    ")\n",
    "outBox = widgets.Output()\n",
    "\n",
    "# Displaying Widgets\n",
    "display(componentName)\n",
    "display(typeDrop)\n",
    "display(roleDrop)\n",
    "display(createButton)\n",
    "display(outBox)\n",
    "\n",
    "# Listener to enable Create button\n",
    "def checkText(sender):\n",
    "    if componentName.value == '':\n",
    "        createButton.disabled = True\n",
    "    else:\n",
    "        createButton.disabled = False\n",
    "\n",
    "# Listener for Create button push -- creates and adds Component Definition to Document\n",
    "@outBox.capture()\n",
    "def createButtonHandler(sender):\n",
    "    global doc, addedCDs\n",
    "    clear_output()\n",
    "    \n",
    "    addComponent(doc, addedCDs, componentName.value, typeDrop.value, roleDrop.value)\n",
    "    display(Javascript('IPython.notebook.execute_cell_range(IPython.notebook.get_selected_index()+1, IPython.notebook.ncells())'))\n",
    "\n",
    "componentName.observe(checkText)\n",
    "createButton.on_click(createButtonHandler)"
   ]
  },
  {
   "cell_type": "markdown",
   "metadata": {},
   "source": [
    "# Component Definitions"
   ]
  },
  {
   "cell_type": "code",
   "execution_count": 30,
   "metadata": {
    "init_cell": true,
    "scrolled": false
   },
   "outputs": [
    {
     "data": {
      "application/vnd.jupyter.widget-view+json": {
       "model_id": "0c1402a7ddda4f1f983d5a9a3a246927",
       "version_major": 2,
       "version_minor": 0
      },
      "text/plain": [
       "VBox(children=(HTML(value='<font size=3><b>BBa_K808000</b></font>'), Accordion(children=(HTML(value='<d1><dt><…"
      ]
     },
     "metadata": {},
     "output_type": "display_data"
    }
   ],
   "source": [
    "from sbol import *\n",
    "import ipywidgets as widgets\n",
    "from componentdefinitions import fixAndCreateWidgets\n",
    "\n",
    "mainBox = widgets.VBox(children=fixAndCreateWidgets(doc, originalCDs, addedCDs, cdDictionary))\n",
    "\n",
    "display(mainBox)"
   ]
  },
  {
   "cell_type": "markdown",
   "metadata": {},
   "source": [
    "# Add Components to Modules\n"
   ]
  },
  {
   "cell_type": "code",
   "execution_count": 31,
   "metadata": {
    "init_cell": true,
    "scrolled": false
   },
   "outputs": [
    {
     "data": {
      "application/vnd.jupyter.widget-view+json": {
       "model_id": "a6fc00728a2648ea8e4c105d9b939f51",
       "version_major": 2,
       "version_minor": 0
      },
      "text/plain": [
       "HBox(children=(VBox(children=(HTML(value='<h4>Device-Test-Context</h4>'), Text(value='', description='Name:', …"
      ]
     },
     "metadata": {},
     "output_type": "display_data"
    },
    {
     "data": {
      "application/vnd.jupyter.widget-view+json": {
       "model_id": "1b1480dc412541808b26aa62316f1f56",
       "version_major": 2,
       "version_minor": 0
      },
      "text/plain": [
       "Button(description='Finalize', disabled=True, style=ButtonStyle(), tooltip='Finalize modules')"
      ]
     },
     "metadata": {},
     "output_type": "display_data"
    },
    {
     "data": {
      "application/vnd.jupyter.widget-view+json": {
       "model_id": "857c044b16854bd7917e1fb6e351f5f3",
       "version_major": 2,
       "version_minor": 0
      },
      "text/plain": [
       "Output()"
      ]
     },
     "metadata": {},
     "output_type": "display_data"
    }
   ],
   "source": [
    "from sbol import *\n",
    "import ipywidgets as widgets\n",
    "from IPython.display import clear_output, Markdown\n",
    "from componentbuckets import *\n",
    "\n",
    "# Nested Modules\n",
    "device_test_context = ModuleDefinition('context')\n",
    "device_test = ModuleDefinition('device_test')\n",
    "device = ModuleDefinition('device')\n",
    "\n",
    "device_test_submod = device_test_context.modules.create('device_test')\n",
    "device_test_submod.definition = device_test.identity\n",
    "\n",
    "device_submod = device_test.modules.create('device')\n",
    "device_submod.definition = device.identity\n",
    "\n",
    "\n",
    "# Get modules that are in the Document        \n",
    "found_device_test_context = None\n",
    "found_device_test = None\n",
    "found_device = None\n",
    "\n",
    "for md in doc.moduleDefinitions:\n",
    "    if md.identity == device_test_context.identity:\n",
    "        found_device_test_context = md\n",
    "    if md.identity == device_test.identity:\n",
    "        found_device_test = md\n",
    "    if md.identity == device.identity:\n",
    "        found_device = md\n",
    "\n",
    "if found_device_test_context != None:\n",
    "    device_test_context = found_device_test_context\n",
    "    device_test = found_device_test\n",
    "    device = found_device\n",
    "else:\n",
    "    doc.addModuleDefinition(device)\n",
    "    doc.addModuleDefinition(device_test)\n",
    "    doc.addModuleDefinition(device_test_context)\n",
    "\n",
    "# Widgets\n",
    "leftRightButton = widgets.Button(description='>>', layout=widgets.Layout(width='50px')) # noqa\n",
    "leftLeftButton = widgets.Button(description='<<', layout=widgets.Layout(width='50px')) # noqa\n",
    "rightRightButton = widgets.Button(description='>>', layout=widgets.Layout(width='50px')) # noqa\n",
    "rightLeftButton = widgets.Button(description='<<', layout=widgets.Layout(width='50px')) # noqa\n",
    "\n",
    "leftVBox = widgets.VBox()\n",
    "rightVBox = widgets.VBox()\n",
    "leftVBox.children = [leftRightButton, leftLeftButton]\n",
    "rightVBox.children = [rightRightButton, rightLeftButton]\n",
    "\n",
    "horizontalBox = widgets.HBox(layout = widgets.Layout(align_items = 'center', justify_content = 'space-around'))\n",
    "\n",
    "\n",
    "moduleNames = ['Device-Test-Context', 'Device-Test', 'Device']\n",
    "modulesDictionary = {'Device-Test-Context': device_test_context,\n",
    "                     'Device-Test': device_test,\n",
    "                     'Device': device}\n",
    "\n",
    "# Text widgets for device-test-context, device-test, and device names\n",
    "nameList = []\n",
    "# Select Multiple widgets for device-test-context, device-test, and device\n",
    "selectedLists = []\n",
    "\n",
    "componentLists = {}  # module name : list of components\n",
    "cdDisplayIDMap = {}  # cd display id : component definition\n",
    "\n",
    "componentLists['Device-Test-Context'] = createDTCList(doc, originalCDs, addedCDs, cdDisplayIDMap)\n",
    "componentLists['Device-Test'] = []\n",
    "componentLists['Device'] = []\n",
    "\n",
    "fcDictionary = {} # name w/ plasmid name : name w/o plasmid name\n",
    "\n",
    "\n",
    "horizontalBox.children = createColumnWidgets(moduleNames, componentLists, nameList, selectedLists, leftVBox, rightVBox)\n",
    "display(horizontalBox)\n",
    "\n",
    "# Device-Test-Context -> Device-Test\n",
    "def leftRightClickResponder(sender):\n",
    "    leftRightClick(selectedLists, componentLists)\n",
    "\n",
    "# Device-Test -> Device-Test-Context\n",
    "def leftLeftClickResponder(sender):\n",
    "    leftLeftClick(selectedLists, componentLists)\n",
    "\n",
    "# Device-Test -> Device\n",
    "def rightRightClickResponder(sender):\n",
    "    rightRightClick(selectedLists, componentLists)\n",
    "\n",
    "# Device -> Device-Test\n",
    "def rightLeftClickResponder(sender):\n",
    "    rightLeftClick(selectedLists, componentLists)\n",
    "\n",
    "leftRightButton.on_click(leftRightClickResponder)\n",
    "leftLeftButton.on_click(leftLeftClickResponder)\n",
    "rightRightButton.on_click(rightRightClickResponder)\n",
    "rightLeftButton.on_click(rightLeftClickResponder)\n",
    "\n",
    "\n",
    "finalizeModulesButton = widgets.Button(description = 'Finalize', tooltip = 'Finalize modules', disabled = True)\n",
    "display(finalizeModulesButton)\n",
    "\n",
    "displayMessages = widgets.Output()\n",
    "display(displayMessages)\n",
    "\n",
    "\n",
    "@displayMessages.capture()\n",
    "def printMessage(message):\n",
    "    clear_output()\n",
    "    print(message)\n",
    "\n",
    "def observer(sender):\n",
    "    for nameWidget in nameList:\n",
    "        if nameWidget.value == '':\n",
    "            finalizeModulesButton.disabled = True\n",
    "            return\n",
    "    \n",
    "    finalizeModulesButton.disabled = False\n",
    "\n",
    "\n",
    "plasmidPartDictionary = {}\n",
    "addedPlasmidParts = {}\n",
    "\n",
    "\n",
    "def finalize(sender):\n",
    "    global device_test_context, device_test, device\n",
    "\n",
    "    resetModules(device_test_context, device_test, device)\n",
    "    setNames(device_test_context, device_test, device, nameList)\n",
    "    createFunctionalComponents(doc, selectedLists, cdDisplayIDMap, modulesDictionary, moduleNames, fcDictionary)\n",
    "    addPlasmidParts(doc, originalCDs, device_test, device, plasmidPartDictionary, addedPlasmidParts)\n",
    "    \n",
    "    printMessage('Success!')\n",
    "    display(Javascript('IPython.notebook.execute_cell_range(IPython.notebook.get_selected_index()+1, IPython.notebook.ncells())'))\n",
    "    \n",
    "\n",
    "for textWidget in nameList:\n",
    "    textWidget.observe(observer)\n",
    "\n",
    "\n",
    "finalizeModulesButton.on_click(finalize)\n"
   ]
  },
  {
   "cell_type": "markdown",
   "metadata": {},
   "source": [
    "# Adding Interactions to the Modules"
   ]
  },
  {
   "cell_type": "code",
   "execution_count": 32,
   "metadata": {
    "init_cell": true,
    "scrolled": false
   },
   "outputs": [
    {
     "data": {
      "application/vnd.jupyter.widget-view+json": {
       "model_id": "3d14cd30519c4ef59dd83103c76fdb48",
       "version_major": 2,
       "version_minor": 0
      },
      "text/plain": [
       "Dropdown(description='Module:', options=(None, None, None), value=None)"
      ]
     },
     "metadata": {},
     "output_type": "display_data"
    },
    {
     "data": {
      "application/vnd.jupyter.widget-view+json": {
       "model_id": "b5be0b1bb1cf40b6b50e2c94f52060b8",
       "version_major": 2,
       "version_minor": 0
      },
      "text/plain": [
       "Button(description='Enter', style=ButtonStyle(), tooltip='Pick module')"
      ]
     },
     "metadata": {},
     "output_type": "display_data"
    },
    {
     "data": {
      "application/vnd.jupyter.widget-view+json": {
       "model_id": "07d0cdcb02814a6c88e1069190100d0c",
       "version_major": 2,
       "version_minor": 0
      },
      "text/plain": [
       "VBox()"
      ]
     },
     "metadata": {},
     "output_type": "display_data"
    },
    {
     "data": {
      "application/vnd.jupyter.widget-view+json": {
       "model_id": "34367cd8206c4bbfb410f485c66b2ddb",
       "version_major": 2,
       "version_minor": 0
      },
      "text/plain": [
       "Output()"
      ]
     },
     "metadata": {},
     "output_type": "display_data"
    }
   ],
   "source": [
    "from sbol import *\n",
    "import ipywidgets as widgets\n",
    "from IPython.display import clear_output, Markdown\n",
    "from addinginteractions import *\n",
    "\n",
    "module_names = [device_test_context.name, device_test.name, device.name]\n",
    "namesDictionary = {}\n",
    "customNameDictionary = {device_test_context.name: device_test_context,\n",
    "                        device_test.name: device_test,\n",
    "                        device.name: device}  # custom name : moduledefinition\n",
    "\n",
    "    \n",
    "moduleToAnnotate = widgets.Dropdown(\n",
    "    options=module_names,\n",
    "    description='Module:'\n",
    ")\n",
    "\n",
    "enterButton = widgets.Button(\n",
    "    description='Enter',\n",
    "    tooltip='Pick module'\n",
    ")\n",
    "\n",
    "interactionName = widgets.Text(\n",
    "    placeholder='Enter interaction name',\n",
    "    description='Name:',\n",
    "    style={'description_width': '125px'},\n",
    "    layout=widgets.Layout(width='450px')\n",
    ")\n",
    "\n",
    "interactionSelect = widgets.Dropdown(\n",
    "    options=typesInteractions,\n",
    "    description='Interaction:',\n",
    "    style={'description_width': '125px'},\n",
    "    layout=widgets.Layout(width='325px')\n",
    ")\n",
    "\n",
    "horizontalBox = widgets.HBox()  # for showing the components in each of the plasmids\n",
    "\n",
    "addInteraction = widgets.Button(\n",
    "    description='Add',\n",
    "    tooltip='Add interaction'\n",
    ")\n",
    "\n",
    "doneButton = widgets.Button(\n",
    "    description='Done',\n",
    "    tooltip='Finish adding interactions'\n",
    ")\n",
    "\n",
    "finalizeInteraction = widgets.Button(\n",
    "    description='Finalize',\n",
    "    tooltip='Finalize interaction'\n",
    ")\n",
    "\n",
    "messageBox = widgets.Output()\n",
    "\n",
    "interactionWidgets = widgets.VBox()\n",
    "interactionChildren = []\n",
    "\n",
    "participationWidgets = widgets.VBox()\n",
    "participationChildren = []\n",
    "\n",
    "display(moduleToAnnotate)\n",
    "display(enterButton)\n",
    "display(interactionWidgets)\n",
    "display(messageBox)\n",
    "\n",
    "@messageBox.capture()\n",
    "def printMessages(message):\n",
    "    clear_output()\n",
    "    print(message)\n",
    "\n",
    "def on_select(sender):    \n",
    "    global interactionChildren\n",
    "    \n",
    "    interactionName.value = ''\n",
    "    interactionSelect.value = None\n",
    "    \n",
    "    interactionChildren = []\n",
    "    interactionWidgets.children = interactionChildren   \n",
    "    \n",
    "    horizontalBox.children = createHBoxChildren(moduleToAnnotate.value, customNameDictionary, fcDictionary)\n",
    "    \n",
    "    interactionChildren.append(widgets.HTML('<br>'))\n",
    "    interactionChildren.append(interactionName)\n",
    "    interactionChildren.append(interactionSelect)\n",
    "    interactionChildren.append(widgets.HTML('<br>'))\n",
    "    interactionChildren.append(horizontalBox)\n",
    "    interactionChildren.append(widgets.HTML('<br>'))\n",
    "    interactionChildren.append(addInteraction)\n",
    "    \n",
    "    interactionWidgets.children = interactionChildren\n",
    "    \n",
    "participantDictionary = {} # fc display id : participation\n",
    "    \n",
    "def addInteractionResponder(sender):\n",
    "    if interactionSelect.value is None:\n",
    "        printMessages('You need an interaction type!')\n",
    "        return\n",
    "    printMessages('')\n",
    "    \n",
    "    participationChildren, selectedFC = createParticipationChildren(horizontalBox.children)\n",
    "    \n",
    "    try:\n",
    "        createInteraction(customNameDictionary,\n",
    "                      moduleToAnnotate.value,\n",
    "                      interactionName.value,\n",
    "                      interactionSelect.value,\n",
    "                      participantDictionary,\n",
    "                      selectedFC)\n",
    "    except:\n",
    "        printMessages(interactionName.value + ' already exists!')\n",
    "        return\n",
    "\n",
    "   \n",
    "    participationWidgets.children = participationChildren\n",
    "    \n",
    "    interactionChildren.append(widgets.HTML('<br>'))\n",
    "    interactionChildren.append(participationWidgets)\n",
    "    interactionChildren.append(finalizeInteraction)\n",
    "    interactionWidgets.children = interactionChildren\n",
    "    \n",
    "            \n",
    "\n",
    "def finalizeResponder(sender):\n",
    "    global interactionChildren, participationChildren\n",
    "    createMapsTos(doc, participationWidgets.children, participantDictionary, plasmidPartDictionary, addedPlasmidParts)\n",
    "                \n",
    "    interactionChildren = []\n",
    "    participationChildren = []\n",
    "    \n",
    "    interactionWidgets.children = interactionChildren\n",
    "    participationWidgets.children = participationChildren\n",
    "    \n",
    "    display(Javascript('IPython.notebook.execute_cell_range(IPython.notebook.get_selected_index()+1, IPython.notebook.ncells())'))\n",
    "    printMessages('Success!')\n",
    "\n",
    "\n",
    "enterButton.on_click(on_select)\n",
    "addInteraction.on_click(addInteractionResponder)\n",
    "finalizeInteraction.on_click(finalizeResponder)\n"
   ]
  },
  {
   "cell_type": "markdown",
   "metadata": {},
   "source": [
    "# Modules"
   ]
  },
  {
   "cell_type": "code",
   "execution_count": 33,
   "metadata": {
    "init_cell": true
   },
   "outputs": [
    {
     "data": {
      "application/vnd.jupyter.widget-view+json": {
       "model_id": "1fb0d4556ae34b0ea3ffaed9788042ee",
       "version_major": 2,
       "version_minor": 0
      },
      "text/plain": [
       "Accordion(children=(VBox(children=(HTML(value='<b><h5>(Device-Test-Context)</h5></b><u><dt>Modules</dt></u><dd…"
      ]
     },
     "metadata": {},
     "output_type": "display_data"
    }
   ],
   "source": [
    "from sbol import *\n",
    "import ipywidgets as widgets\n",
    "from IPython.display import clear_output, Markdown\n",
    "from displaymoduledefinitions import createParentAccordion\n",
    "\n",
    "modules = [device_test_context, device_test, device]\n",
    "accordion = createParentAccordion(modules, modulesDictionary)\n",
    "\n",
    "display(accordion)\n"
   ]
  },
  {
   "cell_type": "markdown",
   "metadata": {},
   "source": [
    "# Upload to SynBioHub\n",
    "To upload to SynBioHub:\n",
    "1. Enter your username and password (you need to have an account to upload).\n",
    "2. Enter a name, description, and version for the Collection.\n",
    "3. Press Submit."
   ]
  },
  {
   "cell_type": "code",
   "execution_count": 34,
   "metadata": {
    "init_cell": true
   },
   "outputs": [
    {
     "data": {
      "application/vnd.jupyter.widget-view+json": {
       "model_id": "0bee1a4d42bb486caaec6db0e189e4df",
       "version_major": 2,
       "version_minor": 0
      },
      "text/plain": [
       "HTML(value='<font size=\"4\"><b>Login to SynBioHub</b></font>')"
      ]
     },
     "metadata": {},
     "output_type": "display_data"
    },
    {
     "data": {
      "application/vnd.jupyter.widget-view+json": {
       "model_id": "9570f3e21a9342619e5997713fc183a9",
       "version_major": 2,
       "version_minor": 0
      },
      "text/plain": [
       "Text(value='', description='Email:', placeholder='Enter email')"
      ]
     },
     "metadata": {},
     "output_type": "display_data"
    },
    {
     "data": {
      "application/vnd.jupyter.widget-view+json": {
       "model_id": "fcd51280189048618f1b732ca29509cc",
       "version_major": 2,
       "version_minor": 0
      },
      "text/plain": [
       "Password(description='Password:', placeholder='Enter password')"
      ]
     },
     "metadata": {},
     "output_type": "display_data"
    },
    {
     "data": {
      "application/vnd.jupyter.widget-view+json": {
       "model_id": "dc3e7beacda048c78943a5372e740031",
       "version_major": 2,
       "version_minor": 0
      },
      "text/plain": [
       "Button(description='Login', style=ButtonStyle(), tooltip='Login to SynBioHub')"
      ]
     },
     "metadata": {},
     "output_type": "display_data"
    },
    {
     "data": {
      "application/vnd.jupyter.widget-view+json": {
       "model_id": "9ceee041e43842299f8b75df1e6abd0b",
       "version_major": 2,
       "version_minor": 0
      },
      "text/plain": [
       "Output()"
      ]
     },
     "metadata": {},
     "output_type": "display_data"
    },
    {
     "data": {
      "application/vnd.jupyter.widget-view+json": {
       "model_id": "b73c88cf095344d397aa5e6fc042c53a",
       "version_major": 2,
       "version_minor": 0
      },
      "text/plain": [
       "HTML(value='<font size=\"4\"><b>Enter Name, Description, and Version</b></font>')"
      ]
     },
     "metadata": {},
     "output_type": "display_data"
    },
    {
     "data": {
      "application/vnd.jupyter.widget-view+json": {
       "model_id": "4853e9fb0a544220a6a14be6d8c80237",
       "version_major": 2,
       "version_minor": 0
      },
      "text/plain": [
       "Text(value='', description='Name:', placeholder='Enter name')"
      ]
     },
     "metadata": {},
     "output_type": "display_data"
    },
    {
     "data": {
      "application/vnd.jupyter.widget-view+json": {
       "model_id": "facb6c3b03cf46fc83f3881e65ed129a",
       "version_major": 2,
       "version_minor": 0
      },
      "text/plain": [
       "Text(value='', description='Description:', placeholder='Enter description')"
      ]
     },
     "metadata": {},
     "output_type": "display_data"
    },
    {
     "data": {
      "application/vnd.jupyter.widget-view+json": {
       "model_id": "3c524bdb35ac47e69011012c7e920e82",
       "version_major": 2,
       "version_minor": 0
      },
      "text/plain": [
       "Text(value='', description='Version:', placeholder='Enter version')"
      ]
     },
     "metadata": {},
     "output_type": "display_data"
    },
    {
     "data": {
      "application/vnd.jupyter.widget-view+json": {
       "model_id": "a86d5916d47d4d719d6bbf79bea92305",
       "version_major": 2,
       "version_minor": 0
      },
      "text/plain": [
       "Button(description='Submit', style=ButtonStyle(), tooltip='Submit annotated Document')"
      ]
     },
     "metadata": {},
     "output_type": "display_data"
    },
    {
     "data": {
      "application/vnd.jupyter.widget-view+json": {
       "model_id": "4ce94e4b35564d63a3bb71bdced572cf",
       "version_major": 2,
       "version_minor": 0
      },
      "text/plain": [
       "Output()"
      ]
     },
     "metadata": {},
     "output_type": "display_data"
    }
   ],
   "source": [
    "from sbol import *\n",
    "import ipywidgets as widgets\n",
    "from IPython.display import clear_output, Markdown\n",
    "\n",
    "loginLabel = widgets.HTML('<font size=\"4\"><b>Login to SynBioHub</b></font>')\n",
    "\n",
    "usernameField = widgets.componentName = widgets.Text(\n",
    "    value = '',\n",
    "    placeholder = 'Enter email',\n",
    "    description = 'Email:',\n",
    "    disabled = False,\n",
    ")\n",
    "\n",
    "passwordField = widgets.Password(description = 'Password:', placeholder = 'Enter password')\n",
    "\n",
    "loginButton = widgets.Button(\n",
    "    description = 'Login',\n",
    "    disabled = False,\n",
    "    button_style = '',\n",
    "    tooltip = 'Login to SynBioHub',\n",
    "    icon = ''\n",
    ")\n",
    "\n",
    "loginMessageBox = widgets.Output()\n",
    "\n",
    "submitButton = widgets.Button(\n",
    "    description = 'Submit',\n",
    "    disabled = False,\n",
    "    button_style = '',\n",
    "    tooltip = 'Submit annotated Document',\n",
    "    icon = ''\n",
    ")\n",
    "\n",
    "errorBox = widgets.Output()\n",
    "\n",
    "# Name = Display Id\n",
    "propertiesLabel = widgets.HTML('<font size=\"4\"><b>Enter Name, Description, and Version</b></font>')\n",
    "\n",
    "docName = widgets.componentName = widgets.Text(\n",
    "    value = '',\n",
    "    placeholder = 'Enter name',\n",
    "    description = 'Name:',\n",
    "    disabled = False,\n",
    ")\n",
    "\n",
    "docDescription = widgets.componentName = widgets.Text(\n",
    "    value = '',\n",
    "    placeholder = 'Enter description',\n",
    "    description = 'Description:',\n",
    "    disabled = False,\n",
    ")\n",
    "\n",
    "docVersion = widgets.componentName = widgets.Text(\n",
    "    value = '',\n",
    "    placeholder = 'Enter version',\n",
    "    description = 'Version:',\n",
    "    disabled = False,\n",
    ")\n",
    "\n",
    "display(loginLabel)\n",
    "display(usernameField)\n",
    "display(passwordField)\n",
    "display(loginButton)\n",
    "display(loginMessageBox)\n",
    "display(propertiesLabel)\n",
    "display(docName)\n",
    "display(docDescription)\n",
    "display(docVersion)\n",
    "display(submitButton)\n",
    "display(errorBox)\n",
    "\n",
    "sbh = PartShop('https://synbiohub.org')\n",
    "\n",
    "@loginMessageBox.capture()\n",
    "def loginSBH(sender):\n",
    "    clear_output()\n",
    "    if usernameField.value == '':\n",
    "        print('You need a username!')\n",
    "        return\n",
    "    if passwordField.value == '':\n",
    "        print('You need a password!')\n",
    "        return\n",
    "    \n",
    "    sbh.login(usernameField.value, passwordField.value)\n",
    "    message = sbh.submit(Document())\n",
    "    \n",
    "    if message == 'Login required':\n",
    "        print('Incorrect login!')\n",
    "    else:\n",
    "        print('Logged in!')\n",
    "\n",
    "@errorBox.capture()\n",
    "def submitSBH(sender):\n",
    "    clear_output()\n",
    "    if docName.value == '':\n",
    "        print('You need a name for the Collection!')\n",
    "        return\n",
    "    if docDescription.value == '':\n",
    "        print('You need a description for the Collection!')\n",
    "        return\n",
    "    if docVersion.value == '':\n",
    "        print('You need a version for this Collection!')\n",
    "        return\n",
    "    \n",
    "    doc.displayId = docName.value\n",
    "    doc.name = docName.value\n",
    "    doc.description = docDescription.value\n",
    "    doc.version = docVersion.value\n",
    "\n",
    "    message = sbh.submit(doc)\n",
    "    \n",
    "    print(message)\n",
    "\n",
    "loginButton.on_click(loginSBH)\n",
    "submitButton.on_click(submitSBH)"
   ]
  },
  {
   "cell_type": "code",
   "execution_count": 35,
   "metadata": {},
   "outputs": [],
   "source": [
    "# THIS CODE BLOCK IS JUST TO TEST RANDOM VARIABLES AND SUCH\n",
    "\n",
    "\n",
    "# for i in device_test_context.functionalComponents:\n",
    "#     print(i.displayId)\n",
    "    \n",
    "# doc.write('whatisthat.xml')\n",
    "# print(doc)\n",
    "\n",
    "# customNameDictionary\n",
    "\n",
    "# device.functionalComponents.clear()\n",
    "# device_test.functionalComponents.clear()\n",
    "# device_test_context.functionalComponents.clear()\n",
    "# for i in participationWidgets.children:\n",
    "#     print(i.value)\n",
    "\n",
    "# dtcListWidget = selectedLists[0]\n",
    "# for i in dtcListWidget.options:\n",
    "#     print(i)\n",
    "# for i in device.functionalComponents:\n",
    "#     print(i)\n",
    "    \n",
    "# for i in selectedLists[2].options:\n",
    "#     print(i)\n",
    "\n",
    "# print(cdDisplayIDMap)\n",
    "\n",
    "# print(participantDictionary)\n",
    "# foo"
   ]
  }
 ],
 "metadata": {
  "celltoolbar": "Initialization Cell",
  "kernelspec": {
   "display_name": "Python 3",
   "language": "python",
   "name": "python3"
  },
  "language_info": {
   "codemirror_mode": {
    "name": "ipython",
    "version": 3
   },
   "file_extension": ".py",
   "mimetype": "text/x-python",
   "name": "python",
   "nbconvert_exporter": "python",
   "pygments_lexer": "ipython3",
   "version": "3.7.3"
  }
 },
 "nbformat": 4,
 "nbformat_minor": 2
}
